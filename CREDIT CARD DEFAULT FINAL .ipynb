{
 "cells": [
  {
   "cell_type": "markdown",
   "id": "4de2945a",
   "metadata": {},
   "source": [
    "# Predicting the credit card default"
   ]
  },
  {
   "cell_type": "code",
   "execution_count": 1,
   "id": "d34f2f00",
   "metadata": {},
   "outputs": [
    {
     "name": "stdout",
     "output_type": "stream",
     "text": [
      "C:\\Users\\sharv\\Desktop\\Data\n"
     ]
    }
   ],
   "source": [
    " cd C:\\Users\\sharv\\Desktop\\Data"
   ]
  },
  {
   "cell_type": "markdown",
   "id": "87ed6caa",
   "metadata": {},
   "source": [
    "Default in terms of banking means whether a person will miss the next payment or not.This payment maybe related to loan, credit card etc.Defaults occur when a borrower stops making the  required payment on debts.It negatively impacts the ability to borrow money from banks"
   ]
  },
  {
   "cell_type": "markdown",
   "id": "d7569ab6",
   "metadata": {},
   "source": [
    "# Dataset description"
   ]
  },
  {
   "cell_type": "markdown",
   "id": "2ccd9dee",
   "metadata": {},
   "source": [
    "This dataset contains information on default payments, demographic factors, credit data, history of payment, and bill statements of credit card clients in Taiwan from April 2005 to September 2005."
   ]
  },
  {
   "cell_type": "markdown",
   "id": "4696de5b",
   "metadata": {},
   "source": [
    "Kaggle DATA:"
   ]
  },
  {
   "cell_type": "markdown",
   "id": "528b79e0",
   "metadata": {},
   "source": [
    "There are 25 variables:\n",
    "\n",
    "ID: ID of each client\n",
    "\n",
    "LIMIT_BAL: Amount of given credit in NT dollars (includes individual and family/supplementary credit\n",
    "\n",
    "SEX: Gender (1=male, 2=female)\n",
    "\n",
    "EDUCATION: (1=graduate school, 2=university, 3=high school, 4=others, 5=unknown, 6=unknown)\n",
    "\n",
    "MARRIAGE: Marital status (1=married, 2=single, 3=others)\n",
    "\n",
    "\n",
    "AGE: Age in years\n",
    "\n",
    "PAY_0: Repayment status in September, 2005 (-1=pay duly, 1=payment delay for one month, 2=payment delay for two months, … 8=payment delay for eight months, 9=payment delay for nine months and above)\n",
    "\n",
    "PAY_2: Repayment status in August, 2005 (scale same as above)\n",
    "\n",
    "PAY_3: Repayment status in July, 2005 (scale same as above)\n",
    "\n",
    "PAY_4: Repayment status in June, 2005 (scale same as above)\n",
    "\n",
    "PAY_5: Repayment status in May, 2005 (scale same as above)\n",
    "\n",
    "PAY_6: Repayment status in April, 2005 (scale same as above)\n",
    "\n",
    "BILL_AMT1: Amount of bill statement in September, 2005 (NT dollar)\n",
    "\n",
    "BILL_AMT2: Amount of bill statement in August, 2005 (NT dollar)\n",
    "\n",
    "BILL_AMT3: Amount of bill statement in July, 2005 (NT dollar)\n",
    "\n",
    "BILL_AMT4: Amount of bill statement in June, 2005 (NT dollar)\n",
    "\n",
    "BILL_AMT5: Amount of bill statement in May, 2005 (NT dollar)\n",
    "\n",
    "BILL_AMT6: Amount of bill statement in April, 2005 (NT dollar)\n",
    "\n",
    "PAY_AMT1: Amount of previous payment in September, 2005 (NT dollar)\n",
    "\n",
    "PAY_AMT2: Amount of previous payment in August, 2005 (NT dollar)\n",
    "\n",
    "PAY_AMT3: Amount of previous payment in July, 2005 (NT dollar)\n",
    "\n",
    "PAY_AMT4: Amount of previous payment in June, 2005 (NT dollar)\n",
    "\n",
    "PAY_AMT5: Amount of previous payment in May, 2005 (NT dollar)\n",
    "\n",
    "PAY_AMT6: Amount of previous payment in April, 2005 (NT dollar)\n",
    "\n",
    "default.payment.next.month: Default payment (1=yes, 0=no)"
   ]
  },
  {
   "cell_type": "markdown",
   "id": "b527cdbc",
   "metadata": {},
   "source": [
    "## Goal:Finding out what is the chance of a particular customer getting defaulted out of 30,000 people."
   ]
  },
  {
   "cell_type": "code",
   "execution_count": 8,
   "id": "ace0bee7",
   "metadata": {},
   "outputs": [
    {
     "data": {
      "text/html": [
       "<div>\n",
       "<style scoped>\n",
       "    .dataframe tbody tr th:only-of-type {\n",
       "        vertical-align: middle;\n",
       "    }\n",
       "\n",
       "    .dataframe tbody tr th {\n",
       "        vertical-align: top;\n",
       "    }\n",
       "\n",
       "    .dataframe thead th {\n",
       "        text-align: right;\n",
       "    }\n",
       "</style>\n",
       "<table border=\"1\" class=\"dataframe\">\n",
       "  <thead>\n",
       "    <tr style=\"text-align: right;\">\n",
       "      <th></th>\n",
       "      <th>ID</th>\n",
       "      <th>LIMIT_BAL</th>\n",
       "      <th>SEX</th>\n",
       "      <th>EDUCATION</th>\n",
       "      <th>MARRIAGE</th>\n",
       "      <th>AGE</th>\n",
       "      <th>PAY_0</th>\n",
       "      <th>PAY_2</th>\n",
       "      <th>PAY_3</th>\n",
       "      <th>PAY_4</th>\n",
       "      <th>...</th>\n",
       "      <th>BILL_AMT4</th>\n",
       "      <th>BILL_AMT5</th>\n",
       "      <th>BILL_AMT6</th>\n",
       "      <th>PAY_AMT1</th>\n",
       "      <th>PAY_AMT2</th>\n",
       "      <th>PAY_AMT3</th>\n",
       "      <th>PAY_AMT4</th>\n",
       "      <th>PAY_AMT5</th>\n",
       "      <th>PAY_AMT6</th>\n",
       "      <th>default.payment.next.month</th>\n",
       "    </tr>\n",
       "  </thead>\n",
       "  <tbody>\n",
       "    <tr>\n",
       "      <th>0</th>\n",
       "      <td>1</td>\n",
       "      <td>20000.0</td>\n",
       "      <td>2</td>\n",
       "      <td>2</td>\n",
       "      <td>1</td>\n",
       "      <td>24</td>\n",
       "      <td>2</td>\n",
       "      <td>2</td>\n",
       "      <td>-1</td>\n",
       "      <td>-1</td>\n",
       "      <td>...</td>\n",
       "      <td>0.0</td>\n",
       "      <td>0.0</td>\n",
       "      <td>0.0</td>\n",
       "      <td>0.0</td>\n",
       "      <td>689.0</td>\n",
       "      <td>0.0</td>\n",
       "      <td>0.0</td>\n",
       "      <td>0.0</td>\n",
       "      <td>0.0</td>\n",
       "      <td>1</td>\n",
       "    </tr>\n",
       "    <tr>\n",
       "      <th>1</th>\n",
       "      <td>2</td>\n",
       "      <td>120000.0</td>\n",
       "      <td>2</td>\n",
       "      <td>2</td>\n",
       "      <td>2</td>\n",
       "      <td>26</td>\n",
       "      <td>-1</td>\n",
       "      <td>2</td>\n",
       "      <td>0</td>\n",
       "      <td>0</td>\n",
       "      <td>...</td>\n",
       "      <td>3272.0</td>\n",
       "      <td>3455.0</td>\n",
       "      <td>3261.0</td>\n",
       "      <td>0.0</td>\n",
       "      <td>1000.0</td>\n",
       "      <td>1000.0</td>\n",
       "      <td>1000.0</td>\n",
       "      <td>0.0</td>\n",
       "      <td>2000.0</td>\n",
       "      <td>1</td>\n",
       "    </tr>\n",
       "    <tr>\n",
       "      <th>2</th>\n",
       "      <td>3</td>\n",
       "      <td>90000.0</td>\n",
       "      <td>2</td>\n",
       "      <td>2</td>\n",
       "      <td>2</td>\n",
       "      <td>34</td>\n",
       "      <td>0</td>\n",
       "      <td>0</td>\n",
       "      <td>0</td>\n",
       "      <td>0</td>\n",
       "      <td>...</td>\n",
       "      <td>14331.0</td>\n",
       "      <td>14948.0</td>\n",
       "      <td>15549.0</td>\n",
       "      <td>1518.0</td>\n",
       "      <td>1500.0</td>\n",
       "      <td>1000.0</td>\n",
       "      <td>1000.0</td>\n",
       "      <td>1000.0</td>\n",
       "      <td>5000.0</td>\n",
       "      <td>0</td>\n",
       "    </tr>\n",
       "    <tr>\n",
       "      <th>3</th>\n",
       "      <td>4</td>\n",
       "      <td>50000.0</td>\n",
       "      <td>2</td>\n",
       "      <td>2</td>\n",
       "      <td>1</td>\n",
       "      <td>37</td>\n",
       "      <td>0</td>\n",
       "      <td>0</td>\n",
       "      <td>0</td>\n",
       "      <td>0</td>\n",
       "      <td>...</td>\n",
       "      <td>28314.0</td>\n",
       "      <td>28959.0</td>\n",
       "      <td>29547.0</td>\n",
       "      <td>2000.0</td>\n",
       "      <td>2019.0</td>\n",
       "      <td>1200.0</td>\n",
       "      <td>1100.0</td>\n",
       "      <td>1069.0</td>\n",
       "      <td>1000.0</td>\n",
       "      <td>0</td>\n",
       "    </tr>\n",
       "    <tr>\n",
       "      <th>4</th>\n",
       "      <td>5</td>\n",
       "      <td>50000.0</td>\n",
       "      <td>1</td>\n",
       "      <td>2</td>\n",
       "      <td>1</td>\n",
       "      <td>57</td>\n",
       "      <td>-1</td>\n",
       "      <td>0</td>\n",
       "      <td>-1</td>\n",
       "      <td>0</td>\n",
       "      <td>...</td>\n",
       "      <td>20940.0</td>\n",
       "      <td>19146.0</td>\n",
       "      <td>19131.0</td>\n",
       "      <td>2000.0</td>\n",
       "      <td>36681.0</td>\n",
       "      <td>10000.0</td>\n",
       "      <td>9000.0</td>\n",
       "      <td>689.0</td>\n",
       "      <td>679.0</td>\n",
       "      <td>0</td>\n",
       "    </tr>\n",
       "    <tr>\n",
       "      <th>...</th>\n",
       "      <td>...</td>\n",
       "      <td>...</td>\n",
       "      <td>...</td>\n",
       "      <td>...</td>\n",
       "      <td>...</td>\n",
       "      <td>...</td>\n",
       "      <td>...</td>\n",
       "      <td>...</td>\n",
       "      <td>...</td>\n",
       "      <td>...</td>\n",
       "      <td>...</td>\n",
       "      <td>...</td>\n",
       "      <td>...</td>\n",
       "      <td>...</td>\n",
       "      <td>...</td>\n",
       "      <td>...</td>\n",
       "      <td>...</td>\n",
       "      <td>...</td>\n",
       "      <td>...</td>\n",
       "      <td>...</td>\n",
       "      <td>...</td>\n",
       "    </tr>\n",
       "    <tr>\n",
       "      <th>29995</th>\n",
       "      <td>29996</td>\n",
       "      <td>220000.0</td>\n",
       "      <td>1</td>\n",
       "      <td>3</td>\n",
       "      <td>1</td>\n",
       "      <td>39</td>\n",
       "      <td>0</td>\n",
       "      <td>0</td>\n",
       "      <td>0</td>\n",
       "      <td>0</td>\n",
       "      <td>...</td>\n",
       "      <td>88004.0</td>\n",
       "      <td>31237.0</td>\n",
       "      <td>15980.0</td>\n",
       "      <td>8500.0</td>\n",
       "      <td>20000.0</td>\n",
       "      <td>5003.0</td>\n",
       "      <td>3047.0</td>\n",
       "      <td>5000.0</td>\n",
       "      <td>1000.0</td>\n",
       "      <td>0</td>\n",
       "    </tr>\n",
       "    <tr>\n",
       "      <th>29996</th>\n",
       "      <td>29997</td>\n",
       "      <td>150000.0</td>\n",
       "      <td>1</td>\n",
       "      <td>3</td>\n",
       "      <td>2</td>\n",
       "      <td>43</td>\n",
       "      <td>-1</td>\n",
       "      <td>-1</td>\n",
       "      <td>-1</td>\n",
       "      <td>-1</td>\n",
       "      <td>...</td>\n",
       "      <td>8979.0</td>\n",
       "      <td>5190.0</td>\n",
       "      <td>0.0</td>\n",
       "      <td>1837.0</td>\n",
       "      <td>3526.0</td>\n",
       "      <td>8998.0</td>\n",
       "      <td>129.0</td>\n",
       "      <td>0.0</td>\n",
       "      <td>0.0</td>\n",
       "      <td>0</td>\n",
       "    </tr>\n",
       "    <tr>\n",
       "      <th>29997</th>\n",
       "      <td>29998</td>\n",
       "      <td>30000.0</td>\n",
       "      <td>1</td>\n",
       "      <td>2</td>\n",
       "      <td>2</td>\n",
       "      <td>37</td>\n",
       "      <td>4</td>\n",
       "      <td>3</td>\n",
       "      <td>2</td>\n",
       "      <td>-1</td>\n",
       "      <td>...</td>\n",
       "      <td>20878.0</td>\n",
       "      <td>20582.0</td>\n",
       "      <td>19357.0</td>\n",
       "      <td>0.0</td>\n",
       "      <td>0.0</td>\n",
       "      <td>22000.0</td>\n",
       "      <td>4200.0</td>\n",
       "      <td>2000.0</td>\n",
       "      <td>3100.0</td>\n",
       "      <td>1</td>\n",
       "    </tr>\n",
       "    <tr>\n",
       "      <th>29998</th>\n",
       "      <td>29999</td>\n",
       "      <td>80000.0</td>\n",
       "      <td>1</td>\n",
       "      <td>3</td>\n",
       "      <td>1</td>\n",
       "      <td>41</td>\n",
       "      <td>1</td>\n",
       "      <td>-1</td>\n",
       "      <td>0</td>\n",
       "      <td>0</td>\n",
       "      <td>...</td>\n",
       "      <td>52774.0</td>\n",
       "      <td>11855.0</td>\n",
       "      <td>48944.0</td>\n",
       "      <td>85900.0</td>\n",
       "      <td>3409.0</td>\n",
       "      <td>1178.0</td>\n",
       "      <td>1926.0</td>\n",
       "      <td>52964.0</td>\n",
       "      <td>1804.0</td>\n",
       "      <td>1</td>\n",
       "    </tr>\n",
       "    <tr>\n",
       "      <th>29999</th>\n",
       "      <td>30000</td>\n",
       "      <td>50000.0</td>\n",
       "      <td>1</td>\n",
       "      <td>2</td>\n",
       "      <td>1</td>\n",
       "      <td>46</td>\n",
       "      <td>0</td>\n",
       "      <td>0</td>\n",
       "      <td>0</td>\n",
       "      <td>0</td>\n",
       "      <td>...</td>\n",
       "      <td>36535.0</td>\n",
       "      <td>32428.0</td>\n",
       "      <td>15313.0</td>\n",
       "      <td>2078.0</td>\n",
       "      <td>1800.0</td>\n",
       "      <td>1430.0</td>\n",
       "      <td>1000.0</td>\n",
       "      <td>1000.0</td>\n",
       "      <td>1000.0</td>\n",
       "      <td>1</td>\n",
       "    </tr>\n",
       "  </tbody>\n",
       "</table>\n",
       "<p>30000 rows × 25 columns</p>\n",
       "</div>"
      ],
      "text/plain": [
       "          ID  LIMIT_BAL  SEX  EDUCATION  MARRIAGE  AGE  PAY_0  PAY_2  PAY_3  \\\n",
       "0          1    20000.0    2          2         1   24      2      2     -1   \n",
       "1          2   120000.0    2          2         2   26     -1      2      0   \n",
       "2          3    90000.0    2          2         2   34      0      0      0   \n",
       "3          4    50000.0    2          2         1   37      0      0      0   \n",
       "4          5    50000.0    1          2         1   57     -1      0     -1   \n",
       "...      ...        ...  ...        ...       ...  ...    ...    ...    ...   \n",
       "29995  29996   220000.0    1          3         1   39      0      0      0   \n",
       "29996  29997   150000.0    1          3         2   43     -1     -1     -1   \n",
       "29997  29998    30000.0    1          2         2   37      4      3      2   \n",
       "29998  29999    80000.0    1          3         1   41      1     -1      0   \n",
       "29999  30000    50000.0    1          2         1   46      0      0      0   \n",
       "\n",
       "       PAY_4  ...  BILL_AMT4  BILL_AMT5  BILL_AMT6  PAY_AMT1  PAY_AMT2  \\\n",
       "0         -1  ...        0.0        0.0        0.0       0.0     689.0   \n",
       "1          0  ...     3272.0     3455.0     3261.0       0.0    1000.0   \n",
       "2          0  ...    14331.0    14948.0    15549.0    1518.0    1500.0   \n",
       "3          0  ...    28314.0    28959.0    29547.0    2000.0    2019.0   \n",
       "4          0  ...    20940.0    19146.0    19131.0    2000.0   36681.0   \n",
       "...      ...  ...        ...        ...        ...       ...       ...   \n",
       "29995      0  ...    88004.0    31237.0    15980.0    8500.0   20000.0   \n",
       "29996     -1  ...     8979.0     5190.0        0.0    1837.0    3526.0   \n",
       "29997     -1  ...    20878.0    20582.0    19357.0       0.0       0.0   \n",
       "29998      0  ...    52774.0    11855.0    48944.0   85900.0    3409.0   \n",
       "29999      0  ...    36535.0    32428.0    15313.0    2078.0    1800.0   \n",
       "\n",
       "       PAY_AMT3  PAY_AMT4  PAY_AMT5  PAY_AMT6  default.payment.next.month  \n",
       "0           0.0       0.0       0.0       0.0                           1  \n",
       "1        1000.0    1000.0       0.0    2000.0                           1  \n",
       "2        1000.0    1000.0    1000.0    5000.0                           0  \n",
       "3        1200.0    1100.0    1069.0    1000.0                           0  \n",
       "4       10000.0    9000.0     689.0     679.0                           0  \n",
       "...         ...       ...       ...       ...                         ...  \n",
       "29995    5003.0    3047.0    5000.0    1000.0                           0  \n",
       "29996    8998.0     129.0       0.0       0.0                           0  \n",
       "29997   22000.0    4200.0    2000.0    3100.0                           1  \n",
       "29998    1178.0    1926.0   52964.0    1804.0                           1  \n",
       "29999    1430.0    1000.0    1000.0    1000.0                           1  \n",
       "\n",
       "[30000 rows x 25 columns]"
      ]
     },
     "execution_count": 8,
     "metadata": {},
     "output_type": "execute_result"
    }
   ],
   "source": [
    "import pandas as pd\n",
    "import numpy as np\n",
    "\n",
    "df = pd.read_csv('UCI_Credit_Card.csv')\n",
    "df"
   ]
  },
  {
   "cell_type": "code",
   "execution_count": 9,
   "id": "4d76fb66",
   "metadata": {},
   "outputs": [
    {
     "data": {
      "text/plain": [
       "0    23364\n",
       "1     6636\n",
       "Name: default.payment.next.month, dtype: int64"
      ]
     },
     "execution_count": 9,
     "metadata": {},
     "output_type": "execute_result"
    }
   ],
   "source": [
    "y=df['default.payment.next.month'].value_counts()\n",
    "y"
   ]
  },
  {
   "cell_type": "code",
   "execution_count": 10,
   "id": "31c9249b",
   "metadata": {},
   "outputs": [
    {
     "name": "stdout",
     "output_type": "stream",
     "text": [
      "3.5.2\n"
     ]
    }
   ],
   "source": [
    "import matplotlib\n",
    "print(matplotlib.__version__)"
   ]
  },
  {
   "cell_type": "code",
   "execution_count": 11,
   "id": "d9a7bae7",
   "metadata": {},
   "outputs": [
    {
     "data": {
      "image/png": "[encoded data removed]",
      "text/plain": [
       "<Figure size 640x480 with 1 Axes>"
      ]
     },
     "metadata": {},
     "output_type": "display_data"
    }
   ],
   "source": [
    "import matplotlib.pyplot as plt\n",
    "imbal=df['default.payment.next.month'].value_counts().plot(kind='bar')"
   ]
  },
  {
   "cell_type": "markdown",
   "id": "1e62f454",
   "metadata": {},
   "source": [
    "This shows that the dataset is imabalanced.\n",
    "no. of customers that have default payment next mon=6636\n",
    "no. of customers that  do not have default payment next mon=23364"
   ]
  },
  {
   "cell_type": "markdown",
   "id": "62fecb25",
   "metadata": {},
   "source": [
    "# Dealing with class imbalance"
   ]
  },
  {
   "cell_type": "markdown",
   "id": "464b51a0",
   "metadata": {},
   "source": [
    "Over sampling(same values are duplicated so if there is outlier in the row that gets duplicated as well) or upsampling can lead to overfitiing of noise.\n",
    "\n",
    "Under sampling or down sampling can cause loss of information or underfitting.\n",
    "\n",
    "SMOTE(Synthetic Minority Oversampling Technique) which is smart oversampling reduces the issue of overfiiting in oversampling method.SMOTE creates the closer values of the current available values for new samples that needs to be added like knn.To create new samples in smote the logic is as joining 2 points of same class from a dataset and creating new points on the lines.Thus, smote connects the lines that is joined using same feature space (same class in space) and picks the points inside the feature space.It relates to section formula in Maths that says if you have a line between 2 pts you can choose the points on the line. that connects the feature space.So in smote you are not getting the exact same pts as it does in oversampling.Here the points are similar to the nearest neighbours and there is low probability of overfitting and the values selected are close to real values.Smote can be only used when you have a separable data. When the values of the data in different classess say dots and crossess are very close and dense smote does not perform well.It is important to scale the variables before using smote as it is a distance based formula.\n",
    "\n",
    "There is a better way instead of using downsampling as well.We can use smart down sampling in which instead of randomly missing out the rows from dataset, we will cluster them in majority class.Then the cluster center of the clusters are calculated and then instead of keeping any of the individual rows you keep than cluster center.So all the attributes for cluster centers are calculated."
   ]
  },
  {
   "cell_type": "markdown",
   "id": "0e114dd7",
   "metadata": {},
   "source": [
    "https://iq.opengenus.org/smote-for-imbalanced-dataset/"
   ]
  },
  {
   "cell_type": "markdown",
   "id": "c8efa695",
   "metadata": {},
   "source": [
    "To be able to call a data as imbalanced there is no rule.\n",
    "But data that has 35 % or less then can be said as imbalanced in case of small datasets but in larger dataset this value can be till 20 % .It is imp to note that the main idea is to give the model enough data to learn."
   ]
  },
  {
   "cell_type": "markdown",
   "id": "eff2fb9c",
   "metadata": {},
   "source": [
    "To decide which sampling method to use there is no rule but we can try all the methods that is over/smote and undersampling and the one that gives better accuracy is selected."
   ]
  },
  {
   "cell_type": "markdown",
   "id": "52abf4b9",
   "metadata": {},
   "source": [
    "To solve all the problems most of the models apply a one vs rest approach for multiclass classification.Similarly for  imbalanced dataset with multiclass classification,create separate dataset for eg gor 3 classes 3 datasets are created and then apply the class imbalance technique. "
   ]
  },
  {
   "cell_type": "markdown",
   "id": "4bed1022",
   "metadata": {},
   "source": [
    "After EDA(missing,NaN values etc.) ,preprocessing and dataset imbalanced is checked."
   ]
  },
  {
   "cell_type": "markdown",
   "id": "fa3974ba",
   "metadata": {},
   "source": [
    "# Feature Engineering"
   ]
  },
  {
   "cell_type": "markdown",
   "id": "6e3c1df0",
   "metadata": {},
   "source": [
    "This involves p-values,hypothesis testing,feature importance matrix(for tree based models specially),RFE(recursive feature elimination).RFE is trying the elimination of different features and see how differently the model performs and select the combination of features that give best results.But RFE does not work for multicolinearity of models as it gets difficult to predict which variables perform better than the other.So for basic models(linear models,logistic regression,basic statistical models) the p-values ,hypothesis testing ,RFE (if the dataset is colinear) does not work and these tests are not valid.RFs and DT performs good in RFE.Regularization technques can also be used."
   ]
  },
  {
   "cell_type": "markdown",
   "id": "9f81ab4a",
   "metadata": {},
   "source": [
    "# Creating new variables/attributes"
   ]
  },
  {
   "cell_type": "markdown",
   "id": "908144f3",
   "metadata": {},
   "source": [
    "It is very specific to the problem that you deal with.Tnteraction effects are the effects that occur when 2 variables react with each other.If there is a biological information that you need to convey to model then we use this.We create a statistical interaction effect.For eg. we want to tell our model that the smokers and the gender are related when it comes to affecting due to cancer.So to tell this the data in field of smokers and gender is multiplied or create if else conditions to exactly convey ur results and a new field / variable is created/ label encoding can also be done using unique variables and while training the model this new variable is also given along with the original dataset.Polynomial features can also be used."
   ]
  },
  {
   "cell_type": "markdown",
   "id": "d7313444",
   "metadata": {},
   "source": [
    "# How to evaluate a model for imbalanced dataset"
   ]
  },
  {
   "cell_type": "markdown",
   "id": "4b4d7312",
   "metadata": {},
   "source": [
    "1. Confusion matrix:  Precision,recall,f1 score.\n",
    "      \n",
    "     Misclassification Accuracy/Accuracy cannot be used for imbalanced dataset as we know that the underlying data is imbalanced.So you dont trust on misclassification accuracy because it can be still biased with the majority class as the imbalnced data problem is handled with up/down sampling and in  simple upsampling  we directly duplicate the values .The test data is not sampled and treated. So the accuracy does not make sense.You should always test your models on the imbalnced version and not on the balanced version of the data."
   ]
  },
  {
   "cell_type": "markdown",
   "id": "755a2079",
   "metadata": {},
   "source": [
    "2. Mathews Corelation coefficient:ionality of the predictions. Checks the directIt is the corelation of actuals and predicted similar to r^2 in regression.Specifically for unblanaced dataset.The values betwwen the numerals of actuals and predicted is in between (-1 to 1).\n",
    "\n",
    "MCC=0 .....AS GOOD AS COIN TOSS\n",
    "\n",
    "MCC<0 .....YOUR MODEL IS GOING AGAINST THE ACTUALS SO IT IS LIKE WHEN IT IS 0 IT PREDICTS 1 WHICH IS VERY BAD.\n",
    "\n",
    "MCC>0 .....GOOD MODEL AND IT IS ABLE TO LEARN THE DIRECTIONALITY OF THE ACTUALS .\n",
    "\n"
   ]
  },
  {
   "cell_type": "markdown",
   "id": "c5bcba3c",
   "metadata": {},
   "source": [
    "Many companies also accept the MCC WITH 0.2 AND 0.4 like greater than 0 but not zero."
   ]
  },
  {
   "cell_type": "markdown",
   "id": "ab5df743",
   "metadata": {},
   "source": [
    "# Actual Implementation-EDA"
   ]
  },
  {
   "cell_type": "code",
   "execution_count": 12,
   "id": "4cda106b",
   "metadata": {},
   "outputs": [
    {
     "name": "stdout",
     "output_type": "stream",
     "text": [
      "<class 'pandas.core.frame.DataFrame'>\n",
      "RangeIndex: 30000 entries, 0 to 29999\n",
      "Data columns (total 25 columns):\n",
      " #   Column                      Non-Null Count  Dtype  \n",
      "---  ------                      --------------  -----  \n",
      " 0   ID                          30000 non-null  int64  \n",
      " 1   LIMIT_BAL                   30000 non-null  float64\n",
      " 2   SEX                         30000 non-null  int64  \n",
      " 3   EDUCATION                   30000 non-null  int64  \n",
      " 4   MARRIAGE                    30000 non-null  int64  \n",
      " 5   AGE                         30000 non-null  int64  \n",
      " 6   PAY_0                       30000 non-null  int64  \n",
      " 7   PAY_2                       30000 non-null  int64  \n",
      " 8   PAY_3                       30000 non-null  int64  \n",
      " 9   PAY_4                       30000 non-null  int64  \n",
      " 10  PAY_5                       30000 non-null  int64  \n",
      " 11  PAY_6                       30000 non-null  int64  \n",
      " 12  BILL_AMT1                   30000 non-null  float64\n",
      " 13  BILL_AMT2                   30000 non-null  float64\n",
      " 14  BILL_AMT3                   30000 non-null  float64\n",
      " 15  BILL_AMT4                   30000 non-null  float64\n",
      " 16  BILL_AMT5                   30000 non-null  float64\n",
      " 17  BILL_AMT6                   30000 non-null  float64\n",
      " 18  PAY_AMT1                    30000 non-null  float64\n",
      " 19  PAY_AMT2                    30000 non-null  float64\n",
      " 20  PAY_AMT3                    30000 non-null  float64\n",
      " 21  PAY_AMT4                    30000 non-null  float64\n",
      " 22  PAY_AMT5                    30000 non-null  float64\n",
      " 23  PAY_AMT6                    30000 non-null  float64\n",
      " 24  default.payment.next.month  30000 non-null  int64  \n",
      "dtypes: float64(13), int64(12)\n",
      "memory usage: 5.7 MB\n"
     ]
    }
   ],
   "source": [
    "df.info()"
   ]
  },
  {
   "cell_type": "markdown",
   "id": "a8ecc0ec",
   "metadata": {},
   "source": [
    "Any algorithm that has distance based measures that is they used distance based formulas like euclidean/manhattan distance at the backend needs to be scaled or standaradized. Eg: SVM,K-MEANS,KNN.For tree based models you do not need to do it but people do it.Best strategy is to have both standardized and non standaradized versions and see which gives best results."
   ]
  },
  {
   "cell_type": "code",
   "execution_count": 13,
   "id": "d58043a1",
   "metadata": {
    "scrolled": true
   },
   "outputs": [
    {
     "data": {
      "text/html": [
       "<div>\n",
       "<style scoped>\n",
       "    .dataframe tbody tr th:only-of-type {\n",
       "        vertical-align: middle;\n",
       "    }\n",
       "\n",
       "    .dataframe tbody tr th {\n",
       "        vertical-align: top;\n",
       "    }\n",
       "\n",
       "    .dataframe thead th {\n",
       "        text-align: right;\n",
       "    }\n",
       "</style>\n",
       "<table border=\"1\" class=\"dataframe\">\n",
       "  <thead>\n",
       "    <tr style=\"text-align: right;\">\n",
       "      <th></th>\n",
       "      <th>SEX</th>\n",
       "      <th>EDUCATION</th>\n",
       "      <th>MARRIAGE</th>\n",
       "    </tr>\n",
       "  </thead>\n",
       "  <tbody>\n",
       "    <tr>\n",
       "      <th>count</th>\n",
       "      <td>30000.000000</td>\n",
       "      <td>30000.000000</td>\n",
       "      <td>30000.000000</td>\n",
       "    </tr>\n",
       "    <tr>\n",
       "      <th>mean</th>\n",
       "      <td>1.603733</td>\n",
       "      <td>1.853133</td>\n",
       "      <td>1.551867</td>\n",
       "    </tr>\n",
       "    <tr>\n",
       "      <th>std</th>\n",
       "      <td>0.489129</td>\n",
       "      <td>0.790349</td>\n",
       "      <td>0.521970</td>\n",
       "    </tr>\n",
       "    <tr>\n",
       "      <th>min</th>\n",
       "      <td>1.000000</td>\n",
       "      <td>0.000000</td>\n",
       "      <td>0.000000</td>\n",
       "    </tr>\n",
       "    <tr>\n",
       "      <th>25%</th>\n",
       "      <td>1.000000</td>\n",
       "      <td>1.000000</td>\n",
       "      <td>1.000000</td>\n",
       "    </tr>\n",
       "    <tr>\n",
       "      <th>50%</th>\n",
       "      <td>2.000000</td>\n",
       "      <td>2.000000</td>\n",
       "      <td>2.000000</td>\n",
       "    </tr>\n",
       "    <tr>\n",
       "      <th>75%</th>\n",
       "      <td>2.000000</td>\n",
       "      <td>2.000000</td>\n",
       "      <td>2.000000</td>\n",
       "    </tr>\n",
       "    <tr>\n",
       "      <th>max</th>\n",
       "      <td>2.000000</td>\n",
       "      <td>6.000000</td>\n",
       "      <td>3.000000</td>\n",
       "    </tr>\n",
       "  </tbody>\n",
       "</table>\n",
       "</div>"
      ],
      "text/plain": [
       "                SEX     EDUCATION      MARRIAGE\n",
       "count  30000.000000  30000.000000  30000.000000\n",
       "mean       1.603733      1.853133      1.551867\n",
       "std        0.489129      0.790349      0.521970\n",
       "min        1.000000      0.000000      0.000000\n",
       "25%        1.000000      1.000000      1.000000\n",
       "50%        2.000000      2.000000      2.000000\n",
       "75%        2.000000      2.000000      2.000000\n",
       "max        2.000000      6.000000      3.000000"
      ]
     },
     "execution_count": 13,
     "metadata": {},
     "output_type": "execute_result"
    }
   ],
   "source": [
    "#Describing categorical variables\n",
    "\n",
    "df[['SEX','EDUCATION','MARRIAGE']].describe()"
   ]
  },
  {
   "cell_type": "markdown",
   "id": "4c6c016d",
   "metadata": {},
   "source": [
    "If there is a negative corelation between the target variable and another variable then you can directly drop those variables but it is advised to not to drop them and understand how they are related and what results you might get. As that feature alone may not be related to output but in combination with other features can affect the results positively."
   ]
  },
  {
   "cell_type": "code",
   "execution_count": 14,
   "id": "21210a1d",
   "metadata": {},
   "outputs": [
    {
     "data": {
      "text/html": [
       "<div>\n",
       "<style scoped>\n",
       "    .dataframe tbody tr th:only-of-type {\n",
       "        vertical-align: middle;\n",
       "    }\n",
       "\n",
       "    .dataframe tbody tr th {\n",
       "        vertical-align: top;\n",
       "    }\n",
       "\n",
       "    .dataframe thead th {\n",
       "        text-align: right;\n",
       "    }\n",
       "</style>\n",
       "<table border=\"1\" class=\"dataframe\">\n",
       "  <thead>\n",
       "    <tr style=\"text-align: right;\">\n",
       "      <th></th>\n",
       "      <th>BILL_AMT1</th>\n",
       "      <th>BILL_AMT2</th>\n",
       "      <th>BILL_AMT3</th>\n",
       "      <th>BILL_AMT4</th>\n",
       "      <th>BILL_AMT5</th>\n",
       "      <th>BILL_AMT6</th>\n",
       "    </tr>\n",
       "  </thead>\n",
       "  <tbody>\n",
       "    <tr>\n",
       "      <th>count</th>\n",
       "      <td>30000.000000</td>\n",
       "      <td>30000.000000</td>\n",
       "      <td>3.000000e+04</td>\n",
       "      <td>30000.000000</td>\n",
       "      <td>30000.000000</td>\n",
       "      <td>30000.000000</td>\n",
       "    </tr>\n",
       "    <tr>\n",
       "      <th>mean</th>\n",
       "      <td>51223.330900</td>\n",
       "      <td>49179.075167</td>\n",
       "      <td>4.701315e+04</td>\n",
       "      <td>43262.948967</td>\n",
       "      <td>40311.400967</td>\n",
       "      <td>38871.760400</td>\n",
       "    </tr>\n",
       "    <tr>\n",
       "      <th>std</th>\n",
       "      <td>73635.860576</td>\n",
       "      <td>71173.768783</td>\n",
       "      <td>6.934939e+04</td>\n",
       "      <td>64332.856134</td>\n",
       "      <td>60797.155770</td>\n",
       "      <td>59554.107537</td>\n",
       "    </tr>\n",
       "    <tr>\n",
       "      <th>min</th>\n",
       "      <td>-165580.000000</td>\n",
       "      <td>-69777.000000</td>\n",
       "      <td>-1.572640e+05</td>\n",
       "      <td>-170000.000000</td>\n",
       "      <td>-81334.000000</td>\n",
       "      <td>-339603.000000</td>\n",
       "    </tr>\n",
       "    <tr>\n",
       "      <th>25%</th>\n",
       "      <td>3558.750000</td>\n",
       "      <td>2984.750000</td>\n",
       "      <td>2.666250e+03</td>\n",
       "      <td>2326.750000</td>\n",
       "      <td>1763.000000</td>\n",
       "      <td>1256.000000</td>\n",
       "    </tr>\n",
       "    <tr>\n",
       "      <th>50%</th>\n",
       "      <td>22381.500000</td>\n",
       "      <td>21200.000000</td>\n",
       "      <td>2.008850e+04</td>\n",
       "      <td>19052.000000</td>\n",
       "      <td>18104.500000</td>\n",
       "      <td>17071.000000</td>\n",
       "    </tr>\n",
       "    <tr>\n",
       "      <th>75%</th>\n",
       "      <td>67091.000000</td>\n",
       "      <td>64006.250000</td>\n",
       "      <td>6.016475e+04</td>\n",
       "      <td>54506.000000</td>\n",
       "      <td>50190.500000</td>\n",
       "      <td>49198.250000</td>\n",
       "    </tr>\n",
       "    <tr>\n",
       "      <th>max</th>\n",
       "      <td>964511.000000</td>\n",
       "      <td>983931.000000</td>\n",
       "      <td>1.664089e+06</td>\n",
       "      <td>891586.000000</td>\n",
       "      <td>927171.000000</td>\n",
       "      <td>961664.000000</td>\n",
       "    </tr>\n",
       "  </tbody>\n",
       "</table>\n",
       "</div>"
      ],
      "text/plain": [
       "           BILL_AMT1      BILL_AMT2     BILL_AMT3      BILL_AMT4  \\\n",
       "count   30000.000000   30000.000000  3.000000e+04   30000.000000   \n",
       "mean    51223.330900   49179.075167  4.701315e+04   43262.948967   \n",
       "std     73635.860576   71173.768783  6.934939e+04   64332.856134   \n",
       "min   -165580.000000  -69777.000000 -1.572640e+05 -170000.000000   \n",
       "25%      3558.750000    2984.750000  2.666250e+03    2326.750000   \n",
       "50%     22381.500000   21200.000000  2.008850e+04   19052.000000   \n",
       "75%     67091.000000   64006.250000  6.016475e+04   54506.000000   \n",
       "max    964511.000000  983931.000000  1.664089e+06  891586.000000   \n",
       "\n",
       "           BILL_AMT5      BILL_AMT6  \n",
       "count   30000.000000   30000.000000  \n",
       "mean    40311.400967   38871.760400  \n",
       "std     60797.155770   59554.107537  \n",
       "min    -81334.000000 -339603.000000  \n",
       "25%      1763.000000    1256.000000  \n",
       "50%     18104.500000   17071.000000  \n",
       "75%     50190.500000   49198.250000  \n",
       "max    927171.000000  961664.000000  "
      ]
     },
     "execution_count": 14,
     "metadata": {},
     "output_type": "execute_result"
    }
   ],
   "source": [
    "# Bill statement description\n",
    "df[['BILL_AMT1','BILL_AMT2','BILL_AMT3','BILL_AMT4','BILL_AMT5','BILL_AMT6']].describe()"
   ]
  },
  {
   "cell_type": "markdown",
   "id": "29738fec",
   "metadata": {},
   "source": [
    "In bill statement description the minimum value is again -ve that doesnt make sense.May be it can be said that he has paid more money in advance but these values are huge nos and it is not possible for some to do so much advance payment.\n",
    "\n",
    "Moreover it can be said that the data is skewed as there is huge difference between the value of mean and median(50 %).Similarly almost all the variables are skewed here.\n",
    "\n",
    "Here the 99% and max values can be checked to see if there are outliers but to do this there should be a normal distribution and seeing the skewness in thos data we cannot say that it is normally distributed.But still if you check we are absolutely having a lot of outliers.\n",
    "Now 1st step that we need to check is how many outliers are present.Because if they are 1 or 2 then you can ignore them or if they are more then we can handle it."
   ]
  },
  {
   "cell_type": "code",
   "execution_count": 15,
   "id": "59e4bc49",
   "metadata": {},
   "outputs": [
    {
     "data": {
      "text/html": [
       "<div>\n",
       "<style scoped>\n",
       "    .dataframe tbody tr th:only-of-type {\n",
       "        vertical-align: middle;\n",
       "    }\n",
       "\n",
       "    .dataframe tbody tr th {\n",
       "        vertical-align: top;\n",
       "    }\n",
       "\n",
       "    .dataframe thead th {\n",
       "        text-align: right;\n",
       "    }\n",
       "</style>\n",
       "<table border=\"1\" class=\"dataframe\">\n",
       "  <thead>\n",
       "    <tr style=\"text-align: right;\">\n",
       "      <th></th>\n",
       "      <th>PAY_0</th>\n",
       "      <th>PAY_2</th>\n",
       "      <th>PAY_3</th>\n",
       "      <th>PAY_4</th>\n",
       "      <th>PAY_5</th>\n",
       "      <th>PAY_6</th>\n",
       "    </tr>\n",
       "  </thead>\n",
       "  <tbody>\n",
       "    <tr>\n",
       "      <th>count</th>\n",
       "      <td>30000.000000</td>\n",
       "      <td>30000.000000</td>\n",
       "      <td>30000.000000</td>\n",
       "      <td>30000.000000</td>\n",
       "      <td>30000.000000</td>\n",
       "      <td>30000.000000</td>\n",
       "    </tr>\n",
       "    <tr>\n",
       "      <th>mean</th>\n",
       "      <td>-0.016700</td>\n",
       "      <td>-0.133767</td>\n",
       "      <td>-0.166200</td>\n",
       "      <td>-0.220667</td>\n",
       "      <td>-0.266200</td>\n",
       "      <td>-0.291100</td>\n",
       "    </tr>\n",
       "    <tr>\n",
       "      <th>std</th>\n",
       "      <td>1.123802</td>\n",
       "      <td>1.197186</td>\n",
       "      <td>1.196868</td>\n",
       "      <td>1.169139</td>\n",
       "      <td>1.133187</td>\n",
       "      <td>1.149988</td>\n",
       "    </tr>\n",
       "    <tr>\n",
       "      <th>min</th>\n",
       "      <td>-2.000000</td>\n",
       "      <td>-2.000000</td>\n",
       "      <td>-2.000000</td>\n",
       "      <td>-2.000000</td>\n",
       "      <td>-2.000000</td>\n",
       "      <td>-2.000000</td>\n",
       "    </tr>\n",
       "    <tr>\n",
       "      <th>25%</th>\n",
       "      <td>-1.000000</td>\n",
       "      <td>-1.000000</td>\n",
       "      <td>-1.000000</td>\n",
       "      <td>-1.000000</td>\n",
       "      <td>-1.000000</td>\n",
       "      <td>-1.000000</td>\n",
       "    </tr>\n",
       "    <tr>\n",
       "      <th>50%</th>\n",
       "      <td>0.000000</td>\n",
       "      <td>0.000000</td>\n",
       "      <td>0.000000</td>\n",
       "      <td>0.000000</td>\n",
       "      <td>0.000000</td>\n",
       "      <td>0.000000</td>\n",
       "    </tr>\n",
       "    <tr>\n",
       "      <th>75%</th>\n",
       "      <td>0.000000</td>\n",
       "      <td>0.000000</td>\n",
       "      <td>0.000000</td>\n",
       "      <td>0.000000</td>\n",
       "      <td>0.000000</td>\n",
       "      <td>0.000000</td>\n",
       "    </tr>\n",
       "    <tr>\n",
       "      <th>max</th>\n",
       "      <td>8.000000</td>\n",
       "      <td>8.000000</td>\n",
       "      <td>8.000000</td>\n",
       "      <td>8.000000</td>\n",
       "      <td>8.000000</td>\n",
       "      <td>8.000000</td>\n",
       "    </tr>\n",
       "  </tbody>\n",
       "</table>\n",
       "</div>"
      ],
      "text/plain": [
       "              PAY_0         PAY_2         PAY_3         PAY_4         PAY_5  \\\n",
       "count  30000.000000  30000.000000  30000.000000  30000.000000  30000.000000   \n",
       "mean      -0.016700     -0.133767     -0.166200     -0.220667     -0.266200   \n",
       "std        1.123802      1.197186      1.196868      1.169139      1.133187   \n",
       "min       -2.000000     -2.000000     -2.000000     -2.000000     -2.000000   \n",
       "25%       -1.000000     -1.000000     -1.000000     -1.000000     -1.000000   \n",
       "50%        0.000000      0.000000      0.000000      0.000000      0.000000   \n",
       "75%        0.000000      0.000000      0.000000      0.000000      0.000000   \n",
       "max        8.000000      8.000000      8.000000      8.000000      8.000000   \n",
       "\n",
       "              PAY_6  \n",
       "count  30000.000000  \n",
       "mean      -0.291100  \n",
       "std        1.149988  \n",
       "min       -2.000000  \n",
       "25%       -1.000000  \n",
       "50%        0.000000  \n",
       "75%        0.000000  \n",
       "max        8.000000  "
      ]
     },
     "execution_count": 15,
     "metadata": {},
     "output_type": "execute_result"
    }
   ],
   "source": [
    "# Payment delay description\n",
    "df[['PAY_0','PAY_2','PAY_3','PAY_4','PAY_5','PAY_6']].describe()"
   ]
  },
  {
   "cell_type": "code",
   "execution_count": 16,
   "id": "adf50133",
   "metadata": {},
   "outputs": [
    {
     "data": {
      "text/html": [
       "<div>\n",
       "<style scoped>\n",
       "    .dataframe tbody tr th:only-of-type {\n",
       "        vertical-align: middle;\n",
       "    }\n",
       "\n",
       "    .dataframe tbody tr th {\n",
       "        vertical-align: top;\n",
       "    }\n",
       "\n",
       "    .dataframe thead th {\n",
       "        text-align: right;\n",
       "    }\n",
       "</style>\n",
       "<table border=\"1\" class=\"dataframe\">\n",
       "  <thead>\n",
       "    <tr style=\"text-align: right;\">\n",
       "      <th></th>\n",
       "      <th>count</th>\n",
       "      <th>mean</th>\n",
       "      <th>std</th>\n",
       "      <th>min</th>\n",
       "      <th>25%</th>\n",
       "      <th>50%</th>\n",
       "      <th>75%</th>\n",
       "      <th>max</th>\n",
       "    </tr>\n",
       "  </thead>\n",
       "  <tbody>\n",
       "    <tr>\n",
       "      <th>PAY_2</th>\n",
       "      <td>30000.0</td>\n",
       "      <td>-0.133767</td>\n",
       "      <td>1.197186</td>\n",
       "      <td>-2.0</td>\n",
       "      <td>-1.0</td>\n",
       "      <td>0.0</td>\n",
       "      <td>0.0</td>\n",
       "      <td>8.0</td>\n",
       "    </tr>\n",
       "    <tr>\n",
       "      <th>PAY_3</th>\n",
       "      <td>30000.0</td>\n",
       "      <td>-0.166200</td>\n",
       "      <td>1.196868</td>\n",
       "      <td>-2.0</td>\n",
       "      <td>-1.0</td>\n",
       "      <td>0.0</td>\n",
       "      <td>0.0</td>\n",
       "      <td>8.0</td>\n",
       "    </tr>\n",
       "    <tr>\n",
       "      <th>PAY_4</th>\n",
       "      <td>30000.0</td>\n",
       "      <td>-0.220667</td>\n",
       "      <td>1.169139</td>\n",
       "      <td>-2.0</td>\n",
       "      <td>-1.0</td>\n",
       "      <td>0.0</td>\n",
       "      <td>0.0</td>\n",
       "      <td>8.0</td>\n",
       "    </tr>\n",
       "    <tr>\n",
       "      <th>PAY_5</th>\n",
       "      <td>30000.0</td>\n",
       "      <td>-0.266200</td>\n",
       "      <td>1.133187</td>\n",
       "      <td>-2.0</td>\n",
       "      <td>-1.0</td>\n",
       "      <td>0.0</td>\n",
       "      <td>0.0</td>\n",
       "      <td>8.0</td>\n",
       "    </tr>\n",
       "    <tr>\n",
       "      <th>PAY_6</th>\n",
       "      <td>30000.0</td>\n",
       "      <td>-0.291100</td>\n",
       "      <td>1.149988</td>\n",
       "      <td>-2.0</td>\n",
       "      <td>-1.0</td>\n",
       "      <td>0.0</td>\n",
       "      <td>0.0</td>\n",
       "      <td>8.0</td>\n",
       "    </tr>\n",
       "  </tbody>\n",
       "</table>\n",
       "</div>"
      ],
      "text/plain": [
       "         count      mean       std  min  25%  50%  75%  max\n",
       "PAY_2  30000.0 -0.133767  1.197186 -2.0 -1.0  0.0  0.0  8.0\n",
       "PAY_3  30000.0 -0.166200  1.196868 -2.0 -1.0  0.0  0.0  8.0\n",
       "PAY_4  30000.0 -0.220667  1.169139 -2.0 -1.0  0.0  0.0  8.0\n",
       "PAY_5  30000.0 -0.266200  1.133187 -2.0 -1.0  0.0  0.0  8.0\n",
       "PAY_6  30000.0 -0.291100  1.149988 -2.0 -1.0  0.0  0.0  8.0"
      ]
     },
     "execution_count": 16,
     "metadata": {},
     "output_type": "execute_result"
    }
   ],
   "source": [
    "df[['PAY_2','PAY_3','PAY_4','PAY_5','PAY_6']].describe().T"
   ]
  },
  {
   "cell_type": "markdown",
   "id": "576194db",
   "metadata": {},
   "source": [
    "Here the min value for all the payment is -2 which should not be there according to the data description.As the only negative value in these columns is -1 which states that the payment is done on time.Moreover the median value is 0 which is not expected according to data dictionary.\n",
    "Someone before uploading the data replaced the missing values by 0. Replacing Nan to 0. Which is not good at all as we already have missed data but we have to go ahead with this and deal with them.\n",
    "Describe to all the dataset becomes complex so you should always see them separately.\n",
    "To solve this:\n",
    "We can club all of these records in something else .Convert all -2 to 0,-1 as negative numbers here mean that the payment is done on time."
   ]
  },
  {
   "cell_type": "code",
   "execution_count": null,
   "id": "82c80154",
   "metadata": {},
   "outputs": [],
   "source": []
  },
  {
   "cell_type": "code",
   "execution_count": 17,
   "id": "3399ce6d",
   "metadata": {},
   "outputs": [
    {
     "data": {
      "text/plain": [
       "count      30000.000000\n",
       "mean      167484.322667\n",
       "std       129747.661567\n",
       "min        10000.000000\n",
       "25%        50000.000000\n",
       "50%       140000.000000\n",
       "75%       240000.000000\n",
       "max      1000000.000000\n",
       "Name: LIMIT_BAL, dtype: float64"
      ]
     },
     "execution_count": 17,
     "metadata": {},
     "output_type": "execute_result"
    }
   ],
   "source": [
    "df['LIMIT_BAL'].describe()                 "
   ]
  },
  {
   "cell_type": "code",
   "execution_count": 18,
   "id": "1074279a",
   "metadata": {},
   "outputs": [],
   "source": [
    "def outliers_iqr(ys):\n",
    "    quartile_1,quartile_3=np.percentile(ys,[25,75])\n",
    "    iqr=quartile_3-quartile_1\n",
    "    lower_bound=quartile_1-(iqr*1.5)\n",
    "    upper_bound=quartile_3+(iqr*1.5)\n",
    "    return np.where((ys>upper_bound)|(ys<lower_bound))"
   ]
  },
  {
   "cell_type": "code",
   "execution_count": 19,
   "id": "d8348adf",
   "metadata": {},
   "outputs": [
    {
     "data": {
      "text/html": [
       "<div>\n",
       "<style scoped>\n",
       "    .dataframe tbody tr th:only-of-type {\n",
       "        vertical-align: middle;\n",
       "    }\n",
       "\n",
       "    .dataframe tbody tr th {\n",
       "        vertical-align: top;\n",
       "    }\n",
       "\n",
       "    .dataframe thead th {\n",
       "        text-align: right;\n",
       "    }\n",
       "</style>\n",
       "<table border=\"1\" class=\"dataframe\">\n",
       "  <thead>\n",
       "    <tr style=\"text-align: right;\">\n",
       "      <th></th>\n",
       "      <th>ID</th>\n",
       "      <th>LIMIT_BAL</th>\n",
       "      <th>SEX</th>\n",
       "      <th>EDUCATION</th>\n",
       "      <th>MARRIAGE</th>\n",
       "      <th>AGE</th>\n",
       "      <th>PAY_0</th>\n",
       "      <th>PAY_2</th>\n",
       "      <th>PAY_3</th>\n",
       "      <th>PAY_4</th>\n",
       "      <th>...</th>\n",
       "      <th>BILL_AMT4</th>\n",
       "      <th>BILL_AMT5</th>\n",
       "      <th>BILL_AMT6</th>\n",
       "      <th>PAY_AMT1</th>\n",
       "      <th>PAY_AMT2</th>\n",
       "      <th>PAY_AMT3</th>\n",
       "      <th>PAY_AMT4</th>\n",
       "      <th>PAY_AMT5</th>\n",
       "      <th>PAY_AMT6</th>\n",
       "      <th>default.payment.next.month</th>\n",
       "    </tr>\n",
       "  </thead>\n",
       "  <tbody>\n",
       "    <tr>\n",
       "      <th>6</th>\n",
       "      <td>7</td>\n",
       "      <td>500000.0</td>\n",
       "      <td>1</td>\n",
       "      <td>1</td>\n",
       "      <td>2</td>\n",
       "      <td>29</td>\n",
       "      <td>0</td>\n",
       "      <td>0</td>\n",
       "      <td>0</td>\n",
       "      <td>0</td>\n",
       "      <td>...</td>\n",
       "      <td>542653.0</td>\n",
       "      <td>483003.0</td>\n",
       "      <td>473944.0</td>\n",
       "      <td>55000.0</td>\n",
       "      <td>40000.0</td>\n",
       "      <td>38000.0</td>\n",
       "      <td>20239.0</td>\n",
       "      <td>13750.0</td>\n",
       "      <td>13770.0</td>\n",
       "      <td>0</td>\n",
       "    </tr>\n",
       "    <tr>\n",
       "      <th>17</th>\n",
       "      <td>18</td>\n",
       "      <td>320000.0</td>\n",
       "      <td>1</td>\n",
       "      <td>1</td>\n",
       "      <td>1</td>\n",
       "      <td>49</td>\n",
       "      <td>0</td>\n",
       "      <td>0</td>\n",
       "      <td>0</td>\n",
       "      <td>-1</td>\n",
       "      <td>...</td>\n",
       "      <td>70074.0</td>\n",
       "      <td>5856.0</td>\n",
       "      <td>195599.0</td>\n",
       "      <td>10358.0</td>\n",
       "      <td>10000.0</td>\n",
       "      <td>75940.0</td>\n",
       "      <td>20000.0</td>\n",
       "      <td>195599.0</td>\n",
       "      <td>50000.0</td>\n",
       "      <td>0</td>\n",
       "    </tr>\n",
       "    <tr>\n",
       "      <th>36</th>\n",
       "      <td>37</td>\n",
       "      <td>280000.0</td>\n",
       "      <td>1</td>\n",
       "      <td>2</td>\n",
       "      <td>1</td>\n",
       "      <td>40</td>\n",
       "      <td>0</td>\n",
       "      <td>0</td>\n",
       "      <td>0</td>\n",
       "      <td>0</td>\n",
       "      <td>...</td>\n",
       "      <td>170410.0</td>\n",
       "      <td>173901.0</td>\n",
       "      <td>177413.0</td>\n",
       "      <td>8026.0</td>\n",
       "      <td>8060.0</td>\n",
       "      <td>6300.0</td>\n",
       "      <td>6400.0</td>\n",
       "      <td>6400.0</td>\n",
       "      <td>6737.0</td>\n",
       "      <td>0</td>\n",
       "    </tr>\n",
       "    <tr>\n",
       "      <th>40</th>\n",
       "      <td>41</td>\n",
       "      <td>360000.0</td>\n",
       "      <td>1</td>\n",
       "      <td>1</td>\n",
       "      <td>2</td>\n",
       "      <td>33</td>\n",
       "      <td>0</td>\n",
       "      <td>0</td>\n",
       "      <td>0</td>\n",
       "      <td>0</td>\n",
       "      <td>...</td>\n",
       "      <td>628699.0</td>\n",
       "      <td>195969.0</td>\n",
       "      <td>179224.0</td>\n",
       "      <td>10000.0</td>\n",
       "      <td>7000.0</td>\n",
       "      <td>6000.0</td>\n",
       "      <td>188840.0</td>\n",
       "      <td>28000.0</td>\n",
       "      <td>4000.0</td>\n",
       "      <td>0</td>\n",
       "    </tr>\n",
       "    <tr>\n",
       "      <th>57</th>\n",
       "      <td>58</td>\n",
       "      <td>180000.0</td>\n",
       "      <td>2</td>\n",
       "      <td>2</td>\n",
       "      <td>1</td>\n",
       "      <td>34</td>\n",
       "      <td>0</td>\n",
       "      <td>0</td>\n",
       "      <td>0</td>\n",
       "      <td>0</td>\n",
       "      <td>...</td>\n",
       "      <td>168608.0</td>\n",
       "      <td>132202.0</td>\n",
       "      <td>129918.0</td>\n",
       "      <td>8083.0</td>\n",
       "      <td>7296.0</td>\n",
       "      <td>5253.0</td>\n",
       "      <td>4814.0</td>\n",
       "      <td>4816.0</td>\n",
       "      <td>3800.0</td>\n",
       "      <td>0</td>\n",
       "    </tr>\n",
       "    <tr>\n",
       "      <th>...</th>\n",
       "      <td>...</td>\n",
       "      <td>...</td>\n",
       "      <td>...</td>\n",
       "      <td>...</td>\n",
       "      <td>...</td>\n",
       "      <td>...</td>\n",
       "      <td>...</td>\n",
       "      <td>...</td>\n",
       "      <td>...</td>\n",
       "      <td>...</td>\n",
       "      <td>...</td>\n",
       "      <td>...</td>\n",
       "      <td>...</td>\n",
       "      <td>...</td>\n",
       "      <td>...</td>\n",
       "      <td>...</td>\n",
       "      <td>...</td>\n",
       "      <td>...</td>\n",
       "      <td>...</td>\n",
       "      <td>...</td>\n",
       "      <td>...</td>\n",
       "    </tr>\n",
       "    <tr>\n",
       "      <th>29921</th>\n",
       "      <td>29922</td>\n",
       "      <td>410000.0</td>\n",
       "      <td>1</td>\n",
       "      <td>1</td>\n",
       "      <td>2</td>\n",
       "      <td>34</td>\n",
       "      <td>0</td>\n",
       "      <td>0</td>\n",
       "      <td>0</td>\n",
       "      <td>-1</td>\n",
       "      <td>...</td>\n",
       "      <td>1467.0</td>\n",
       "      <td>1421.0</td>\n",
       "      <td>-15.0</td>\n",
       "      <td>17259.0</td>\n",
       "      <td>18600.0</td>\n",
       "      <td>1474.0</td>\n",
       "      <td>1428.0</td>\n",
       "      <td>0.0</td>\n",
       "      <td>0.0</td>\n",
       "      <td>1</td>\n",
       "    </tr>\n",
       "    <tr>\n",
       "      <th>29963</th>\n",
       "      <td>29964</td>\n",
       "      <td>610000.0</td>\n",
       "      <td>1</td>\n",
       "      <td>1</td>\n",
       "      <td>2</td>\n",
       "      <td>31</td>\n",
       "      <td>0</td>\n",
       "      <td>-1</td>\n",
       "      <td>2</td>\n",
       "      <td>-1</td>\n",
       "      <td>...</td>\n",
       "      <td>347303.0</td>\n",
       "      <td>248893.0</td>\n",
       "      <td>269528.0</td>\n",
       "      <td>323014.0</td>\n",
       "      <td>1605.0</td>\n",
       "      <td>349395.0</td>\n",
       "      <td>250144.0</td>\n",
       "      <td>271099.0</td>\n",
       "      <td>220076.0</td>\n",
       "      <td>0</td>\n",
       "    </tr>\n",
       "    <tr>\n",
       "      <th>29978</th>\n",
       "      <td>29979</td>\n",
       "      <td>310000.0</td>\n",
       "      <td>1</td>\n",
       "      <td>2</td>\n",
       "      <td>1</td>\n",
       "      <td>39</td>\n",
       "      <td>0</td>\n",
       "      <td>0</td>\n",
       "      <td>0</td>\n",
       "      <td>0</td>\n",
       "      <td>...</td>\n",
       "      <td>219409.0</td>\n",
       "      <td>216540.0</td>\n",
       "      <td>210675.0</td>\n",
       "      <td>10029.0</td>\n",
       "      <td>9218.0</td>\n",
       "      <td>10029.0</td>\n",
       "      <td>8049.0</td>\n",
       "      <td>8040.0</td>\n",
       "      <td>10059.0</td>\n",
       "      <td>0</td>\n",
       "    </tr>\n",
       "    <tr>\n",
       "      <th>29988</th>\n",
       "      <td>29989</td>\n",
       "      <td>250000.0</td>\n",
       "      <td>1</td>\n",
       "      <td>1</td>\n",
       "      <td>1</td>\n",
       "      <td>34</td>\n",
       "      <td>0</td>\n",
       "      <td>0</td>\n",
       "      <td>0</td>\n",
       "      <td>0</td>\n",
       "      <td>...</td>\n",
       "      <td>245750.0</td>\n",
       "      <td>175005.0</td>\n",
       "      <td>179687.0</td>\n",
       "      <td>65000.0</td>\n",
       "      <td>8800.0</td>\n",
       "      <td>9011.0</td>\n",
       "      <td>6000.0</td>\n",
       "      <td>7000.0</td>\n",
       "      <td>6009.0</td>\n",
       "      <td>0</td>\n",
       "    </tr>\n",
       "    <tr>\n",
       "      <th>29995</th>\n",
       "      <td>29996</td>\n",
       "      <td>220000.0</td>\n",
       "      <td>1</td>\n",
       "      <td>3</td>\n",
       "      <td>1</td>\n",
       "      <td>39</td>\n",
       "      <td>0</td>\n",
       "      <td>0</td>\n",
       "      <td>0</td>\n",
       "      <td>0</td>\n",
       "      <td>...</td>\n",
       "      <td>88004.0</td>\n",
       "      <td>31237.0</td>\n",
       "      <td>15980.0</td>\n",
       "      <td>8500.0</td>\n",
       "      <td>20000.0</td>\n",
       "      <td>5003.0</td>\n",
       "      <td>3047.0</td>\n",
       "      <td>5000.0</td>\n",
       "      <td>1000.0</td>\n",
       "      <td>0</td>\n",
       "    </tr>\n",
       "  </tbody>\n",
       "</table>\n",
       "<p>2400 rows × 25 columns</p>\n",
       "</div>"
      ],
      "text/plain": [
       "          ID  LIMIT_BAL  SEX  EDUCATION  MARRIAGE  AGE  PAY_0  PAY_2  PAY_3  \\\n",
       "6          7   500000.0    1          1         2   29      0      0      0   \n",
       "17        18   320000.0    1          1         1   49      0      0      0   \n",
       "36        37   280000.0    1          2         1   40      0      0      0   \n",
       "40        41   360000.0    1          1         2   33      0      0      0   \n",
       "57        58   180000.0    2          2         1   34      0      0      0   \n",
       "...      ...        ...  ...        ...       ...  ...    ...    ...    ...   \n",
       "29921  29922   410000.0    1          1         2   34      0      0      0   \n",
       "29963  29964   610000.0    1          1         2   31      0     -1      2   \n",
       "29978  29979   310000.0    1          2         1   39      0      0      0   \n",
       "29988  29989   250000.0    1          1         1   34      0      0      0   \n",
       "29995  29996   220000.0    1          3         1   39      0      0      0   \n",
       "\n",
       "       PAY_4  ...  BILL_AMT4  BILL_AMT5  BILL_AMT6  PAY_AMT1  PAY_AMT2  \\\n",
       "6          0  ...   542653.0   483003.0   473944.0   55000.0   40000.0   \n",
       "17        -1  ...    70074.0     5856.0   195599.0   10358.0   10000.0   \n",
       "36         0  ...   170410.0   173901.0   177413.0    8026.0    8060.0   \n",
       "40         0  ...   628699.0   195969.0   179224.0   10000.0    7000.0   \n",
       "57         0  ...   168608.0   132202.0   129918.0    8083.0    7296.0   \n",
       "...      ...  ...        ...        ...        ...       ...       ...   \n",
       "29921     -1  ...     1467.0     1421.0      -15.0   17259.0   18600.0   \n",
       "29963     -1  ...   347303.0   248893.0   269528.0  323014.0    1605.0   \n",
       "29978      0  ...   219409.0   216540.0   210675.0   10029.0    9218.0   \n",
       "29988      0  ...   245750.0   175005.0   179687.0   65000.0    8800.0   \n",
       "29995      0  ...    88004.0    31237.0    15980.0    8500.0   20000.0   \n",
       "\n",
       "       PAY_AMT3  PAY_AMT4  PAY_AMT5  PAY_AMT6  default.payment.next.month  \n",
       "6       38000.0   20239.0   13750.0   13770.0                           0  \n",
       "17      75940.0   20000.0  195599.0   50000.0                           0  \n",
       "36       6300.0    6400.0    6400.0    6737.0                           0  \n",
       "40       6000.0  188840.0   28000.0    4000.0                           0  \n",
       "57       5253.0    4814.0    4816.0    3800.0                           0  \n",
       "...         ...       ...       ...       ...                         ...  \n",
       "29921    1474.0    1428.0       0.0       0.0                           1  \n",
       "29963  349395.0  250144.0  271099.0  220076.0                           0  \n",
       "29978   10029.0    8049.0    8040.0   10059.0                           0  \n",
       "29988    9011.0    6000.0    7000.0    6009.0                           0  \n",
       "29995    5003.0    3047.0    5000.0    1000.0                           0  \n",
       "\n",
       "[2400 rows x 25 columns]"
      ]
     },
     "execution_count": 19,
     "metadata": {},
     "output_type": "execute_result"
    }
   ],
   "source": [
    "df.loc[outliers_iqr(df['BILL_AMT1'])]"
   ]
  },
  {
   "cell_type": "markdown",
   "id": "5f937a80",
   "metadata": {},
   "source": [
    "So because there are 2400 data points that come as outliers you cannot eliminate them or capp them."
   ]
  },
  {
   "cell_type": "markdown",
   "id": "2c074397",
   "metadata": {},
   "source": [
    "You cannot eliminate these values as they might be genuine values."
   ]
  },
  {
   "cell_type": "markdown",
   "id": "d88000a7",
   "metadata": {},
   "source": [
    "The algorithms that get severely impacted with outliers cannot be used like SVC as we are not eliminating them."
   ]
  },
  {
   "cell_type": "markdown",
   "id": "50f89c7d",
   "metadata": {},
   "source": [
    "We will scale the data to minimize the effect of large values.So scaling the data will minimize these values."
   ]
  },
  {
   "cell_type": "markdown",
   "id": "e54eec00",
   "metadata": {},
   "source": [
    "If you have issues with the negative values in the data then we use the min max scaling to bring all the values between 0 & 1.Else standard scaling should be used."
   ]
  },
  {
   "cell_type": "code",
   "execution_count": 20,
   "id": "16846e4d",
   "metadata": {},
   "outputs": [
    {
     "data": {
      "text/html": [
       "<div>\n",
       "<style scoped>\n",
       "    .dataframe tbody tr th:only-of-type {\n",
       "        vertical-align: middle;\n",
       "    }\n",
       "\n",
       "    .dataframe tbody tr th {\n",
       "        vertical-align: top;\n",
       "    }\n",
       "\n",
       "    .dataframe thead th {\n",
       "        text-align: right;\n",
       "    }\n",
       "</style>\n",
       "<table border=\"1\" class=\"dataframe\">\n",
       "  <thead>\n",
       "    <tr style=\"text-align: right;\">\n",
       "      <th></th>\n",
       "      <th>PAY_AMT1</th>\n",
       "      <th>PAY_AMT2</th>\n",
       "      <th>PAY_AMT3</th>\n",
       "      <th>PAY_AMT4</th>\n",
       "      <th>PAY_AMT5</th>\n",
       "      <th>PAY_AMT6</th>\n",
       "    </tr>\n",
       "  </thead>\n",
       "  <tbody>\n",
       "    <tr>\n",
       "      <th>count</th>\n",
       "      <td>30000.000000</td>\n",
       "      <td>3.000000e+04</td>\n",
       "      <td>30000.00000</td>\n",
       "      <td>30000.000000</td>\n",
       "      <td>30000.000000</td>\n",
       "      <td>30000.000000</td>\n",
       "    </tr>\n",
       "    <tr>\n",
       "      <th>mean</th>\n",
       "      <td>5663.580500</td>\n",
       "      <td>5.921163e+03</td>\n",
       "      <td>5225.68150</td>\n",
       "      <td>4826.076867</td>\n",
       "      <td>4799.387633</td>\n",
       "      <td>5215.502567</td>\n",
       "    </tr>\n",
       "    <tr>\n",
       "      <th>std</th>\n",
       "      <td>16563.280354</td>\n",
       "      <td>2.304087e+04</td>\n",
       "      <td>17606.96147</td>\n",
       "      <td>15666.159744</td>\n",
       "      <td>15278.305679</td>\n",
       "      <td>17777.465775</td>\n",
       "    </tr>\n",
       "    <tr>\n",
       "      <th>min</th>\n",
       "      <td>0.000000</td>\n",
       "      <td>0.000000e+00</td>\n",
       "      <td>0.00000</td>\n",
       "      <td>0.000000</td>\n",
       "      <td>0.000000</td>\n",
       "      <td>0.000000</td>\n",
       "    </tr>\n",
       "    <tr>\n",
       "      <th>25%</th>\n",
       "      <td>1000.000000</td>\n",
       "      <td>8.330000e+02</td>\n",
       "      <td>390.00000</td>\n",
       "      <td>296.000000</td>\n",
       "      <td>252.500000</td>\n",
       "      <td>117.750000</td>\n",
       "    </tr>\n",
       "    <tr>\n",
       "      <th>50%</th>\n",
       "      <td>2100.000000</td>\n",
       "      <td>2.009000e+03</td>\n",
       "      <td>1800.00000</td>\n",
       "      <td>1500.000000</td>\n",
       "      <td>1500.000000</td>\n",
       "      <td>1500.000000</td>\n",
       "    </tr>\n",
       "    <tr>\n",
       "      <th>75%</th>\n",
       "      <td>5006.000000</td>\n",
       "      <td>5.000000e+03</td>\n",
       "      <td>4505.00000</td>\n",
       "      <td>4013.250000</td>\n",
       "      <td>4031.500000</td>\n",
       "      <td>4000.000000</td>\n",
       "    </tr>\n",
       "    <tr>\n",
       "      <th>max</th>\n",
       "      <td>873552.000000</td>\n",
       "      <td>1.684259e+06</td>\n",
       "      <td>896040.00000</td>\n",
       "      <td>621000.000000</td>\n",
       "      <td>426529.000000</td>\n",
       "      <td>528666.000000</td>\n",
       "    </tr>\n",
       "  </tbody>\n",
       "</table>\n",
       "</div>"
      ],
      "text/plain": [
       "            PAY_AMT1      PAY_AMT2      PAY_AMT3       PAY_AMT4  \\\n",
       "count   30000.000000  3.000000e+04   30000.00000   30000.000000   \n",
       "mean     5663.580500  5.921163e+03    5225.68150    4826.076867   \n",
       "std     16563.280354  2.304087e+04   17606.96147   15666.159744   \n",
       "min         0.000000  0.000000e+00       0.00000       0.000000   \n",
       "25%      1000.000000  8.330000e+02     390.00000     296.000000   \n",
       "50%      2100.000000  2.009000e+03    1800.00000    1500.000000   \n",
       "75%      5006.000000  5.000000e+03    4505.00000    4013.250000   \n",
       "max    873552.000000  1.684259e+06  896040.00000  621000.000000   \n",
       "\n",
       "            PAY_AMT5       PAY_AMT6  \n",
       "count   30000.000000   30000.000000  \n",
       "mean     4799.387633    5215.502567  \n",
       "std     15278.305679   17777.465775  \n",
       "min         0.000000       0.000000  \n",
       "25%       252.500000     117.750000  \n",
       "50%      1500.000000    1500.000000  \n",
       "75%      4031.500000    4000.000000  \n",
       "max    426529.000000  528666.000000  "
      ]
     },
     "execution_count": 20,
     "metadata": {},
     "output_type": "execute_result"
    }
   ],
   "source": [
    "#Previous payment description\n",
    "df[['PAY_AMT1','PAY_AMT2','PAY_AMT3','PAY_AMT4','PAY_AMT5','PAY_AMT6']].describe()"
   ]
  },
  {
   "cell_type": "code",
   "execution_count": 21,
   "id": "4b8bb105",
   "metadata": {},
   "outputs": [],
   "source": [
    "from collections import Counter\n",
    "\n",
    "def detect_outliers(df,features):\n",
    "    outlier_indices=[]\n",
    "    for c in features:\n",
    "        # 1st quantile\n",
    "        Q1=np.percentile(df[c],25)\n",
    "        # 3rd quantile\n",
    "        Q3=np.percentile(df[c],75)\n",
    "        #IQR\n",
    "        IQR=Q3-Q1 \n",
    "        # Outlier step\n",
    "        outlier_step=IQR*1.5\n",
    "        #Detect outlier and their indices\n",
    "        outlier_list_col= df[(df[c] < Q1-outlier_step) | (df[c] > Q3 + outlier_step)].index\n",
    "        #store indices\n",
    "        outlier_indices.extend(outlier_list_col)\n",
    "    \n",
    "    outlier_indices=Counter(outlier_indices)\n",
    "    multiple_outliers=list(i for i,v in outlier_indices.items() if v>0)\n",
    "    return multiple_outliers"
   ]
  },
  {
   "cell_type": "code",
   "execution_count": 22,
   "id": "fbd4061a",
   "metadata": {},
   "outputs": [
    {
     "data": {
      "text/html": [
       "<div>\n",
       "<style scoped>\n",
       "    .dataframe tbody tr th:only-of-type {\n",
       "        vertical-align: middle;\n",
       "    }\n",
       "\n",
       "    .dataframe tbody tr th {\n",
       "        vertical-align: top;\n",
       "    }\n",
       "\n",
       "    .dataframe thead th {\n",
       "        text-align: right;\n",
       "    }\n",
       "</style>\n",
       "<table border=\"1\" class=\"dataframe\">\n",
       "  <thead>\n",
       "    <tr style=\"text-align: right;\">\n",
       "      <th></th>\n",
       "      <th>ID</th>\n",
       "      <th>LIMIT_BAL</th>\n",
       "      <th>SEX</th>\n",
       "      <th>EDUCATION</th>\n",
       "      <th>MARRIAGE</th>\n",
       "      <th>AGE</th>\n",
       "      <th>PAY_0</th>\n",
       "      <th>PAY_2</th>\n",
       "      <th>PAY_3</th>\n",
       "      <th>PAY_4</th>\n",
       "      <th>...</th>\n",
       "      <th>BILL_AMT4</th>\n",
       "      <th>BILL_AMT5</th>\n",
       "      <th>BILL_AMT6</th>\n",
       "      <th>PAY_AMT1</th>\n",
       "      <th>PAY_AMT2</th>\n",
       "      <th>PAY_AMT3</th>\n",
       "      <th>PAY_AMT4</th>\n",
       "      <th>PAY_AMT5</th>\n",
       "      <th>PAY_AMT6</th>\n",
       "      <th>default.payment.next.month</th>\n",
       "    </tr>\n",
       "  </thead>\n",
       "  <tbody>\n",
       "    <tr>\n",
       "      <th>6</th>\n",
       "      <td>7</td>\n",
       "      <td>500000.0</td>\n",
       "      <td>1</td>\n",
       "      <td>1</td>\n",
       "      <td>2</td>\n",
       "      <td>29</td>\n",
       "      <td>0</td>\n",
       "      <td>0</td>\n",
       "      <td>0</td>\n",
       "      <td>0</td>\n",
       "      <td>...</td>\n",
       "      <td>542653.0</td>\n",
       "      <td>483003.0</td>\n",
       "      <td>473944.0</td>\n",
       "      <td>55000.0</td>\n",
       "      <td>40000.0</td>\n",
       "      <td>38000.0</td>\n",
       "      <td>20239.0</td>\n",
       "      <td>13750.0</td>\n",
       "      <td>13770.0</td>\n",
       "      <td>0</td>\n",
       "    </tr>\n",
       "    <tr>\n",
       "      <th>17</th>\n",
       "      <td>18</td>\n",
       "      <td>320000.0</td>\n",
       "      <td>1</td>\n",
       "      <td>1</td>\n",
       "      <td>1</td>\n",
       "      <td>49</td>\n",
       "      <td>0</td>\n",
       "      <td>0</td>\n",
       "      <td>0</td>\n",
       "      <td>-1</td>\n",
       "      <td>...</td>\n",
       "      <td>70074.0</td>\n",
       "      <td>5856.0</td>\n",
       "      <td>195599.0</td>\n",
       "      <td>10358.0</td>\n",
       "      <td>10000.0</td>\n",
       "      <td>75940.0</td>\n",
       "      <td>20000.0</td>\n",
       "      <td>195599.0</td>\n",
       "      <td>50000.0</td>\n",
       "      <td>0</td>\n",
       "    </tr>\n",
       "    <tr>\n",
       "      <th>36</th>\n",
       "      <td>37</td>\n",
       "      <td>280000.0</td>\n",
       "      <td>1</td>\n",
       "      <td>2</td>\n",
       "      <td>1</td>\n",
       "      <td>40</td>\n",
       "      <td>0</td>\n",
       "      <td>0</td>\n",
       "      <td>0</td>\n",
       "      <td>0</td>\n",
       "      <td>...</td>\n",
       "      <td>170410.0</td>\n",
       "      <td>173901.0</td>\n",
       "      <td>177413.0</td>\n",
       "      <td>8026.0</td>\n",
       "      <td>8060.0</td>\n",
       "      <td>6300.0</td>\n",
       "      <td>6400.0</td>\n",
       "      <td>6400.0</td>\n",
       "      <td>6737.0</td>\n",
       "      <td>0</td>\n",
       "    </tr>\n",
       "    <tr>\n",
       "      <th>40</th>\n",
       "      <td>41</td>\n",
       "      <td>360000.0</td>\n",
       "      <td>1</td>\n",
       "      <td>1</td>\n",
       "      <td>2</td>\n",
       "      <td>33</td>\n",
       "      <td>0</td>\n",
       "      <td>0</td>\n",
       "      <td>0</td>\n",
       "      <td>0</td>\n",
       "      <td>...</td>\n",
       "      <td>628699.0</td>\n",
       "      <td>195969.0</td>\n",
       "      <td>179224.0</td>\n",
       "      <td>10000.0</td>\n",
       "      <td>7000.0</td>\n",
       "      <td>6000.0</td>\n",
       "      <td>188840.0</td>\n",
       "      <td>28000.0</td>\n",
       "      <td>4000.0</td>\n",
       "      <td>0</td>\n",
       "    </tr>\n",
       "    <tr>\n",
       "      <th>57</th>\n",
       "      <td>58</td>\n",
       "      <td>180000.0</td>\n",
       "      <td>2</td>\n",
       "      <td>2</td>\n",
       "      <td>1</td>\n",
       "      <td>34</td>\n",
       "      <td>0</td>\n",
       "      <td>0</td>\n",
       "      <td>0</td>\n",
       "      <td>0</td>\n",
       "      <td>...</td>\n",
       "      <td>168608.0</td>\n",
       "      <td>132202.0</td>\n",
       "      <td>129918.0</td>\n",
       "      <td>8083.0</td>\n",
       "      <td>7296.0</td>\n",
       "      <td>5253.0</td>\n",
       "      <td>4814.0</td>\n",
       "      <td>4816.0</td>\n",
       "      <td>3800.0</td>\n",
       "      <td>0</td>\n",
       "    </tr>\n",
       "    <tr>\n",
       "      <th>...</th>\n",
       "      <td>...</td>\n",
       "      <td>...</td>\n",
       "      <td>...</td>\n",
       "      <td>...</td>\n",
       "      <td>...</td>\n",
       "      <td>...</td>\n",
       "      <td>...</td>\n",
       "      <td>...</td>\n",
       "      <td>...</td>\n",
       "      <td>...</td>\n",
       "      <td>...</td>\n",
       "      <td>...</td>\n",
       "      <td>...</td>\n",
       "      <td>...</td>\n",
       "      <td>...</td>\n",
       "      <td>...</td>\n",
       "      <td>...</td>\n",
       "      <td>...</td>\n",
       "      <td>...</td>\n",
       "      <td>...</td>\n",
       "      <td>...</td>\n",
       "    </tr>\n",
       "    <tr>\n",
       "      <th>29491</th>\n",
       "      <td>29492</td>\n",
       "      <td>320000.0</td>\n",
       "      <td>1</td>\n",
       "      <td>1</td>\n",
       "      <td>2</td>\n",
       "      <td>31</td>\n",
       "      <td>1</td>\n",
       "      <td>-2</td>\n",
       "      <td>-2</td>\n",
       "      <td>-2</td>\n",
       "      <td>...</td>\n",
       "      <td>-50616.0</td>\n",
       "      <td>-53007.0</td>\n",
       "      <td>-94625.0</td>\n",
       "      <td>185.0</td>\n",
       "      <td>28.0</td>\n",
       "      <td>12.0</td>\n",
       "      <td>208.0</td>\n",
       "      <td>8.0</td>\n",
       "      <td>14.0</td>\n",
       "      <td>1</td>\n",
       "    </tr>\n",
       "    <tr>\n",
       "      <th>29494</th>\n",
       "      <td>29495</td>\n",
       "      <td>320000.0</td>\n",
       "      <td>1</td>\n",
       "      <td>1</td>\n",
       "      <td>2</td>\n",
       "      <td>34</td>\n",
       "      <td>0</td>\n",
       "      <td>0</td>\n",
       "      <td>0</td>\n",
       "      <td>0</td>\n",
       "      <td>...</td>\n",
       "      <td>104795.0</td>\n",
       "      <td>113156.0</td>\n",
       "      <td>121465.0</td>\n",
       "      <td>19246.0</td>\n",
       "      <td>11550.0</td>\n",
       "      <td>11688.0</td>\n",
       "      <td>12122.0</td>\n",
       "      <td>12156.0</td>\n",
       "      <td>2437.0</td>\n",
       "      <td>0</td>\n",
       "    </tr>\n",
       "    <tr>\n",
       "      <th>29739</th>\n",
       "      <td>29740</td>\n",
       "      <td>450000.0</td>\n",
       "      <td>1</td>\n",
       "      <td>2</td>\n",
       "      <td>1</td>\n",
       "      <td>43</td>\n",
       "      <td>0</td>\n",
       "      <td>0</td>\n",
       "      <td>0</td>\n",
       "      <td>0</td>\n",
       "      <td>...</td>\n",
       "      <td>67875.0</td>\n",
       "      <td>58328.0</td>\n",
       "      <td>252696.0</td>\n",
       "      <td>6000.0</td>\n",
       "      <td>4000.0</td>\n",
       "      <td>4000.0</td>\n",
       "      <td>7000.0</td>\n",
       "      <td>215000.0</td>\n",
       "      <td>3000.0</td>\n",
       "      <td>0</td>\n",
       "    </tr>\n",
       "    <tr>\n",
       "      <th>29903</th>\n",
       "      <td>29904</td>\n",
       "      <td>260000.0</td>\n",
       "      <td>1</td>\n",
       "      <td>1</td>\n",
       "      <td>1</td>\n",
       "      <td>30</td>\n",
       "      <td>-1</td>\n",
       "      <td>0</td>\n",
       "      <td>-1</td>\n",
       "      <td>-1</td>\n",
       "      <td>...</td>\n",
       "      <td>99.0</td>\n",
       "      <td>99.0</td>\n",
       "      <td>172104.0</td>\n",
       "      <td>10018.0</td>\n",
       "      <td>13333.0</td>\n",
       "      <td>99.0</td>\n",
       "      <td>99.0</td>\n",
       "      <td>172104.0</td>\n",
       "      <td>30013.0</td>\n",
       "      <td>0</td>\n",
       "    </tr>\n",
       "    <tr>\n",
       "      <th>29972</th>\n",
       "      <td>29973</td>\n",
       "      <td>190000.0</td>\n",
       "      <td>1</td>\n",
       "      <td>1</td>\n",
       "      <td>1</td>\n",
       "      <td>37</td>\n",
       "      <td>0</td>\n",
       "      <td>0</td>\n",
       "      <td>0</td>\n",
       "      <td>0</td>\n",
       "      <td>...</td>\n",
       "      <td>29223.0</td>\n",
       "      <td>19616.0</td>\n",
       "      <td>148482.0</td>\n",
       "      <td>2000.0</td>\n",
       "      <td>3869.0</td>\n",
       "      <td>25128.0</td>\n",
       "      <td>10115.0</td>\n",
       "      <td>148482.0</td>\n",
       "      <td>4800.0</td>\n",
       "      <td>0</td>\n",
       "    </tr>\n",
       "  </tbody>\n",
       "</table>\n",
       "<p>3767 rows × 25 columns</p>\n",
       "</div>"
      ],
      "text/plain": [
       "          ID  LIMIT_BAL  SEX  EDUCATION  MARRIAGE  AGE  PAY_0  PAY_2  PAY_3  \\\n",
       "6          7   500000.0    1          1         2   29      0      0      0   \n",
       "17        18   320000.0    1          1         1   49      0      0      0   \n",
       "36        37   280000.0    1          2         1   40      0      0      0   \n",
       "40        41   360000.0    1          1         2   33      0      0      0   \n",
       "57        58   180000.0    2          2         1   34      0      0      0   \n",
       "...      ...        ...  ...        ...       ...  ...    ...    ...    ...   \n",
       "29491  29492   320000.0    1          1         2   31      1     -2     -2   \n",
       "29494  29495   320000.0    1          1         2   34      0      0      0   \n",
       "29739  29740   450000.0    1          2         1   43      0      0      0   \n",
       "29903  29904   260000.0    1          1         1   30     -1      0     -1   \n",
       "29972  29973   190000.0    1          1         1   37      0      0      0   \n",
       "\n",
       "       PAY_4  ...  BILL_AMT4  BILL_AMT5  BILL_AMT6  PAY_AMT1  PAY_AMT2  \\\n",
       "6          0  ...   542653.0   483003.0   473944.0   55000.0   40000.0   \n",
       "17        -1  ...    70074.0     5856.0   195599.0   10358.0   10000.0   \n",
       "36         0  ...   170410.0   173901.0   177413.0    8026.0    8060.0   \n",
       "40         0  ...   628699.0   195969.0   179224.0   10000.0    7000.0   \n",
       "57         0  ...   168608.0   132202.0   129918.0    8083.0    7296.0   \n",
       "...      ...  ...        ...        ...        ...       ...       ...   \n",
       "29491     -2  ...   -50616.0   -53007.0   -94625.0     185.0      28.0   \n",
       "29494      0  ...   104795.0   113156.0   121465.0   19246.0   11550.0   \n",
       "29739      0  ...    67875.0    58328.0   252696.0    6000.0    4000.0   \n",
       "29903     -1  ...       99.0       99.0   172104.0   10018.0   13333.0   \n",
       "29972      0  ...    29223.0    19616.0   148482.0    2000.0    3869.0   \n",
       "\n",
       "       PAY_AMT3  PAY_AMT4  PAY_AMT5  PAY_AMT6  default.payment.next.month  \n",
       "6       38000.0   20239.0   13750.0   13770.0                           0  \n",
       "17      75940.0   20000.0  195599.0   50000.0                           0  \n",
       "36       6300.0    6400.0    6400.0    6737.0                           0  \n",
       "40       6000.0  188840.0   28000.0    4000.0                           0  \n",
       "57       5253.0    4814.0    4816.0    3800.0                           0  \n",
       "...         ...       ...       ...       ...                         ...  \n",
       "29491      12.0     208.0       8.0      14.0                           1  \n",
       "29494   11688.0   12122.0   12156.0    2437.0                           0  \n",
       "29739    4000.0    7000.0  215000.0    3000.0                           0  \n",
       "29903      99.0      99.0  172104.0   30013.0                           0  \n",
       "29972   25128.0   10115.0  148482.0    4800.0                           0  \n",
       "\n",
       "[3767 rows x 25 columns]"
      ]
     },
     "execution_count": 22,
     "metadata": {},
     "output_type": "execute_result"
    }
   ],
   "source": [
    "df.loc[detect_outliers(df,['BILL_AMT1','BILL_AMT2','BILL_AMT3','BILL_AMT4','BILL_AMT5','BILL_AMT6'])]"
   ]
  },
  {
   "cell_type": "markdown",
   "id": "9e715317",
   "metadata": {},
   "source": [
    "If we consider all the bill amounts then it can be seen that it is almost 10 % of the data that has outliers and hence we are not eliminating them."
   ]
  },
  {
   "cell_type": "markdown",
   "id": "72552fcd",
   "metadata": {},
   "source": [
    "Even if mathematically a value comes as outlier it does not mean that it is a outlier that value might be genuine so think logically as well with respect to domain."
   ]
  },
  {
   "cell_type": "code",
   "execution_count": 23,
   "id": "fbc4b345",
   "metadata": {},
   "outputs": [
    {
     "data": {
      "text/html": [
       "<div>\n",
       "<style scoped>\n",
       "    .dataframe tbody tr th:only-of-type {\n",
       "        vertical-align: middle;\n",
       "    }\n",
       "\n",
       "    .dataframe tbody tr th {\n",
       "        vertical-align: top;\n",
       "    }\n",
       "\n",
       "    .dataframe thead th {\n",
       "        text-align: right;\n",
       "    }\n",
       "</style>\n",
       "<table border=\"1\" class=\"dataframe\">\n",
       "  <thead>\n",
       "    <tr style=\"text-align: right;\">\n",
       "      <th></th>\n",
       "      <th>ID</th>\n",
       "      <th>LIMIT_BAL</th>\n",
       "      <th>SEX</th>\n",
       "      <th>EDUCATION</th>\n",
       "      <th>MARRIAGE</th>\n",
       "      <th>AGE</th>\n",
       "      <th>PAY_1</th>\n",
       "      <th>PAY_2</th>\n",
       "      <th>PAY_3</th>\n",
       "      <th>PAY_4</th>\n",
       "      <th>...</th>\n",
       "      <th>BILL_AMT4</th>\n",
       "      <th>BILL_AMT5</th>\n",
       "      <th>BILL_AMT6</th>\n",
       "      <th>PAY_AMT1</th>\n",
       "      <th>PAY_AMT2</th>\n",
       "      <th>PAY_AMT3</th>\n",
       "      <th>PAY_AMT4</th>\n",
       "      <th>PAY_AMT5</th>\n",
       "      <th>PAY_AMT6</th>\n",
       "      <th>def_pay</th>\n",
       "    </tr>\n",
       "  </thead>\n",
       "  <tbody>\n",
       "    <tr>\n",
       "      <th>0</th>\n",
       "      <td>1</td>\n",
       "      <td>20000.0</td>\n",
       "      <td>2</td>\n",
       "      <td>2</td>\n",
       "      <td>1</td>\n",
       "      <td>24</td>\n",
       "      <td>2</td>\n",
       "      <td>2</td>\n",
       "      <td>-1</td>\n",
       "      <td>-1</td>\n",
       "      <td>...</td>\n",
       "      <td>0.0</td>\n",
       "      <td>0.0</td>\n",
       "      <td>0.0</td>\n",
       "      <td>0.0</td>\n",
       "      <td>689.0</td>\n",
       "      <td>0.0</td>\n",
       "      <td>0.0</td>\n",
       "      <td>0.0</td>\n",
       "      <td>0.0</td>\n",
       "      <td>1</td>\n",
       "    </tr>\n",
       "    <tr>\n",
       "      <th>1</th>\n",
       "      <td>2</td>\n",
       "      <td>120000.0</td>\n",
       "      <td>2</td>\n",
       "      <td>2</td>\n",
       "      <td>2</td>\n",
       "      <td>26</td>\n",
       "      <td>-1</td>\n",
       "      <td>2</td>\n",
       "      <td>0</td>\n",
       "      <td>0</td>\n",
       "      <td>...</td>\n",
       "      <td>3272.0</td>\n",
       "      <td>3455.0</td>\n",
       "      <td>3261.0</td>\n",
       "      <td>0.0</td>\n",
       "      <td>1000.0</td>\n",
       "      <td>1000.0</td>\n",
       "      <td>1000.0</td>\n",
       "      <td>0.0</td>\n",
       "      <td>2000.0</td>\n",
       "      <td>1</td>\n",
       "    </tr>\n",
       "    <tr>\n",
       "      <th>2</th>\n",
       "      <td>3</td>\n",
       "      <td>90000.0</td>\n",
       "      <td>2</td>\n",
       "      <td>2</td>\n",
       "      <td>2</td>\n",
       "      <td>34</td>\n",
       "      <td>0</td>\n",
       "      <td>0</td>\n",
       "      <td>0</td>\n",
       "      <td>0</td>\n",
       "      <td>...</td>\n",
       "      <td>14331.0</td>\n",
       "      <td>14948.0</td>\n",
       "      <td>15549.0</td>\n",
       "      <td>1518.0</td>\n",
       "      <td>1500.0</td>\n",
       "      <td>1000.0</td>\n",
       "      <td>1000.0</td>\n",
       "      <td>1000.0</td>\n",
       "      <td>5000.0</td>\n",
       "      <td>0</td>\n",
       "    </tr>\n",
       "    <tr>\n",
       "      <th>3</th>\n",
       "      <td>4</td>\n",
       "      <td>50000.0</td>\n",
       "      <td>2</td>\n",
       "      <td>2</td>\n",
       "      <td>1</td>\n",
       "      <td>37</td>\n",
       "      <td>0</td>\n",
       "      <td>0</td>\n",
       "      <td>0</td>\n",
       "      <td>0</td>\n",
       "      <td>...</td>\n",
       "      <td>28314.0</td>\n",
       "      <td>28959.0</td>\n",
       "      <td>29547.0</td>\n",
       "      <td>2000.0</td>\n",
       "      <td>2019.0</td>\n",
       "      <td>1200.0</td>\n",
       "      <td>1100.0</td>\n",
       "      <td>1069.0</td>\n",
       "      <td>1000.0</td>\n",
       "      <td>0</td>\n",
       "    </tr>\n",
       "    <tr>\n",
       "      <th>4</th>\n",
       "      <td>5</td>\n",
       "      <td>50000.0</td>\n",
       "      <td>1</td>\n",
       "      <td>2</td>\n",
       "      <td>1</td>\n",
       "      <td>57</td>\n",
       "      <td>-1</td>\n",
       "      <td>0</td>\n",
       "      <td>-1</td>\n",
       "      <td>0</td>\n",
       "      <td>...</td>\n",
       "      <td>20940.0</td>\n",
       "      <td>19146.0</td>\n",
       "      <td>19131.0</td>\n",
       "      <td>2000.0</td>\n",
       "      <td>36681.0</td>\n",
       "      <td>10000.0</td>\n",
       "      <td>9000.0</td>\n",
       "      <td>689.0</td>\n",
       "      <td>679.0</td>\n",
       "      <td>0</td>\n",
       "    </tr>\n",
       "  </tbody>\n",
       "</table>\n",
       "<p>5 rows × 25 columns</p>\n",
       "</div>"
      ],
      "text/plain": [
       "   ID  LIMIT_BAL  SEX  EDUCATION  MARRIAGE  AGE  PAY_1  PAY_2  PAY_3  PAY_4  \\\n",
       "0   1    20000.0    2          2         1   24      2      2     -1     -1   \n",
       "1   2   120000.0    2          2         2   26     -1      2      0      0   \n",
       "2   3    90000.0    2          2         2   34      0      0      0      0   \n",
       "3   4    50000.0    2          2         1   37      0      0      0      0   \n",
       "4   5    50000.0    1          2         1   57     -1      0     -1      0   \n",
       "\n",
       "   ...  BILL_AMT4  BILL_AMT5  BILL_AMT6  PAY_AMT1  PAY_AMT2  PAY_AMT3  \\\n",
       "0  ...        0.0        0.0        0.0       0.0     689.0       0.0   \n",
       "1  ...     3272.0     3455.0     3261.0       0.0    1000.0    1000.0   \n",
       "2  ...    14331.0    14948.0    15549.0    1518.0    1500.0    1000.0   \n",
       "3  ...    28314.0    28959.0    29547.0    2000.0    2019.0    1200.0   \n",
       "4  ...    20940.0    19146.0    19131.0    2000.0   36681.0   10000.0   \n",
       "\n",
       "   PAY_AMT4  PAY_AMT5  PAY_AMT6  def_pay  \n",
       "0       0.0       0.0       0.0        1  \n",
       "1    1000.0       0.0    2000.0        1  \n",
       "2    1000.0    1000.0    5000.0        0  \n",
       "3    1100.0    1069.0    1000.0        0  \n",
       "4    9000.0     689.0     679.0        0  \n",
       "\n",
       "[5 rows x 25 columns]"
      ]
     },
     "execution_count": 23,
     "metadata": {},
     "output_type": "execute_result"
    }
   ],
   "source": [
    "df=df.rename(columns={'default.payment.next.month':'def_pay','PAY_0':'PAY_1'})   # pay 0 is pay 1 actually when compared to others\n",
    "df.head()"
   ]
  },
  {
   "cell_type": "code",
   "execution_count": 24,
   "id": "d3faac43",
   "metadata": {},
   "outputs": [
    {
     "data": {
      "text/plain": [
       "0.2212"
      ]
     },
     "execution_count": 24,
     "metadata": {},
     "output_type": "execute_result"
    }
   ],
   "source": [
    "df.def_pay.sum()/len(df.def_pay)"
   ]
  },
  {
   "cell_type": "markdown",
   "id": "1b214bcb",
   "metadata": {},
   "source": [
    "This again proves that the dataset is imbalanced.This is because the default rate for binary classification should be 50% if the dataset is balanced here 20% shows that the classes aare imbalanced.\n"
   ]
  },
  {
   "cell_type": "markdown",
   "id": "c28eb43e",
   "metadata": {},
   "source": [
    "For the categorical varables always do a count plt to check if any of the values are under represented before doing the modelling."
   ]
  },
  {
   "cell_type": "code",
   "execution_count": 25,
   "id": "62c429e8",
   "metadata": {},
   "outputs": [
    {
     "data": {
      "text/plain": [
       "<AxesSubplot:>"
      ]
     },
     "execution_count": 25,
     "metadata": {},
     "output_type": "execute_result"
    },
    {
     "data": {
      "image/png": "[encoded data removed]",
      "text/plain": [
       "<Figure size 640x480 with 1 Axes>"
      ]
     },
     "metadata": {},
     "output_type": "display_data"
    }
   ],
   "source": [
    "df.MARRIAGE.value_counts().plot(kind='barh')"
   ]
  },
  {
   "cell_type": "markdown",
   "id": "acee8f8f",
   "metadata": {},
   "source": [
    "Here again the marriage 3 and 0 are underrepresented and 0 was not expected according to data description."
   ]
  },
  {
   "cell_type": "markdown",
   "id": "8ad6f3f6",
   "metadata": {},
   "source": [
    "So this 0 is present in almost all the classes which should not be here. So it indicates that it might be computational error or system change error.May be we can club it together in 1 class as 3 because it might be in others."
   ]
  },
  {
   "cell_type": "code",
   "execution_count": 26,
   "id": "dd122fc5",
   "metadata": {},
   "outputs": [
    {
     "data": {
      "text/plain": [
       "<AxesSubplot:>"
      ]
     },
     "execution_count": 26,
     "metadata": {},
     "output_type": "execute_result"
    },
    {
     "data": {
      "image/png": "[encoded data removed]",
      "text/plain": [
       "<Figure size 640x480 with 1 Axes>"
      ]
     },
     "metadata": {},
     "output_type": "display_data"
    }
   ],
   "source": [
    "df.SEX.value_counts().plot(kind='barh')"
   ]
  },
  {
   "cell_type": "markdown",
   "id": "5fd44404",
   "metadata": {},
   "source": [
    "Here 1 is male and 2 is female so we have more female credit card customers than male."
   ]
  },
  {
   "cell_type": "code",
   "execution_count": 27,
   "id": "a76c91f9",
   "metadata": {},
   "outputs": [
    {
     "data": {
      "text/plain": [
       "<AxesSubplot:>"
      ]
     },
     "execution_count": 27,
     "metadata": {},
     "output_type": "execute_result"
    },
    {
     "data": {
      "image/png": "[encoded data removed]",
      "text/plain": [
       "<Figure size 640x480 with 1 Axes>"
      ]
     },
     "metadata": {},
     "output_type": "display_data"
    }
   ],
   "source": [
    "df.EDUCATION.value_counts().plot(kind='barh')"
   ]
  },
  {
   "cell_type": "code",
   "execution_count": 28,
   "id": "c98e6fa0",
   "metadata": {},
   "outputs": [
    {
     "data": {
      "text/plain": [
       "2    14030\n",
       "1    10585\n",
       "3     4917\n",
       "5      280\n",
       "4      123\n",
       "6       51\n",
       "0       14\n",
       "Name: EDUCATION, dtype: int64"
      ]
     },
     "execution_count": 28,
     "metadata": {},
     "output_type": "execute_result"
    }
   ],
   "source": [
    "df.EDUCATION.value_counts()"
   ]
  },
  {
   "cell_type": "markdown",
   "id": "1004b43a",
   "metadata": {},
   "source": [
    "Here again 0 should not be there. So we can combine 4,5,6 and 0."
   ]
  },
  {
   "cell_type": "markdown",
   "id": "c0085f8e",
   "metadata": {},
   "source": [
    "Histogram function is not required here but useful when we have larger datasets."
   ]
  },
  {
   "cell_type": "code",
   "execution_count": 29,
   "id": "1746e2d1",
   "metadata": {},
   "outputs": [],
   "source": [
    "\n",
    "import matplotlib.pyplot as plt\n",
    "def draw_histograms(df,variables,n_rows,n_cols,n_bins):\n",
    "    fig=plt.figure()\n",
    "    for i,var_name in enumerate(variables):\n",
    "        ax=fig.add_subplot(n_rows,n_cols,i+1)\n",
    "        df[var_name].hist(bins=n_bins,ax=ax)\n",
    "        ax.set_title(var_name)\n",
    "    fig.tight_layout()   #improves appearance a bit\n",
    "    plt.show()"
   ]
  },
  {
   "cell_type": "code",
   "execution_count": 30,
   "id": "8b991405",
   "metadata": {},
   "outputs": [
    {
     "data": {
      "image/png": "[encoded data removed]",
      "text/plain": [
       "<Figure size 640x480 with 6 Axes>"
      ]
     },
     "metadata": {},
     "output_type": "display_data"
    }
   ],
   "source": [
    "bills=df[['BILL_AMT1','BILL_AMT2','BILL_AMT3','BILL_AMT4','BILL_AMT5','BILL_AMT6']]\n",
    "draw_histograms(bills,bills.columns,2,3,20)"
   ]
  },
  {
   "cell_type": "markdown",
   "id": "adb6ed3a",
   "metadata": {},
   "source": [
    "It shows the distribution of each column and you can check if there is fair(similar) distribution among similar columns"
   ]
  },
  {
   "cell_type": "code",
   "execution_count": 31,
   "id": "e4c276a7",
   "metadata": {},
   "outputs": [
    {
     "data": {
      "image/png": "[encoded data removed]",
      "text/plain": [
       "<Figure size 640x480 with 6 Axes>"
      ]
     },
     "metadata": {},
     "output_type": "display_data"
    }
   ],
   "source": [
    "pay=df[['PAY_AMT1','PAY_AMT2','PAY_AMT3','PAY_AMT4','PAY_AMT5','PAY_AMT6']]\n",
    "draw_histograms(pay,pay.columns,2,3,20)\n",
    "#plotting histograms of the data in the pay dataframe for each of the selected columns (PAY_AMT1 through PAY_AMT6), \n",
    "#using a 2x3 grid of subplots, with each subplot having a bin size of 20"
   ]
  },
  {
   "cell_type": "code",
   "execution_count": 32,
   "id": "f4dd2e52",
   "metadata": {},
   "outputs": [
    {
     "data": {
      "image/png": "[encoded data removed]",
      "text/plain": [
       "<Figure size 640x480 with 6 Axes>"
      ]
     },
     "metadata": {},
     "output_type": "display_data"
    }
   ],
   "source": [
    "late=df[['PAY_1','PAY_2','PAY_3','PAY_4','PAY_5','PAY_6']]\n",
    "draw_histograms(late,late.columns,2,3,20)"
   ]
  },
  {
   "cell_type": "markdown",
   "id": "5ad22f44",
   "metadata": {},
   "source": [
    "Skewed data is a term used to describe data that is not evenly distributed around the mean. In a dataset with a normal distribution, the data would be evenly distributed around the mean, with approximately half of the data points falling above the mean and half falling below.\n",
    "\n",
    "However, in a skewed dataset, the distribution is not symmetrical, and the majority of the data points tend to cluster towards one end of the scale. There are two types of skewed data:\n",
    "\n",
    "Positive skew: In a positively skewed dataset, the tail of the distribution is longer on the right-hand side. This means that there are more data points on the left-hand side of the mean, with a few extreme values on the right-hand side.\n",
    "\n",
    "Negative skew: In a negatively skewed dataset, the tail of the distribution is longer on the left-hand side. This means that there are more data points on the right-hand side of the mean, with a few extreme values on the left-hand side.\n",
    "\n",
    "Skewed data can have implications for statistical analyses and data modeling, as certain statistical tests and models assume a normal distribution of the data. Therefore, it is important to identify and understand the nature of the skewness in the data before analyzing it."
   ]
  },
  {
   "cell_type": "markdown",
   "id": "8cb4a400",
   "metadata": {},
   "source": [
    "All the above histogram shows that the data is not equally districuted along the mean and hence it is skewed.There are 2 ways to solve the problem of skewness:\n",
    "\n",
    "1.Logarithmic transformation\n",
    "2.Scaling\n",
    "\n",
    "Scaling is more advantageous than log as it makes easy to train algorithms on."
   ]
  },
  {
   "cell_type": "code",
   "execution_count": 33,
   "id": "3f784e9e",
   "metadata": {},
   "outputs": [
    {
     "data": {
      "text/plain": [
       "<AxesSubplot:>"
      ]
     },
     "execution_count": 33,
     "metadata": {},
     "output_type": "execute_result"
    },
    {
     "data": {
      "image/png": "[encoded data removed]",
      "text/plain": [
       "<Figure size 640x480 with 1 Axes>"
      ]
     },
     "metadata": {},
     "output_type": "display_data"
    }
   ],
   "source": [
    "df.AGE.hist()"
   ]
  },
  {
   "cell_type": "code",
   "execution_count": null,
   "id": "d5f7e8a0",
   "metadata": {},
   "outputs": [],
   "source": []
  },
  {
   "cell_type": "markdown",
   "id": "07503089",
   "metadata": {},
   "source": [
    "It is observed that ypung/ adults in the age 20-40 are uisng more credit card than others."
   ]
  },
  {
   "cell_type": "markdown",
   "id": "55d17df7",
   "metadata": {},
   "source": [
    "Tree based models have proven to perform better with categorical data than numeric data so we shall try to convert the numeric data to categorical form by bucketing them wherever possible.You can create a new feature by crreating the bins and like 10-20,30-40 etc, and create a categorical variable with this.So the model will understand the people in this bin are not diff and they can be treated equally as they behave similarly.you should try to keep all the columns while training."
   ]
  },
  {
   "cell_type": "code",
   "execution_count": 34,
   "id": "f9c9aa8d",
   "metadata": {},
   "outputs": [
    {
     "data": {
      "text/plain": [
       "<AxesSubplot:>"
      ]
     },
     "execution_count": 34,
     "metadata": {},
     "output_type": "execute_result"
    },
    {
     "data": {
      "image/png": "[encoded data removed]",
      "text/plain": [
       "<Figure size 640x480 with 1 Axes>"
      ]
     },
     "metadata": {},
     "output_type": "display_data"
    }
   ],
   "source": [
    "df.LIMIT_BAL.hist(bins=20)"
   ]
  },
  {
   "cell_type": "markdown",
   "id": "b7ef04f6",
   "metadata": {},
   "source": [
    "# Combining columns whereever necessary "
   ]
  },
  {
   "cell_type": "markdown",
   "id": "1843bb67",
   "metadata": {},
   "source": [
    "As described before we will add values 5,6 and 0 of eduction in 4."
   ]
  },
  {
   "cell_type": "code",
   "execution_count": 35,
   "id": "6ab7d97f",
   "metadata": {},
   "outputs": [
    {
     "data": {
      "text/plain": [
       "2    14030\n",
       "1    10585\n",
       "3     4917\n",
       "4      468\n",
       "Name: EDUCATION, dtype: int64"
      ]
     },
     "execution_count": 35,
     "metadata": {},
     "output_type": "execute_result"
    }
   ],
   "source": [
    "fil= (df.EDUCATION==5) | (df.EDUCATION==6) | (df.EDUCATION==0)\n",
    "df.loc[fil,'EDUCATION']=4\n",
    "df.EDUCATION.value_counts()"
   ]
  },
  {
   "cell_type": "code",
   "execution_count": 36,
   "id": "027cdcb1",
   "metadata": {},
   "outputs": [
    {
     "data": {
      "text/plain": [
       "2    15964\n",
       "1    13659\n",
       "3      377\n",
       "Name: MARRIAGE, dtype: int64"
      ]
     },
     "execution_count": 36,
     "metadata": {},
     "output_type": "execute_result"
    }
   ],
   "source": [
    "df.loc[df.MARRIAGE==0,'MARRIAGE']=3\n",
    "df.MARRIAGE.value_counts()"
   ]
  },
  {
   "cell_type": "markdown",
   "id": "0791fc24",
   "metadata": {},
   "source": [
    "We had to convert any no that is negative or 0 to 0 in the PAY columns as they all mean that those customers pay on time.The below call does the same."
   ]
  },
  {
   "cell_type": "code",
   "execution_count": 37,
   "id": "06a92400",
   "metadata": {},
   "outputs": [
    {
     "data": {
      "image/png": "[encoded data removed]",
      "text/plain": [
       "<Figure size 640x480 with 6 Axes>"
      ]
     },
     "metadata": {},
     "output_type": "display_data"
    }
   ],
   "source": [
    "fil = (df.PAY_1== -2) | (df.PAY_1==-1) | (df.PAY_1==0)\n",
    "df.loc[fil,'PAY_1']=0\n",
    "fil = (df.PAY_2==-2) | (df.PAY_2==-1) | (df.PAY_2==0)\n",
    "df.loc[fil,'PAY_2']=0\n",
    "fil = (df.PAY_3==-2) | (df.PAY_3==-1) | (df.PAY_3==0)\n",
    "df.loc[fil,'PAY_3']=0\n",
    "fil = (df.PAY_4==-2) | (df.PAY_4==-1) | (df.PAY_4==0)\n",
    "df.loc[fil,'PAY_4']=0\n",
    "fil = (df.PAY_5==-2) | (df.PAY_5==-1) | (df.PAY_5==0)\n",
    "df.loc[fil,'PAY_5']=0\n",
    "fil = (df.PAY_6==-2) | (df.PAY_6==-1) | (df.PAY_6==0)\n",
    "df.loc[fil,'PAY_6']=0\n",
    "late=df[['PAY_1','PAY_2','PAY_3','PAY_4','PAY_5','PAY_6']]\n",
    "draw_histograms(late,late.columns,2,3,10)"
   ]
  },
  {
   "cell_type": "code",
   "execution_count": 38,
   "id": "55ea2929",
   "metadata": {},
   "outputs": [
    {
     "data": {
      "text/html": [
       "<div>\n",
       "<style scoped>\n",
       "    .dataframe tbody tr th:only-of-type {\n",
       "        vertical-align: middle;\n",
       "    }\n",
       "\n",
       "    .dataframe tbody tr th {\n",
       "        vertical-align: top;\n",
       "    }\n",
       "\n",
       "    .dataframe thead th {\n",
       "        text-align: right;\n",
       "    }\n",
       "</style>\n",
       "<table border=\"1\" class=\"dataframe\">\n",
       "  <thead>\n",
       "    <tr style=\"text-align: right;\">\n",
       "      <th></th>\n",
       "      <th>LIMIT_BAL</th>\n",
       "      <th>PAY_1</th>\n",
       "      <th>PAY_2</th>\n",
       "      <th>BILL_AMT2</th>\n",
       "      <th>BILL_AMT1</th>\n",
       "      <th>PAY_AMT1</th>\n",
       "      <th>def_pay</th>\n",
       "    </tr>\n",
       "  </thead>\n",
       "  <tbody>\n",
       "    <tr>\n",
       "      <th>2687</th>\n",
       "      <td>500000.0</td>\n",
       "      <td>0</td>\n",
       "      <td>0</td>\n",
       "      <td>367979.0</td>\n",
       "      <td>71921.0</td>\n",
       "      <td>368199.0</td>\n",
       "      <td>0</td>\n",
       "    </tr>\n",
       "    <tr>\n",
       "      <th>5687</th>\n",
       "      <td>480000.0</td>\n",
       "      <td>0</td>\n",
       "      <td>0</td>\n",
       "      <td>400000.0</td>\n",
       "      <td>106660.0</td>\n",
       "      <td>302000.0</td>\n",
       "      <td>0</td>\n",
       "    </tr>\n",
       "    <tr>\n",
       "      <th>8500</th>\n",
       "      <td>400000.0</td>\n",
       "      <td>0</td>\n",
       "      <td>0</td>\n",
       "      <td>405016.0</td>\n",
       "      <td>6500.0</td>\n",
       "      <td>405016.0</td>\n",
       "      <td>0</td>\n",
       "    </tr>\n",
       "    <tr>\n",
       "      <th>12330</th>\n",
       "      <td>300000.0</td>\n",
       "      <td>1</td>\n",
       "      <td>0</td>\n",
       "      <td>324392.0</td>\n",
       "      <td>-165580.0</td>\n",
       "      <td>505000.0</td>\n",
       "      <td>0</td>\n",
       "    </tr>\n",
       "    <tr>\n",
       "      <th>25431</th>\n",
       "      <td>170000.0</td>\n",
       "      <td>0</td>\n",
       "      <td>0</td>\n",
       "      <td>167941.0</td>\n",
       "      <td>30860.0</td>\n",
       "      <td>304815.0</td>\n",
       "      <td>0</td>\n",
       "    </tr>\n",
       "    <tr>\n",
       "      <th>28003</th>\n",
       "      <td>510000.0</td>\n",
       "      <td>0</td>\n",
       "      <td>0</td>\n",
       "      <td>481382.0</td>\n",
       "      <td>71121.0</td>\n",
       "      <td>493358.0</td>\n",
       "      <td>0</td>\n",
       "    </tr>\n",
       "    <tr>\n",
       "      <th>28716</th>\n",
       "      <td>340000.0</td>\n",
       "      <td>0</td>\n",
       "      <td>0</td>\n",
       "      <td>176743.0</td>\n",
       "      <td>139808.0</td>\n",
       "      <td>873552.0</td>\n",
       "      <td>0</td>\n",
       "    </tr>\n",
       "    <tr>\n",
       "      <th>29820</th>\n",
       "      <td>400000.0</td>\n",
       "      <td>1</td>\n",
       "      <td>0</td>\n",
       "      <td>394858.0</td>\n",
       "      <td>396343.0</td>\n",
       "      <td>423903.0</td>\n",
       "      <td>0</td>\n",
       "    </tr>\n",
       "    <tr>\n",
       "      <th>29867</th>\n",
       "      <td>340000.0</td>\n",
       "      <td>0</td>\n",
       "      <td>0</td>\n",
       "      <td>331641.0</td>\n",
       "      <td>44855.0</td>\n",
       "      <td>300039.0</td>\n",
       "      <td>0</td>\n",
       "    </tr>\n",
       "    <tr>\n",
       "      <th>29963</th>\n",
       "      <td>610000.0</td>\n",
       "      <td>0</td>\n",
       "      <td>0</td>\n",
       "      <td>322228.0</td>\n",
       "      <td>348392.0</td>\n",
       "      <td>323014.0</td>\n",
       "      <td>0</td>\n",
       "    </tr>\n",
       "  </tbody>\n",
       "</table>\n",
       "</div>"
      ],
      "text/plain": [
       "       LIMIT_BAL  PAY_1  PAY_2  BILL_AMT2  BILL_AMT1  PAY_AMT1  def_pay\n",
       "2687    500000.0      0      0   367979.0    71921.0  368199.0        0\n",
       "5687    480000.0      0      0   400000.0   106660.0  302000.0        0\n",
       "8500    400000.0      0      0   405016.0     6500.0  405016.0        0\n",
       "12330   300000.0      1      0   324392.0  -165580.0  505000.0        0\n",
       "25431   170000.0      0      0   167941.0    30860.0  304815.0        0\n",
       "28003   510000.0      0      0   481382.0    71121.0  493358.0        0\n",
       "28716   340000.0      0      0   176743.0   139808.0  873552.0        0\n",
       "29820   400000.0      1      0   394858.0   396343.0  423903.0        0\n",
       "29867   340000.0      0      0   331641.0    44855.0  300039.0        0\n",
       "29963   610000.0      0      0   322228.0   348392.0  323014.0        0"
      ]
     },
     "execution_count": 38,
     "metadata": {},
     "output_type": "execute_result"
    }
   ],
   "source": [
    "df[df.PAY_AMT1>300000][['LIMIT_BAL','PAY_1','PAY_2','BILL_AMT2','BILL_AMT1','PAY_AMT1','def_pay']]"
   ]
  },
  {
   "cell_type": "code",
   "execution_count": 39,
   "id": "d346527b",
   "metadata": {},
   "outputs": [
    {
     "data": {
      "text/html": [
       "<div>\n",
       "<style scoped>\n",
       "    .dataframe tbody tr th:only-of-type {\n",
       "        vertical-align: middle;\n",
       "    }\n",
       "\n",
       "    .dataframe tbody tr th {\n",
       "        vertical-align: top;\n",
       "    }\n",
       "\n",
       "    .dataframe thead th {\n",
       "        text-align: right;\n",
       "    }\n",
       "</style>\n",
       "<table border=\"1\" class=\"dataframe\">\n",
       "  <thead>\n",
       "    <tr style=\"text-align: right;\">\n",
       "      <th></th>\n",
       "      <th>LIMIT_BAL</th>\n",
       "      <th>PAY_1</th>\n",
       "      <th>PAY_2</th>\n",
       "      <th>BILL_AMT2</th>\n",
       "      <th>BILL_AMT1</th>\n",
       "      <th>PAY_AMT1</th>\n",
       "      <th>def_pay</th>\n",
       "    </tr>\n",
       "  </thead>\n",
       "  <tbody>\n",
       "    <tr>\n",
       "      <th>2592</th>\n",
       "      <td>480000.0</td>\n",
       "      <td>1</td>\n",
       "      <td>0</td>\n",
       "      <td>38929.0</td>\n",
       "      <td>-220.0</td>\n",
       "      <td>39149.0</td>\n",
       "      <td>0</td>\n",
       "    </tr>\n",
       "    <tr>\n",
       "      <th>3774</th>\n",
       "      <td>500000.0</td>\n",
       "      <td>0</td>\n",
       "      <td>0</td>\n",
       "      <td>39356.0</td>\n",
       "      <td>103880.0</td>\n",
       "      <td>39560.0</td>\n",
       "      <td>0</td>\n",
       "    </tr>\n",
       "    <tr>\n",
       "      <th>5296</th>\n",
       "      <td>500000.0</td>\n",
       "      <td>0</td>\n",
       "      <td>0</td>\n",
       "      <td>-18088.0</td>\n",
       "      <td>125.0</td>\n",
       "      <td>4366.0</td>\n",
       "      <td>0</td>\n",
       "    </tr>\n",
       "    <tr>\n",
       "      <th>5400</th>\n",
       "      <td>500000.0</td>\n",
       "      <td>0</td>\n",
       "      <td>0</td>\n",
       "      <td>8970.0</td>\n",
       "      <td>27891.0</td>\n",
       "      <td>8982.0</td>\n",
       "      <td>0</td>\n",
       "    </tr>\n",
       "    <tr>\n",
       "      <th>6150</th>\n",
       "      <td>300000.0</td>\n",
       "      <td>1</td>\n",
       "      <td>0</td>\n",
       "      <td>-5973.0</td>\n",
       "      <td>-3928.0</td>\n",
       "      <td>1720.0</td>\n",
       "      <td>1</td>\n",
       "    </tr>\n",
       "    <tr>\n",
       "      <th>6864</th>\n",
       "      <td>500000.0</td>\n",
       "      <td>0</td>\n",
       "      <td>0</td>\n",
       "      <td>201402.0</td>\n",
       "      <td>192257.0</td>\n",
       "      <td>40000.0</td>\n",
       "      <td>0</td>\n",
       "    </tr>\n",
       "    <tr>\n",
       "      <th>9044</th>\n",
       "      <td>500000.0</td>\n",
       "      <td>0</td>\n",
       "      <td>0</td>\n",
       "      <td>24201.0</td>\n",
       "      <td>51465.0</td>\n",
       "      <td>24201.0</td>\n",
       "      <td>0</td>\n",
       "    </tr>\n",
       "    <tr>\n",
       "      <th>11568</th>\n",
       "      <td>430000.0</td>\n",
       "      <td>0</td>\n",
       "      <td>0</td>\n",
       "      <td>960.0</td>\n",
       "      <td>52930.0</td>\n",
       "      <td>510.0</td>\n",
       "      <td>1</td>\n",
       "    </tr>\n",
       "    <tr>\n",
       "      <th>11853</th>\n",
       "      <td>360000.0</td>\n",
       "      <td>1</td>\n",
       "      <td>1</td>\n",
       "      <td>-22960.0</td>\n",
       "      <td>277040.0</td>\n",
       "      <td>0.0</td>\n",
       "      <td>0</td>\n",
       "    </tr>\n",
       "    <tr>\n",
       "      <th>12829</th>\n",
       "      <td>340000.0</td>\n",
       "      <td>0</td>\n",
       "      <td>0</td>\n",
       "      <td>335584.0</td>\n",
       "      <td>327058.0</td>\n",
       "      <td>16004.0</td>\n",
       "      <td>1</td>\n",
       "    </tr>\n",
       "    <tr>\n",
       "      <th>13186</th>\n",
       "      <td>750000.0</td>\n",
       "      <td>1</td>\n",
       "      <td>0</td>\n",
       "      <td>9655.0</td>\n",
       "      <td>9500.0</td>\n",
       "      <td>250000.0</td>\n",
       "      <td>0</td>\n",
       "    </tr>\n",
       "    <tr>\n",
       "      <th>13863</th>\n",
       "      <td>520000.0</td>\n",
       "      <td>0</td>\n",
       "      <td>0</td>\n",
       "      <td>2728.0</td>\n",
       "      <td>7322.0</td>\n",
       "      <td>2728.0</td>\n",
       "      <td>0</td>\n",
       "    </tr>\n",
       "    <tr>\n",
       "      <th>14513</th>\n",
       "      <td>460000.0</td>\n",
       "      <td>0</td>\n",
       "      <td>0</td>\n",
       "      <td>261444.0</td>\n",
       "      <td>323408.0</td>\n",
       "      <td>5229.0</td>\n",
       "      <td>0</td>\n",
       "    </tr>\n",
       "    <tr>\n",
       "      <th>16917</th>\n",
       "      <td>350000.0</td>\n",
       "      <td>0</td>\n",
       "      <td>0</td>\n",
       "      <td>107315.0</td>\n",
       "      <td>343842.0</td>\n",
       "      <td>15000.0</td>\n",
       "      <td>0</td>\n",
       "    </tr>\n",
       "    <tr>\n",
       "      <th>19723</th>\n",
       "      <td>500000.0</td>\n",
       "      <td>0</td>\n",
       "      <td>0</td>\n",
       "      <td>71921.0</td>\n",
       "      <td>329570.0</td>\n",
       "      <td>72001.0</td>\n",
       "      <td>0</td>\n",
       "    </tr>\n",
       "    <tr>\n",
       "      <th>21250</th>\n",
       "      <td>340000.0</td>\n",
       "      <td>0</td>\n",
       "      <td>0</td>\n",
       "      <td>43418.0</td>\n",
       "      <td>9983.0</td>\n",
       "      <td>43418.0</td>\n",
       "      <td>0</td>\n",
       "    </tr>\n",
       "    <tr>\n",
       "      <th>24920</th>\n",
       "      <td>430000.0</td>\n",
       "      <td>0</td>\n",
       "      <td>0</td>\n",
       "      <td>46127.0</td>\n",
       "      <td>43970.0</td>\n",
       "      <td>50942.0</td>\n",
       "      <td>0</td>\n",
       "    </tr>\n",
       "    <tr>\n",
       "      <th>25731</th>\n",
       "      <td>80000.0</td>\n",
       "      <td>0</td>\n",
       "      <td>0</td>\n",
       "      <td>-215.0</td>\n",
       "      <td>47751.0</td>\n",
       "      <td>215.0</td>\n",
       "      <td>0</td>\n",
       "    </tr>\n",
       "    <tr>\n",
       "      <th>28003</th>\n",
       "      <td>510000.0</td>\n",
       "      <td>0</td>\n",
       "      <td>0</td>\n",
       "      <td>481382.0</td>\n",
       "      <td>71121.0</td>\n",
       "      <td>493358.0</td>\n",
       "      <td>0</td>\n",
       "    </tr>\n",
       "    <tr>\n",
       "      <th>28716</th>\n",
       "      <td>340000.0</td>\n",
       "      <td>0</td>\n",
       "      <td>0</td>\n",
       "      <td>176743.0</td>\n",
       "      <td>139808.0</td>\n",
       "      <td>873552.0</td>\n",
       "      <td>0</td>\n",
       "    </tr>\n",
       "    <tr>\n",
       "      <th>28993</th>\n",
       "      <td>480000.0</td>\n",
       "      <td>0</td>\n",
       "      <td>0</td>\n",
       "      <td>106660.0</td>\n",
       "      <td>98569.0</td>\n",
       "      <td>10620.0</td>\n",
       "      <td>1</td>\n",
       "    </tr>\n",
       "  </tbody>\n",
       "</table>\n",
       "</div>"
      ],
      "text/plain": [
       "       LIMIT_BAL  PAY_1  PAY_2  BILL_AMT2  BILL_AMT1  PAY_AMT1  def_pay\n",
       "2592    480000.0      1      0    38929.0     -220.0   39149.0        0\n",
       "3774    500000.0      0      0    39356.0   103880.0   39560.0        0\n",
       "5296    500000.0      0      0   -18088.0      125.0    4366.0        0\n",
       "5400    500000.0      0      0     8970.0    27891.0    8982.0        0\n",
       "6150    300000.0      1      0    -5973.0    -3928.0    1720.0        1\n",
       "6864    500000.0      0      0   201402.0   192257.0   40000.0        0\n",
       "9044    500000.0      0      0    24201.0    51465.0   24201.0        0\n",
       "11568   430000.0      0      0      960.0    52930.0     510.0        1\n",
       "11853   360000.0      1      1   -22960.0   277040.0       0.0        0\n",
       "12829   340000.0      0      0   335584.0   327058.0   16004.0        1\n",
       "13186   750000.0      1      0     9655.0     9500.0  250000.0        0\n",
       "13863   520000.0      0      0     2728.0     7322.0    2728.0        0\n",
       "14513   460000.0      0      0   261444.0   323408.0    5229.0        0\n",
       "16917   350000.0      0      0   107315.0   343842.0   15000.0        0\n",
       "19723   500000.0      0      0    71921.0   329570.0   72001.0        0\n",
       "21250   340000.0      0      0    43418.0     9983.0   43418.0        0\n",
       "24920   430000.0      0      0    46127.0    43970.0   50942.0        0\n",
       "25731    80000.0      0      0     -215.0    47751.0     215.0        0\n",
       "28003   510000.0      0      0   481382.0    71121.0  493358.0        0\n",
       "28716   340000.0      0      0   176743.0   139808.0  873552.0        0\n",
       "28993   480000.0      0      0   106660.0    98569.0   10620.0        1"
      ]
     },
     "execution_count": 39,
     "metadata": {},
     "output_type": "execute_result"
    }
   ],
   "source": [
    "df[df.PAY_AMT2>300000][['LIMIT_BAL','PAY_1','PAY_2','BILL_AMT2','BILL_AMT1','PAY_AMT1','def_pay']]"
   ]
  },
  {
   "cell_type": "markdown",
   "id": "ee9a2de2",
   "metadata": {},
   "source": [
    "From above it is clear that the max values that we thought can be outlier are not actually outliers as these people have huge limits on cards and thats why they are spending more."
   ]
  },
  {
   "cell_type": "markdown",
   "id": "26ee4962",
   "metadata": {},
   "source": [
    "These were the people who came under outlier.But looking at their credit limits these values are genuine values."
   ]
  },
  {
   "cell_type": "markdown",
   "id": "22c991b8",
   "metadata": {},
   "source": [
    "Groupby must always be done on the categorical variables to check if they are really related to the target or not.This is done with the help of crosstab and groupby as below:"
   ]
  },
  {
   "cell_type": "markdown",
   "id": "a70fff90",
   "metadata": {},
   "source": [
    "Pivot table is a data summarization tool used in spreadsheet programs such as Microsoft Excel, Google Sheets, and others. It allows you to quickly analyze and summarize large amounts of data, and gain insights that might not be apparent by simply looking at the raw data.\n",
    "\n",
    "A pivot table works by taking a large dataset and allowing you to break it down into smaller, more manageable pieces. You can group the data by different criteria, such as date, product, or region, and then summarize the data using various functions, such as sum, average, or count.\n",
    "\n",
    "For example, if you have a large sales dataset, you can use a pivot table to analyze the sales by region, product, and date. You could then easily see which products are selling the most, which regions are performing the best, and how sales are changing over time.\n",
    "\n",
    "In Python, a crosstab (short for cross-tabulation) is a table that shows the distribution of one or more variables across multiple dimensions. It is a way to summarize and present data in a tabular format, similar to a pivot table in spreadsheet software.\n",
    "\n",
    "The pandas library in Python provides a crosstab function that allows you to create cross-tabulations of data in a DataFrame. The function takes one or more row variables and one or more column variables, and returns a table showing the frequency count of the values for each combination of the variables."
   ]
  },
  {
   "cell_type": "code",
   "execution_count": 40,
   "id": "95d9f324",
   "metadata": {
    "scrolled": true
   },
   "outputs": [
    {
     "data": {
      "text/html": [
       "<div>\n",
       "<style scoped>\n",
       "    .dataframe tbody tr th:only-of-type {\n",
       "        vertical-align: middle;\n",
       "    }\n",
       "\n",
       "    .dataframe tbody tr th {\n",
       "        vertical-align: top;\n",
       "    }\n",
       "\n",
       "    .dataframe thead th {\n",
       "        text-align: right;\n",
       "    }\n",
       "</style>\n",
       "<table border=\"1\" class=\"dataframe\">\n",
       "  <thead>\n",
       "    <tr style=\"text-align: right;\">\n",
       "      <th>def_pay</th>\n",
       "      <th>0</th>\n",
       "      <th>1</th>\n",
       "    </tr>\n",
       "    <tr>\n",
       "      <th>SEX</th>\n",
       "      <th></th>\n",
       "      <th></th>\n",
       "    </tr>\n",
       "  </thead>\n",
       "  <tbody>\n",
       "    <tr>\n",
       "      <th>1</th>\n",
       "      <td>9015</td>\n",
       "      <td>2873</td>\n",
       "    </tr>\n",
       "    <tr>\n",
       "      <th>2</th>\n",
       "      <td>14349</td>\n",
       "      <td>3763</td>\n",
       "    </tr>\n",
       "  </tbody>\n",
       "</table>\n",
       "</div>"
      ],
      "text/plain": [
       "def_pay      0     1\n",
       "SEX                 \n",
       "1         9015  2873\n",
       "2        14349  3763"
      ]
     },
     "execution_count": 40,
     "metadata": {},
     "output_type": "execute_result"
    }
   ],
   "source": [
    "pd.crosstab(df.SEX,df.def_pay)"
   ]
  },
  {
   "cell_type": "markdown",
   "id": "f1139c90",
   "metadata": {},
   "source": [
    "Crosstab is basically like a pivot table."
   ]
  },
  {
   "cell_type": "code",
   "execution_count": 41,
   "id": "c5da5c9e",
   "metadata": {},
   "outputs": [
    {
     "data": {
      "text/html": [
       "<div>\n",
       "<style scoped>\n",
       "    .dataframe tbody tr th:only-of-type {\n",
       "        vertical-align: middle;\n",
       "    }\n",
       "\n",
       "    .dataframe tbody tr th {\n",
       "        vertical-align: top;\n",
       "    }\n",
       "\n",
       "    .dataframe thead th {\n",
       "        text-align: right;\n",
       "    }\n",
       "</style>\n",
       "<table border=\"1\" class=\"dataframe\">\n",
       "  <thead>\n",
       "    <tr style=\"text-align: right;\">\n",
       "      <th></th>\n",
       "      <th>def_pay</th>\n",
       "    </tr>\n",
       "    <tr>\n",
       "      <th>SEX</th>\n",
       "      <th></th>\n",
       "    </tr>\n",
       "  </thead>\n",
       "  <tbody>\n",
       "    <tr>\n",
       "      <th>2</th>\n",
       "      <td>0.207763</td>\n",
       "    </tr>\n",
       "    <tr>\n",
       "      <th>1</th>\n",
       "      <td>0.241672</td>\n",
       "    </tr>\n",
       "  </tbody>\n",
       "</table>\n",
       "</div>"
      ],
      "text/plain": [
       "      def_pay\n",
       "SEX          \n",
       "2    0.207763\n",
       "1    0.241672"
      ]
     },
     "execution_count": 41,
     "metadata": {},
     "output_type": "execute_result"
    }
   ],
   "source": [
    "df[['SEX','def_pay']].groupby(['SEX']).mean().sort_values(by='def_pay')"
   ]
  },
  {
   "cell_type": "markdown",
   "id": "412befbe",
   "metadata": {},
   "source": [
    "It shows that men are defaulting more than females"
   ]
  },
  {
   "cell_type": "code",
   "execution_count": 42,
   "id": "5de99d2e",
   "metadata": {},
   "outputs": [],
   "source": [
    "def corr_2_cols(Col1,Col2):\n",
    "    res=df.groupby([Col1,Col2]).size().unstack()\n",
    "    res['perc'] = (res[res.columns[1]] / (res[res.columns[0]] + res[res.columns[1]]))\n",
    "    return res\n",
    "                 "
   ]
  },
  {
   "cell_type": "code",
   "execution_count": 43,
   "id": "7a5edf30",
   "metadata": {},
   "outputs": [
    {
     "data": {
      "text/html": [
       "<div>\n",
       "<style scoped>\n",
       "    .dataframe tbody tr th:only-of-type {\n",
       "        vertical-align: middle;\n",
       "    }\n",
       "\n",
       "    .dataframe tbody tr th {\n",
       "        vertical-align: top;\n",
       "    }\n",
       "\n",
       "    .dataframe thead th {\n",
       "        text-align: right;\n",
       "    }\n",
       "</style>\n",
       "<table border=\"1\" class=\"dataframe\">\n",
       "  <thead>\n",
       "    <tr style=\"text-align: right;\">\n",
       "      <th>def_pay</th>\n",
       "      <th>0</th>\n",
       "      <th>1</th>\n",
       "      <th>perc</th>\n",
       "    </tr>\n",
       "    <tr>\n",
       "      <th>EDUCATION</th>\n",
       "      <th></th>\n",
       "      <th></th>\n",
       "      <th></th>\n",
       "    </tr>\n",
       "  </thead>\n",
       "  <tbody>\n",
       "    <tr>\n",
       "      <th>1</th>\n",
       "      <td>8549</td>\n",
       "      <td>2036</td>\n",
       "      <td>0.192348</td>\n",
       "    </tr>\n",
       "    <tr>\n",
       "      <th>2</th>\n",
       "      <td>10700</td>\n",
       "      <td>3330</td>\n",
       "      <td>0.237349</td>\n",
       "    </tr>\n",
       "    <tr>\n",
       "      <th>3</th>\n",
       "      <td>3680</td>\n",
       "      <td>1237</td>\n",
       "      <td>0.251576</td>\n",
       "    </tr>\n",
       "    <tr>\n",
       "      <th>4</th>\n",
       "      <td>435</td>\n",
       "      <td>33</td>\n",
       "      <td>0.070513</td>\n",
       "    </tr>\n",
       "  </tbody>\n",
       "</table>\n",
       "</div>"
      ],
      "text/plain": [
       "def_pay        0     1      perc\n",
       "EDUCATION                       \n",
       "1           8549  2036  0.192348\n",
       "2          10700  3330  0.237349\n",
       "3           3680  1237  0.251576\n",
       "4            435    33  0.070513"
      ]
     },
     "execution_count": 43,
     "metadata": {},
     "output_type": "execute_result"
    }
   ],
   "source": [
    "corr_2_cols('EDUCATION','def_pay')"
   ]
  },
  {
   "cell_type": "markdown",
   "id": "eadfeeeb",
   "metadata": {},
   "source": [
    "Here we have decent representation of 1,2,3 classes and hence it can be useful to predict the output as they have decent difference in the probabilities of default.So we usually check this for all the categorical variables to check their relation with the target."
   ]
  },
  {
   "cell_type": "code",
   "execution_count": 44,
   "id": "fff11357",
   "metadata": {},
   "outputs": [
    {
     "data": {
      "text/html": [
       "<div>\n",
       "<style scoped>\n",
       "    .dataframe tbody tr th:only-of-type {\n",
       "        vertical-align: middle;\n",
       "    }\n",
       "\n",
       "    .dataframe tbody tr th {\n",
       "        vertical-align: top;\n",
       "    }\n",
       "\n",
       "    .dataframe thead th {\n",
       "        text-align: right;\n",
       "    }\n",
       "</style>\n",
       "<table border=\"1\" class=\"dataframe\">\n",
       "  <thead>\n",
       "    <tr style=\"text-align: right;\">\n",
       "      <th>def_pay</th>\n",
       "      <th>0</th>\n",
       "      <th>1</th>\n",
       "      <th>perc</th>\n",
       "    </tr>\n",
       "    <tr>\n",
       "      <th>MARRIAGE</th>\n",
       "      <th></th>\n",
       "      <th></th>\n",
       "      <th></th>\n",
       "    </tr>\n",
       "  </thead>\n",
       "  <tbody>\n",
       "    <tr>\n",
       "      <th>1</th>\n",
       "      <td>10453</td>\n",
       "      <td>3206</td>\n",
       "      <td>0.234717</td>\n",
       "    </tr>\n",
       "    <tr>\n",
       "      <th>2</th>\n",
       "      <td>12623</td>\n",
       "      <td>3341</td>\n",
       "      <td>0.209283</td>\n",
       "    </tr>\n",
       "    <tr>\n",
       "      <th>3</th>\n",
       "      <td>288</td>\n",
       "      <td>89</td>\n",
       "      <td>0.236074</td>\n",
       "    </tr>\n",
       "  </tbody>\n",
       "</table>\n",
       "</div>"
      ],
      "text/plain": [
       "def_pay       0     1      perc\n",
       "MARRIAGE                       \n",
       "1         10453  3206  0.234717\n",
       "2         12623  3341  0.209283\n",
       "3           288    89  0.236074"
      ]
     },
     "execution_count": 44,
     "metadata": {},
     "output_type": "execute_result"
    }
   ],
   "source": [
    "corr_2_cols('MARRIAGE','def_pay')"
   ]
  },
  {
   "cell_type": "markdown",
   "id": "da892bca",
   "metadata": {},
   "source": [
    "This shows that married people are defaulting more than single one."
   ]
  },
  {
   "cell_type": "markdown",
   "id": "ce861c34",
   "metadata": {},
   "source": [
    "# Feature Engineering"
   ]
  },
  {
   "cell_type": "markdown",
   "id": "926072b2",
   "metadata": {},
   "source": [
    "Usually in feature engineering it is always good idea to add some attributes and apply random forest and check the feature importance.This will give you more important features and then you can create more variables with new combinations for better results.Random forest or dt(depth 5,6) with no new features get the top 5 or top 10 and use them in new features.So initially with basic data run rf and get feature importance and then after modelling again check the feture importance."
   ]
  },
  {
   "cell_type": "code",
   "execution_count": 45,
   "id": "d786ff29",
   "metadata": {},
   "outputs": [
    {
     "data": {
      "text/html": [
       "<div>\n",
       "<style scoped>\n",
       "    .dataframe tbody tr th:only-of-type {\n",
       "        vertical-align: middle;\n",
       "    }\n",
       "\n",
       "    .dataframe tbody tr th {\n",
       "        vertical-align: top;\n",
       "    }\n",
       "\n",
       "    .dataframe thead th {\n",
       "        text-align: right;\n",
       "    }\n",
       "</style>\n",
       "<table border=\"1\" class=\"dataframe\">\n",
       "  <thead>\n",
       "    <tr style=\"text-align: right;\">\n",
       "      <th>def_pay</th>\n",
       "      <th>0</th>\n",
       "      <th>1</th>\n",
       "      <th>perc</th>\n",
       "    </tr>\n",
       "    <tr>\n",
       "      <th>SE_MA</th>\n",
       "      <th></th>\n",
       "      <th></th>\n",
       "      <th></th>\n",
       "    </tr>\n",
       "  </thead>\n",
       "  <tbody>\n",
       "    <tr>\n",
       "      <th>1</th>\n",
       "      <td>3844</td>\n",
       "      <td>1346</td>\n",
       "      <td>0.259345</td>\n",
       "    </tr>\n",
       "    <tr>\n",
       "      <th>2</th>\n",
       "      <td>11677</td>\n",
       "      <td>3345</td>\n",
       "      <td>0.222673</td>\n",
       "    </tr>\n",
       "    <tr>\n",
       "      <th>3</th>\n",
       "      <td>103</td>\n",
       "      <td>42</td>\n",
       "      <td>0.289655</td>\n",
       "    </tr>\n",
       "    <tr>\n",
       "      <th>4</th>\n",
       "      <td>7555</td>\n",
       "      <td>1856</td>\n",
       "      <td>0.197216</td>\n",
       "    </tr>\n",
       "    <tr>\n",
       "      <th>6</th>\n",
       "      <td>185</td>\n",
       "      <td>47</td>\n",
       "      <td>0.202586</td>\n",
       "    </tr>\n",
       "  </tbody>\n",
       "</table>\n",
       "</div>"
      ],
      "text/plain": [
       "def_pay      0     1      perc\n",
       "SE_MA                         \n",
       "1         3844  1346  0.259345\n",
       "2        11677  3345  0.222673\n",
       "3          103    42  0.289655\n",
       "4         7555  1856  0.197216\n",
       "6          185    47  0.202586"
      ]
     },
     "execution_count": 45,
     "metadata": {},
     "output_type": "execute_result"
    }
   ],
   "source": [
    "df['SE_MA']= df.SEX*df.MARRIAGE  # statistical interaction effects\n",
    "corr_2_cols('SE_MA','def_pay')   # Here we have high probability of default with 3 ,which seems like good variable with high default."
   ]
  },
  {
   "cell_type": "markdown",
   "id": "edbd8eb7",
   "metadata": {},
   "source": [
    "Below cell takes all permutations and combinations of the same 2 variables to get more factors "
   ]
  },
  {
   "cell_type": "code",
   "execution_count": 46,
   "id": "8fd8c452",
   "metadata": {},
   "outputs": [
    {
     "data": {
      "text/html": [
       "<div>\n",
       "<style scoped>\n",
       "    .dataframe tbody tr th:only-of-type {\n",
       "        vertical-align: middle;\n",
       "    }\n",
       "\n",
       "    .dataframe tbody tr th {\n",
       "        vertical-align: top;\n",
       "    }\n",
       "\n",
       "    .dataframe thead th {\n",
       "        text-align: right;\n",
       "    }\n",
       "</style>\n",
       "<table border=\"1\" class=\"dataframe\">\n",
       "  <thead>\n",
       "    <tr style=\"text-align: right;\">\n",
       "      <th>def_pay</th>\n",
       "      <th>0</th>\n",
       "      <th>1</th>\n",
       "      <th>perc</th>\n",
       "    </tr>\n",
       "    <tr>\n",
       "      <th>SE_MA_2</th>\n",
       "      <th></th>\n",
       "      <th></th>\n",
       "      <th></th>\n",
       "    </tr>\n",
       "  </thead>\n",
       "  <tbody>\n",
       "    <tr>\n",
       "      <th>1</th>\n",
       "      <td>3844</td>\n",
       "      <td>1346</td>\n",
       "      <td>0.259345</td>\n",
       "    </tr>\n",
       "    <tr>\n",
       "      <th>2</th>\n",
       "      <td>5068</td>\n",
       "      <td>1485</td>\n",
       "      <td>0.226614</td>\n",
       "    </tr>\n",
       "    <tr>\n",
       "      <th>3</th>\n",
       "      <td>103</td>\n",
       "      <td>42</td>\n",
       "      <td>0.289655</td>\n",
       "    </tr>\n",
       "    <tr>\n",
       "      <th>4</th>\n",
       "      <td>6609</td>\n",
       "      <td>1860</td>\n",
       "      <td>0.219625</td>\n",
       "    </tr>\n",
       "    <tr>\n",
       "      <th>5</th>\n",
       "      <td>7555</td>\n",
       "      <td>1856</td>\n",
       "      <td>0.197216</td>\n",
       "    </tr>\n",
       "    <tr>\n",
       "      <th>6</th>\n",
       "      <td>185</td>\n",
       "      <td>47</td>\n",
       "      <td>0.202586</td>\n",
       "    </tr>\n",
       "  </tbody>\n",
       "</table>\n",
       "</div>"
      ],
      "text/plain": [
       "def_pay     0     1      perc\n",
       "SE_MA_2                      \n",
       "1        3844  1346  0.259345\n",
       "2        5068  1485  0.226614\n",
       "3         103    42  0.289655\n",
       "4        6609  1860  0.219625\n",
       "5        7555  1856  0.197216\n",
       "6         185    47  0.202586"
      ]
     },
     "execution_count": 46,
     "metadata": {},
     "output_type": "execute_result"
    }
   ],
   "source": [
    "df['SE_MA_2']=0\n",
    "df.loc[((df.SEX==1) & (df.MARRIAGE==1)) , 'SE_MA_2'] = 1  # married male\n",
    "df.loc[((df.SEX==1) & (df.MARRIAGE==2)) , 'SE_MA_2'] = 2  #single male\n",
    "df.loc[((df.SEX==1) & (df.MARRIAGE==3)) , 'SE_MA_2'] = 3\n",
    "df.loc[((df.SEX==2) & (df.MARRIAGE==1)) , 'SE_MA_2'] = 4\n",
    "df.loc[((df.SEX==2) & (df.MARRIAGE==2)) , 'SE_MA_2'] = 5\n",
    "df.loc[((df.SEX==2) & (df.MARRIAGE==3)) , 'SE_MA_2'] = 6\n",
    "corr_2_cols('SE_MA_2','def_pay')"
   ]
  },
  {
   "cell_type": "code",
   "execution_count": 47,
   "id": "607aa2fb",
   "metadata": {},
   "outputs": [
    {
     "data": {
      "text/plain": [
       "<AxesSubplot:>"
      ]
     },
     "execution_count": 47,
     "metadata": {},
     "output_type": "execute_result"
    },
    {
     "data": {
      "image/png": "[encoded data removed]",
      "text/plain": [
       "<Figure size 640x480 with 1 Axes>"
      ]
     },
     "metadata": {},
     "output_type": "display_data"
    }
   ],
   "source": [
    "df['AgeBin'] = 0    #creating a column of 0\n",
    "df.loc[((df['AGE'] >20) & (df['AGE'] < 30)) , 'AgeBin'] =1\n",
    "df.loc[((df['AGE'] >= 30) & (df['AGE'] < 40)) , 'AgeBin'] =2\n",
    "df.loc[((df['AGE'] >=40) & (df['AGE'] < 50)) , 'AgeBin'] =3\n",
    "df.loc[((df['AGE'] >= 50) & (df['AGE'] < 60)) , 'AgeBin'] =4\n",
    "df.loc[((df['AGE'] >= 60) & (df['AGE'] < 70)) , 'AgeBin'] =5\n",
    "df.loc[((df['AGE'] >= 70) & (df['AGE'] < 80)) , 'AgeBin'] =6\n",
    "df.AgeBin.hist()"
   ]
  },
  {
   "cell_type": "code",
   "execution_count": 48,
   "id": "05d2d703",
   "metadata": {},
   "outputs": [
    {
     "data": {
      "text/plain": [
       "<AxesSubplot:>"
      ]
     },
     "execution_count": 48,
     "metadata": {},
     "output_type": "execute_result"
    },
    {
     "data": {
      "image/png": "[encoded data removed]",
      "text/plain": [
       "<Figure size 640x480 with 1 Axes>"
      ]
     },
     "metadata": {},
     "output_type": "display_data"
    }
   ],
   "source": [
    "df.loc[(df['AgeBin']==6 ) ,'AgeBin'] =5\n",
    "df.AgeBin.hist()"
   ]
  },
  {
   "cell_type": "code",
   "execution_count": 49,
   "id": "c87531ad",
   "metadata": {},
   "outputs": [
    {
     "data": {
      "text/html": [
       "<div>\n",
       "<style scoped>\n",
       "    .dataframe tbody tr th:only-of-type {\n",
       "        vertical-align: middle;\n",
       "    }\n",
       "\n",
       "    .dataframe tbody tr th {\n",
       "        vertical-align: top;\n",
       "    }\n",
       "\n",
       "    .dataframe thead th {\n",
       "        text-align: right;\n",
       "    }\n",
       "</style>\n",
       "<table border=\"1\" class=\"dataframe\">\n",
       "  <thead>\n",
       "    <tr style=\"text-align: right;\">\n",
       "      <th>def_pay</th>\n",
       "      <th>0</th>\n",
       "      <th>1</th>\n",
       "      <th>perc</th>\n",
       "    </tr>\n",
       "    <tr>\n",
       "      <th>AgeBin</th>\n",
       "      <th></th>\n",
       "      <th></th>\n",
       "      <th></th>\n",
       "    </tr>\n",
       "  </thead>\n",
       "  <tbody>\n",
       "    <tr>\n",
       "      <th>1</th>\n",
       "      <td>7421</td>\n",
       "      <td>2197</td>\n",
       "      <td>0.228426</td>\n",
       "    </tr>\n",
       "    <tr>\n",
       "      <th>2</th>\n",
       "      <td>8962</td>\n",
       "      <td>2276</td>\n",
       "      <td>0.202527</td>\n",
       "    </tr>\n",
       "    <tr>\n",
       "      <th>3</th>\n",
       "      <td>4979</td>\n",
       "      <td>1485</td>\n",
       "      <td>0.229734</td>\n",
       "    </tr>\n",
       "    <tr>\n",
       "      <th>4</th>\n",
       "      <td>1759</td>\n",
       "      <td>582</td>\n",
       "      <td>0.248612</td>\n",
       "    </tr>\n",
       "    <tr>\n",
       "      <th>5</th>\n",
       "      <td>243</td>\n",
       "      <td>96</td>\n",
       "      <td>0.283186</td>\n",
       "    </tr>\n",
       "  </tbody>\n",
       "</table>\n",
       "</div>"
      ],
      "text/plain": [
       "def_pay     0     1      perc\n",
       "AgeBin                       \n",
       "1        7421  2197  0.228426\n",
       "2        8962  2276  0.202527\n",
       "3        4979  1485  0.229734\n",
       "4        1759   582  0.248612\n",
       "5         243    96  0.283186"
      ]
     },
     "execution_count": 49,
     "metadata": {},
     "output_type": "execute_result"
    }
   ],
   "source": [
    "corr_2_cols('AgeBin' , 'def_pay')"
   ]
  },
  {
   "cell_type": "code",
   "execution_count": 50,
   "id": "2978e6f1",
   "metadata": {},
   "outputs": [
    {
     "data": {
      "text/html": [
       "<div>\n",
       "<style scoped>\n",
       "    .dataframe tbody tr th:only-of-type {\n",
       "        vertical-align: middle;\n",
       "    }\n",
       "\n",
       "    .dataframe tbody tr th {\n",
       "        vertical-align: top;\n",
       "    }\n",
       "\n",
       "    .dataframe thead th {\n",
       "        text-align: right;\n",
       "    }\n",
       "</style>\n",
       "<table border=\"1\" class=\"dataframe\">\n",
       "  <thead>\n",
       "    <tr style=\"text-align: right;\">\n",
       "      <th>def_pay</th>\n",
       "      <th>0</th>\n",
       "      <th>1</th>\n",
       "      <th>perc</th>\n",
       "    </tr>\n",
       "    <tr>\n",
       "      <th>SE_AG</th>\n",
       "      <th></th>\n",
       "      <th></th>\n",
       "      <th></th>\n",
       "    </tr>\n",
       "  </thead>\n",
       "  <tbody>\n",
       "    <tr>\n",
       "      <th>0</th>\n",
       "      <td>14349</td>\n",
       "      <td>3763</td>\n",
       "      <td>0.207763</td>\n",
       "    </tr>\n",
       "    <tr>\n",
       "      <th>6</th>\n",
       "      <td>2492</td>\n",
       "      <td>789</td>\n",
       "      <td>0.240475</td>\n",
       "    </tr>\n",
       "    <tr>\n",
       "      <th>7</th>\n",
       "      <td>3515</td>\n",
       "      <td>1050</td>\n",
       "      <td>0.230011</td>\n",
       "    </tr>\n",
       "    <tr>\n",
       "      <th>8</th>\n",
       "      <td>2080</td>\n",
       "      <td>691</td>\n",
       "      <td>0.249368</td>\n",
       "    </tr>\n",
       "    <tr>\n",
       "      <th>9</th>\n",
       "      <td>797</td>\n",
       "      <td>295</td>\n",
       "      <td>0.270147</td>\n",
       "    </tr>\n",
       "    <tr>\n",
       "      <th>10</th>\n",
       "      <td>131</td>\n",
       "      <td>48</td>\n",
       "      <td>0.268156</td>\n",
       "    </tr>\n",
       "  </tbody>\n",
       "</table>\n",
       "</div>"
      ],
      "text/plain": [
       "def_pay      0     1      perc\n",
       "SE_AG                         \n",
       "0        14349  3763  0.207763\n",
       "6         2492   789  0.240475\n",
       "7         3515  1050  0.230011\n",
       "8         2080   691  0.249368\n",
       "9          797   295  0.270147\n",
       "10         131    48  0.268156"
      ]
     },
     "execution_count": 50,
     "metadata": {},
     "output_type": "execute_result"
    }
   ],
   "source": [
    "df['SE_AG']= 0\n",
    "df.loc[((df.SEX==1) & (df.AgeBin==1)) , 'SE_AG'] =1   # man in 20's\n",
    "df.loc[((df.SEX==1) & (df.AgeBin==2)) , 'SE_AG'] =2   # man in 30's\n",
    "df.loc[((df.SEX==1) & (df.AgeBin==3)) , 'SE_AG'] =3   # man in 40's\n",
    "df.loc[((df.SEX==1) & (df.AgeBin==4)) , 'SE_AG'] =4   # man in 50's\n",
    "df.loc[((df.SEX==1) & (df.AgeBin==5)) , 'SE_AG'] =5   # man in 60's and above\n",
    "df.loc[((df.SEX==1) & (df.AgeBin==1)) , 'SE_AG'] =6   # woman in 20's\n",
    "df.loc[((df.SEX==1) & (df.AgeBin==2)) , 'SE_AG'] =7\n",
    "df.loc[((df.SEX==1) & (df.AgeBin==3)) , 'SE_AG'] =8\n",
    "df.loc[((df.SEX==1) & (df.AgeBin==4)) , 'SE_AG'] =9\n",
    "df.loc[((df.SEX==1) & (df.AgeBin==5)) , 'SE_AG'] =10   # woman in 60's and above\n",
    "corr_2_cols('SE_AG','def_pay')"
   ]
  },
  {
   "cell_type": "code",
   "execution_count": 51,
   "id": "a0b55438",
   "metadata": {},
   "outputs": [
    {
     "data": {
      "text/html": [
       "<div>\n",
       "<style scoped>\n",
       "    .dataframe tbody tr th:only-of-type {\n",
       "        vertical-align: middle;\n",
       "    }\n",
       "\n",
       "    .dataframe tbody tr th {\n",
       "        vertical-align: top;\n",
       "    }\n",
       "\n",
       "    .dataframe thead th {\n",
       "        text-align: right;\n",
       "    }\n",
       "</style>\n",
       "<table border=\"1\" class=\"dataframe\">\n",
       "  <thead>\n",
       "    <tr style=\"text-align: right;\">\n",
       "      <th></th>\n",
       "      <th>Proximity_6</th>\n",
       "      <th>Proximity_5</th>\n",
       "      <th>Proximity_4</th>\n",
       "      <th>Proximity_3</th>\n",
       "      <th>Proximity_2</th>\n",
       "      <th>Proximity_1</th>\n",
       "      <th>def_pay</th>\n",
       "    </tr>\n",
       "  </thead>\n",
       "  <tbody>\n",
       "    <tr>\n",
       "      <th>20110</th>\n",
       "      <td>0.996691</td>\n",
       "      <td>0.998636</td>\n",
       "      <td>0.998636</td>\n",
       "      <td>1.000000</td>\n",
       "      <td>1.000000</td>\n",
       "      <td>0.997105</td>\n",
       "      <td>1</td>\n",
       "    </tr>\n",
       "    <tr>\n",
       "      <th>29253</th>\n",
       "      <td>0.814240</td>\n",
       "      <td>0.179260</td>\n",
       "      <td>0.035640</td>\n",
       "      <td>0.064480</td>\n",
       "      <td>0.025900</td>\n",
       "      <td>0.051800</td>\n",
       "      <td>0</td>\n",
       "    </tr>\n",
       "    <tr>\n",
       "      <th>936</th>\n",
       "      <td>0.362244</td>\n",
       "      <td>0.377944</td>\n",
       "      <td>0.390911</td>\n",
       "      <td>0.402033</td>\n",
       "      <td>0.421289</td>\n",
       "      <td>0.471278</td>\n",
       "      <td>0</td>\n",
       "    </tr>\n",
       "    <tr>\n",
       "      <th>22988</th>\n",
       "      <td>0.663834</td>\n",
       "      <td>0.626874</td>\n",
       "      <td>0.680964</td>\n",
       "      <td>0.644282</td>\n",
       "      <td>0.657120</td>\n",
       "      <td>0.525868</td>\n",
       "      <td>0</td>\n",
       "    </tr>\n",
       "    <tr>\n",
       "      <th>10234</th>\n",
       "      <td>0.982700</td>\n",
       "      <td>0.975140</td>\n",
       "      <td>0.939000</td>\n",
       "      <td>0.919000</td>\n",
       "      <td>0.987440</td>\n",
       "      <td>0.974000</td>\n",
       "      <td>0</td>\n",
       "    </tr>\n",
       "    <tr>\n",
       "      <th>26384</th>\n",
       "      <td>0.572450</td>\n",
       "      <td>0.585355</td>\n",
       "      <td>0.552559</td>\n",
       "      <td>0.549227</td>\n",
       "      <td>0.492759</td>\n",
       "      <td>0.451718</td>\n",
       "      <td>0</td>\n",
       "    </tr>\n",
       "    <tr>\n",
       "      <th>173</th>\n",
       "      <td>1.065440</td>\n",
       "      <td>1.065440</td>\n",
       "      <td>1.057960</td>\n",
       "      <td>1.014180</td>\n",
       "      <td>1.014180</td>\n",
       "      <td>1.014180</td>\n",
       "      <td>1</td>\n",
       "    </tr>\n",
       "    <tr>\n",
       "      <th>23947</th>\n",
       "      <td>0.485495</td>\n",
       "      <td>0.394537</td>\n",
       "      <td>0.213563</td>\n",
       "      <td>0.172853</td>\n",
       "      <td>0.140337</td>\n",
       "      <td>0.025147</td>\n",
       "      <td>0</td>\n",
       "    </tr>\n",
       "    <tr>\n",
       "      <th>12769</th>\n",
       "      <td>0.287857</td>\n",
       "      <td>0.301971</td>\n",
       "      <td>0.275486</td>\n",
       "      <td>0.055900</td>\n",
       "      <td>0.025586</td>\n",
       "      <td>0.868114</td>\n",
       "      <td>0</td>\n",
       "    </tr>\n",
       "    <tr>\n",
       "      <th>13944</th>\n",
       "      <td>0.084789</td>\n",
       "      <td>0.139811</td>\n",
       "      <td>0.124444</td>\n",
       "      <td>0.131400</td>\n",
       "      <td>0.148522</td>\n",
       "      <td>0.150644</td>\n",
       "      <td>0</td>\n",
       "    </tr>\n",
       "    <tr>\n",
       "      <th>10671</th>\n",
       "      <td>1.000000</td>\n",
       "      <td>1.000000</td>\n",
       "      <td>1.000000</td>\n",
       "      <td>1.000000</td>\n",
       "      <td>1.000000</td>\n",
       "      <td>1.000000</td>\n",
       "      <td>0</td>\n",
       "    </tr>\n",
       "    <tr>\n",
       "      <th>29758</th>\n",
       "      <td>0.948733</td>\n",
       "      <td>0.956748</td>\n",
       "      <td>0.964862</td>\n",
       "      <td>0.749429</td>\n",
       "      <td>0.678567</td>\n",
       "      <td>0.687771</td>\n",
       "      <td>0</td>\n",
       "    </tr>\n",
       "    <tr>\n",
       "      <th>1737</th>\n",
       "      <td>0.103347</td>\n",
       "      <td>0.118708</td>\n",
       "      <td>0.084858</td>\n",
       "      <td>0.093526</td>\n",
       "      <td>0.058676</td>\n",
       "      <td>0.078050</td>\n",
       "      <td>0</td>\n",
       "    </tr>\n",
       "    <tr>\n",
       "      <th>11722</th>\n",
       "      <td>1.000000</td>\n",
       "      <td>1.000000</td>\n",
       "      <td>0.997183</td>\n",
       "      <td>0.896450</td>\n",
       "      <td>0.983363</td>\n",
       "      <td>0.822070</td>\n",
       "      <td>0</td>\n",
       "    </tr>\n",
       "    <tr>\n",
       "      <th>10412</th>\n",
       "      <td>1.000000</td>\n",
       "      <td>1.000000</td>\n",
       "      <td>1.000000</td>\n",
       "      <td>1.000000</td>\n",
       "      <td>1.000000</td>\n",
       "      <td>1.000000</td>\n",
       "      <td>0</td>\n",
       "    </tr>\n",
       "    <tr>\n",
       "      <th>27272</th>\n",
       "      <td>0.929524</td>\n",
       "      <td>0.946571</td>\n",
       "      <td>0.929895</td>\n",
       "      <td>0.987762</td>\n",
       "      <td>0.952757</td>\n",
       "      <td>0.949357</td>\n",
       "      <td>0</td>\n",
       "    </tr>\n",
       "    <tr>\n",
       "      <th>11040</th>\n",
       "      <td>0.996635</td>\n",
       "      <td>0.976217</td>\n",
       "      <td>0.930078</td>\n",
       "      <td>0.921552</td>\n",
       "      <td>0.927240</td>\n",
       "      <td>0.925340</td>\n",
       "      <td>1</td>\n",
       "    </tr>\n",
       "    <tr>\n",
       "      <th>27831</th>\n",
       "      <td>0.949860</td>\n",
       "      <td>0.955120</td>\n",
       "      <td>0.956028</td>\n",
       "      <td>0.961358</td>\n",
       "      <td>0.962838</td>\n",
       "      <td>0.967676</td>\n",
       "      <td>0</td>\n",
       "    </tr>\n",
       "    <tr>\n",
       "      <th>22069</th>\n",
       "      <td>0.025558</td>\n",
       "      <td>0.037204</td>\n",
       "      <td>0.048958</td>\n",
       "      <td>0.038265</td>\n",
       "      <td>0.059927</td>\n",
       "      <td>0.081169</td>\n",
       "      <td>0</td>\n",
       "    </tr>\n",
       "    <tr>\n",
       "      <th>28771</th>\n",
       "      <td>0.994261</td>\n",
       "      <td>0.994592</td>\n",
       "      <td>0.981547</td>\n",
       "      <td>0.988822</td>\n",
       "      <td>0.978250</td>\n",
       "      <td>0.993306</td>\n",
       "      <td>0</td>\n",
       "    </tr>\n",
       "  </tbody>\n",
       "</table>\n",
       "</div>"
      ],
      "text/plain": [
       "       Proximity_6  Proximity_5  Proximity_4  Proximity_3  Proximity_2  \\\n",
       "20110     0.996691     0.998636     0.998636     1.000000     1.000000   \n",
       "29253     0.814240     0.179260     0.035640     0.064480     0.025900   \n",
       "936       0.362244     0.377944     0.390911     0.402033     0.421289   \n",
       "22988     0.663834     0.626874     0.680964     0.644282     0.657120   \n",
       "10234     0.982700     0.975140     0.939000     0.919000     0.987440   \n",
       "26384     0.572450     0.585355     0.552559     0.549227     0.492759   \n",
       "173       1.065440     1.065440     1.057960     1.014180     1.014180   \n",
       "23947     0.485495     0.394537     0.213563     0.172853     0.140337   \n",
       "12769     0.287857     0.301971     0.275486     0.055900     0.025586   \n",
       "13944     0.084789     0.139811     0.124444     0.131400     0.148522   \n",
       "10671     1.000000     1.000000     1.000000     1.000000     1.000000   \n",
       "29758     0.948733     0.956748     0.964862     0.749429     0.678567   \n",
       "1737      0.103347     0.118708     0.084858     0.093526     0.058676   \n",
       "11722     1.000000     1.000000     0.997183     0.896450     0.983363   \n",
       "10412     1.000000     1.000000     1.000000     1.000000     1.000000   \n",
       "27272     0.929524     0.946571     0.929895     0.987762     0.952757   \n",
       "11040     0.996635     0.976217     0.930078     0.921552     0.927240   \n",
       "27831     0.949860     0.955120     0.956028     0.961358     0.962838   \n",
       "22069     0.025558     0.037204     0.048958     0.038265     0.059927   \n",
       "28771     0.994261     0.994592     0.981547     0.988822     0.978250   \n",
       "\n",
       "       Proximity_1  def_pay  \n",
       "20110     0.997105        1  \n",
       "29253     0.051800        0  \n",
       "936       0.471278        0  \n",
       "22988     0.525868        0  \n",
       "10234     0.974000        0  \n",
       "26384     0.451718        0  \n",
       "173       1.014180        1  \n",
       "23947     0.025147        0  \n",
       "12769     0.868114        0  \n",
       "13944     0.150644        0  \n",
       "10671     1.000000        0  \n",
       "29758     0.687771        0  \n",
       "1737      0.078050        0  \n",
       "11722     0.822070        0  \n",
       "10412     1.000000        0  \n",
       "27272     0.949357        0  \n",
       "11040     0.925340        1  \n",
       "27831     0.967676        0  \n",
       "22069     0.081169        0  \n",
       "28771     0.993306        0  "
      ]
     },
     "execution_count": 51,
     "metadata": {},
     "output_type": "execute_result"
    }
   ],
   "source": [
    "df['Proximity_6'] = (df.LIMIT_BAL - df.BILL_AMT6) / df.LIMIT_BAL\n",
    "df['Proximity_5'] = (df.LIMIT_BAL - df.BILL_AMT5) / df.LIMIT_BAL\n",
    "df['Proximity_4'] = (df.LIMIT_BAL - df.BILL_AMT4) / df.LIMIT_BAL\n",
    "df['Proximity_3'] = (df.LIMIT_BAL - df.BILL_AMT3) / df.LIMIT_BAL\n",
    "df['Proximity_2'] = (df.LIMIT_BAL - df.BILL_AMT2) / df.LIMIT_BAL\n",
    "df['Proximity_1'] = (df.LIMIT_BAL - df.BILL_AMT1) / df.LIMIT_BAL\n",
    "df[['Proximity_6','Proximity_5','Proximity_4','Proximity_3','Proximity_2','Proximity_1','def_pay']].sample(20)"
   ]
  },
  {
   "cell_type": "markdown",
   "id": "b3dc24f8",
   "metadata": {},
   "source": [
    "Always create a utilization variable for the datsets of the banking and credit cards data. It gives you the value of how much amount are you using from the credit limit.This proximity is the same.That along with your payment history is important(pay_1..).\n",
    "\n",
    "utilizing more  unable to pay - high risk\n",
    "utilizing low able to pay - useless customer for bank\n",
    " They need people in between. Sometimes to earn bank want you to pay only minimum and gain interest later."
   ]
  },
  {
   "cell_type": "markdown",
   "id": "af6422a6",
   "metadata": {},
   "source": [
    "You can also use library called dabl which gives all the necessary visualizations but the companies and industries does not allow to do this so you need to have the above fun defined and use them"
   ]
  },
  {
   "cell_type": "markdown",
   "id": "5fb6c396",
   "metadata": {},
   "source": [
    "# MODEL BUILDING"
   ]
  },
  {
   "cell_type": "markdown",
   "id": "d3ea1b6a",
   "metadata": {},
   "source": [
    " Spliiting into training and test set"
   ]
  },
  {
   "cell_type": "code",
   "execution_count": 52,
   "id": "d0b5f562",
   "metadata": {},
   "outputs": [],
   "source": [
    "from sklearn.model_selection import train_test_split\n",
    "\n",
    "x=df.drop(['def_pay','ID'],axis=1)\n",
    "y=df['def_pay']\n",
    "\n",
    "x_train,x_test,y_train,y_test = train_test_split(x,y,test_size=0.3,stratify=y,random_state=42)"
   ]
  },
  {
   "cell_type": "code",
   "execution_count": 53,
   "id": "309bec0b",
   "metadata": {},
   "outputs": [
    {
     "data": {
      "text/plain": [
       "LIMIT_BAL      float64\n",
       "SEX              int64\n",
       "EDUCATION        int64\n",
       "MARRIAGE         int64\n",
       "AGE              int64\n",
       "PAY_1            int64\n",
       "PAY_2            int64\n",
       "PAY_3            int64\n",
       "PAY_4            int64\n",
       "PAY_5            int64\n",
       "PAY_6            int64\n",
       "BILL_AMT1      float64\n",
       "BILL_AMT2      float64\n",
       "BILL_AMT3      float64\n",
       "BILL_AMT4      float64\n",
       "BILL_AMT5      float64\n",
       "BILL_AMT6      float64\n",
       "PAY_AMT1       float64\n",
       "PAY_AMT2       float64\n",
       "PAY_AMT3       float64\n",
       "PAY_AMT4       float64\n",
       "PAY_AMT5       float64\n",
       "PAY_AMT6       float64\n",
       "SE_MA            int64\n",
       "SE_MA_2          int64\n",
       "AgeBin           int64\n",
       "SE_AG            int64\n",
       "Proximity_6    float64\n",
       "Proximity_5    float64\n",
       "Proximity_4    float64\n",
       "Proximity_3    float64\n",
       "Proximity_2    float64\n",
       "Proximity_1    float64\n",
       "dtype: object"
      ]
     },
     "execution_count": 53,
     "metadata": {},
     "output_type": "execute_result"
    }
   ],
   "source": [
    "x_train.dtypes"
   ]
  },
  {
   "cell_type": "markdown",
   "id": "b1dc7dd9",
   "metadata": {},
   "source": [
    "You can experiment with other test size as well."
   ]
  },
  {
   "cell_type": "markdown",
   "id": "a614fa08",
   "metadata": {},
   "source": [
    "Scaling the data"
   ]
  },
  {
   "cell_type": "markdown",
   "id": "8158c968",
   "metadata": {},
   "source": [
    "To keep the test data in the original format and not after handlin the class imbalance we have 1st used train test split and then handle class imbalance only of train data."
   ]
  },
  {
   "cell_type": "code",
   "execution_count": 54,
   "id": "95969e1e",
   "metadata": {},
   "outputs": [],
   "source": [
    "from sklearn.preprocessing import StandardScaler\n",
    "#Std scaling is good for logistic and linear models,knn,k-means as they use distance formula \n",
    "# at the backend.Trr based algorithms can handle this on their own.\n",
    "sc=StandardScaler()\n",
    "x_train_std=sc.fit_transform(x_train)\n",
    "x_test_std=sc.fit_transform(x_test)"
   ]
  },
  {
   "cell_type": "code",
   "execution_count": 55,
   "id": "855b94ca",
   "metadata": {},
   "outputs": [
    {
     "data": {
      "text/plain": [
       "(30000, 35)"
      ]
     },
     "execution_count": 55,
     "metadata": {},
     "output_type": "execute_result"
    }
   ],
   "source": [
    "df.shape"
   ]
  },
  {
   "cell_type": "markdown",
   "id": "a16e1082",
   "metadata": {},
   "source": [
    "So we have added all the new created attributes to df already and will be using these in the further implementation"
   ]
  },
  {
   "cell_type": "markdown",
   "id": "6d2d69e9",
   "metadata": {},
   "source": [
    "# 1. Logistic Regression"
   ]
  },
  {
   "cell_type": "code",
   "execution_count": 56,
   "id": "ef802015",
   "metadata": {
    "scrolled": true
   },
   "outputs": [],
   "source": [
    "from sklearn.linear_model import LogisticRegression\n",
    "from sklearn.metrics import f1_score,roc_auc_score,roc_curve,accuracy_score\n",
    "from sklearn.model_selection import cross_val_score\n",
    "from sklearn.metrics import classification_report,confusion_matrix\n",
    "LR= LogisticRegression(random_state=0)\n",
    "LR.fit(x_train_std,y_train)\n",
    "y_pred=LR.predict(x_test_std)\n",
    "\n",
    "\n",
    "\n"
   ]
  },
  {
   "cell_type": "code",
   "execution_count": 57,
   "id": "0949b3b1",
   "metadata": {
    "scrolled": true
   },
   "outputs": [
    {
     "name": "stdout",
     "output_type": "stream",
     "text": [
      "Accuracy: 0.8134444444444444\n",
      "Confusion matrix-train\n",
      ": [[6694  315]\n",
      " [1364  627]]\n"
     ]
    },
    {
     "name": "stderr",
     "output_type": "stream",
     "text": [
      "E:\\Softwares\\Annaconda\\lib\\site-packages\\sklearn\\linear_model\\_logistic.py:814: ConvergenceWarning: lbfgs failed to converge (status=1):\n",
      "STOP: TOTAL NO. of ITERATIONS REACHED LIMIT.\n",
      "\n",
      "Increase the number of iterations (max_iter) or scale the data as shown in:\n",
      "    https://scikit-learn.org/stable/modules/preprocessing.html\n",
      "Please also refer to the documentation for alternative solver options:\n",
      "    https://scikit-learn.org/stable/modules/linear_model.html#logistic-regression\n",
      "  n_iter_i = _check_optimize_result(\n",
      "E:\\Softwares\\Annaconda\\lib\\site-packages\\sklearn\\linear_model\\_logistic.py:814: ConvergenceWarning: lbfgs failed to converge (status=1):\n",
      "STOP: TOTAL NO. of ITERATIONS REACHED LIMIT.\n",
      "\n",
      "Increase the number of iterations (max_iter) or scale the data as shown in:\n",
      "    https://scikit-learn.org/stable/modules/preprocessing.html\n",
      "Please also refer to the documentation for alternative solver options:\n",
      "    https://scikit-learn.org/stable/modules/linear_model.html#logistic-regression\n",
      "  n_iter_i = _check_optimize_result(\n",
      "E:\\Softwares\\Annaconda\\lib\\site-packages\\sklearn\\linear_model\\_logistic.py:814: ConvergenceWarning: lbfgs failed to converge (status=1):\n",
      "STOP: TOTAL NO. of ITERATIONS REACHED LIMIT.\n",
      "\n",
      "Increase the number of iterations (max_iter) or scale the data as shown in:\n",
      "    https://scikit-learn.org/stable/modules/preprocessing.html\n",
      "Please also refer to the documentation for alternative solver options:\n",
      "    https://scikit-learn.org/stable/modules/linear_model.html#logistic-regression\n",
      "  n_iter_i = _check_optimize_result(\n",
      "E:\\Softwares\\Annaconda\\lib\\site-packages\\sklearn\\linear_model\\_logistic.py:814: ConvergenceWarning: lbfgs failed to converge (status=1):\n",
      "STOP: TOTAL NO. of ITERATIONS REACHED LIMIT.\n",
      "\n",
      "Increase the number of iterations (max_iter) or scale the data as shown in:\n",
      "    https://scikit-learn.org/stable/modules/preprocessing.html\n",
      "Please also refer to the documentation for alternative solver options:\n",
      "    https://scikit-learn.org/stable/modules/linear_model.html#logistic-regression\n",
      "  n_iter_i = _check_optimize_result(\n",
      "E:\\Softwares\\Annaconda\\lib\\site-packages\\sklearn\\linear_model\\_logistic.py:814: ConvergenceWarning: lbfgs failed to converge (status=1):\n",
      "STOP: TOTAL NO. of ITERATIONS REACHED LIMIT.\n",
      "\n",
      "Increase the number of iterations (max_iter) or scale the data as shown in:\n",
      "    https://scikit-learn.org/stable/modules/preprocessing.html\n",
      "Please also refer to the documentation for alternative solver options:\n",
      "    https://scikit-learn.org/stable/modules/linear_model.html#logistic-regression\n",
      "  n_iter_i = _check_optimize_result(\n"
     ]
    }
   ],
   "source": [
    "print('Accuracy:' , accuracy_score(y_pred,y_test))\n",
    "print('Confusion matrix-train\\n:' , confusion_matrix(y_test,y_pred))\n",
    "cv_scores=cross_val_score(LR,x,y,cv=5)\n"
   ]
  },
  {
   "cell_type": "markdown",
   "id": "61b1479e",
   "metadata": {},
   "source": [
    "looking at confusion matrix 1364 values for class 1 are predicted incorrectly where as only 627 are correctly predicted.So it is necessary to improve this.We see that the accuracy is 81.3% but its misclassification accuracy which we can see in confusion matrix."
   ]
  },
  {
   "cell_type": "code",
   "execution_count": 58,
   "id": "e645a0df",
   "metadata": {},
   "outputs": [
    {
     "name": "stdout",
     "output_type": "stream",
     "text": [
      "              precision    recall  f1-score   support\n",
      "\n",
      "           0       0.83      0.96      0.89      7009\n",
      "           1       0.67      0.31      0.43      1991\n",
      "\n",
      "    accuracy                           0.81      9000\n",
      "   macro avg       0.75      0.63      0.66      9000\n",
      "weighted avg       0.79      0.81      0.79      9000\n",
      "\n"
     ]
    }
   ],
   "source": [
    "print(classification_report(y_test,y_pred))\n",
    "\n"
   ]
  },
  {
   "cell_type": "markdown",
   "id": "260eb2e6",
   "metadata": {},
   "source": [
    "For this problem we are more concerned with defaulters that is class 1 and we need to improve the f1-score for class 1.Recall is very bad for class 1."
   ]
  },
  {
   "cell_type": "code",
   "execution_count": 59,
   "id": "d0aacb66",
   "metadata": {},
   "outputs": [
    {
     "name": "stdout",
     "output_type": "stream",
     "text": [
      "Avg 5-fold cv scores:0.7788 Standard deviation:0.0002\n"
     ]
    }
   ],
   "source": [
    "print(\"Avg 5-fold cv scores:{}\".format(round(np.mean(cv_scores),4)),\n",
    "      \"Standard deviation:{}\".format(round(np.std(cv_scores),4)))"
   ]
  },
  {
   "cell_type": "markdown",
   "id": "3fdc56cd",
   "metadata": {},
   "source": [
    "This model cannot be considered as good model and hence we need to deal with the class imbalance and try other models."
   ]
  },
  {
   "cell_type": "markdown",
   "id": "e841d113",
   "metadata": {},
   "source": [
    "# Dealing with class imbalance"
   ]
  },
  {
   "cell_type": "code",
   "execution_count": 60,
   "id": "bf1a72bf",
   "metadata": {},
   "outputs": [
    {
     "data": {
      "text/html": [
       "<div>\n",
       "<style scoped>\n",
       "    .dataframe tbody tr th:only-of-type {\n",
       "        vertical-align: middle;\n",
       "    }\n",
       "\n",
       "    .dataframe tbody tr th {\n",
       "        vertical-align: top;\n",
       "    }\n",
       "\n",
       "    .dataframe thead th {\n",
       "        text-align: right;\n",
       "    }\n",
       "</style>\n",
       "<table border=\"1\" class=\"dataframe\">\n",
       "  <thead>\n",
       "    <tr style=\"text-align: right;\">\n",
       "      <th></th>\n",
       "      <th>LIMIT_BAL</th>\n",
       "      <th>SEX</th>\n",
       "      <th>EDUCATION</th>\n",
       "      <th>MARRIAGE</th>\n",
       "      <th>AGE</th>\n",
       "      <th>PAY_1</th>\n",
       "      <th>PAY_2</th>\n",
       "      <th>PAY_3</th>\n",
       "      <th>PAY_4</th>\n",
       "      <th>PAY_5</th>\n",
       "      <th>...</th>\n",
       "      <th>SE_MA_2</th>\n",
       "      <th>AgeBin</th>\n",
       "      <th>SE_AG</th>\n",
       "      <th>Proximity_6</th>\n",
       "      <th>Proximity_5</th>\n",
       "      <th>Proximity_4</th>\n",
       "      <th>Proximity_3</th>\n",
       "      <th>Proximity_2</th>\n",
       "      <th>Proximity_1</th>\n",
       "      <th>def_pay</th>\n",
       "    </tr>\n",
       "  </thead>\n",
       "  <tbody>\n",
       "    <tr>\n",
       "      <th>28314</th>\n",
       "      <td>200000.0</td>\n",
       "      <td>2</td>\n",
       "      <td>2</td>\n",
       "      <td>1</td>\n",
       "      <td>48</td>\n",
       "      <td>0</td>\n",
       "      <td>0</td>\n",
       "      <td>2</td>\n",
       "      <td>0</td>\n",
       "      <td>0</td>\n",
       "      <td>...</td>\n",
       "      <td>4</td>\n",
       "      <td>3</td>\n",
       "      <td>0</td>\n",
       "      <td>0.985110</td>\n",
       "      <td>0.975105</td>\n",
       "      <td>0.968455</td>\n",
       "      <td>0.945490</td>\n",
       "      <td>0.835310</td>\n",
       "      <td>0.889445</td>\n",
       "      <td>1</td>\n",
       "    </tr>\n",
       "    <tr>\n",
       "      <th>2659</th>\n",
       "      <td>50000.0</td>\n",
       "      <td>1</td>\n",
       "      <td>3</td>\n",
       "      <td>1</td>\n",
       "      <td>41</td>\n",
       "      <td>2</td>\n",
       "      <td>2</td>\n",
       "      <td>2</td>\n",
       "      <td>0</td>\n",
       "      <td>0</td>\n",
       "      <td>...</td>\n",
       "      <td>1</td>\n",
       "      <td>3</td>\n",
       "      <td>8</td>\n",
       "      <td>0.510400</td>\n",
       "      <td>0.446900</td>\n",
       "      <td>0.422440</td>\n",
       "      <td>0.431120</td>\n",
       "      <td>0.414780</td>\n",
       "      <td>0.476320</td>\n",
       "      <td>0</td>\n",
       "    </tr>\n",
       "    <tr>\n",
       "      <th>2094</th>\n",
       "      <td>20000.0</td>\n",
       "      <td>1</td>\n",
       "      <td>1</td>\n",
       "      <td>2</td>\n",
       "      <td>23</td>\n",
       "      <td>2</td>\n",
       "      <td>2</td>\n",
       "      <td>0</td>\n",
       "      <td>0</td>\n",
       "      <td>0</td>\n",
       "      <td>...</td>\n",
       "      <td>2</td>\n",
       "      <td>1</td>\n",
       "      <td>6</td>\n",
       "      <td>0.108100</td>\n",
       "      <td>0.126250</td>\n",
       "      <td>0.136650</td>\n",
       "      <td>0.173000</td>\n",
       "      <td>0.223300</td>\n",
       "      <td>0.246150</td>\n",
       "      <td>0</td>\n",
       "    </tr>\n",
       "    <tr>\n",
       "      <th>12683</th>\n",
       "      <td>200000.0</td>\n",
       "      <td>2</td>\n",
       "      <td>2</td>\n",
       "      <td>2</td>\n",
       "      <td>33</td>\n",
       "      <td>0</td>\n",
       "      <td>0</td>\n",
       "      <td>0</td>\n",
       "      <td>0</td>\n",
       "      <td>0</td>\n",
       "      <td>...</td>\n",
       "      <td>5</td>\n",
       "      <td>2</td>\n",
       "      <td>0</td>\n",
       "      <td>1.001935</td>\n",
       "      <td>1.001935</td>\n",
       "      <td>1.001935</td>\n",
       "      <td>0.932715</td>\n",
       "      <td>0.864105</td>\n",
       "      <td>0.764340</td>\n",
       "      <td>0</td>\n",
       "    </tr>\n",
       "    <tr>\n",
       "      <th>24471</th>\n",
       "      <td>130000.0</td>\n",
       "      <td>1</td>\n",
       "      <td>2</td>\n",
       "      <td>1</td>\n",
       "      <td>44</td>\n",
       "      <td>1</td>\n",
       "      <td>2</td>\n",
       "      <td>2</td>\n",
       "      <td>2</td>\n",
       "      <td>2</td>\n",
       "      <td>...</td>\n",
       "      <td>1</td>\n",
       "      <td>3</td>\n",
       "      <td>8</td>\n",
       "      <td>0.646992</td>\n",
       "      <td>0.642838</td>\n",
       "      <td>0.945992</td>\n",
       "      <td>0.939246</td>\n",
       "      <td>0.961554</td>\n",
       "      <td>0.959769</td>\n",
       "      <td>1</td>\n",
       "    </tr>\n",
       "    <tr>\n",
       "      <th>20052</th>\n",
       "      <td>80000.0</td>\n",
       "      <td>2</td>\n",
       "      <td>1</td>\n",
       "      <td>1</td>\n",
       "      <td>37</td>\n",
       "      <td>0</td>\n",
       "      <td>0</td>\n",
       "      <td>0</td>\n",
       "      <td>0</td>\n",
       "      <td>0</td>\n",
       "      <td>...</td>\n",
       "      <td>4</td>\n",
       "      <td>2</td>\n",
       "      <td>0</td>\n",
       "      <td>0.006225</td>\n",
       "      <td>-0.053387</td>\n",
       "      <td>-0.117500</td>\n",
       "      <td>-0.180163</td>\n",
       "      <td>-0.251875</td>\n",
       "      <td>-0.312362</td>\n",
       "      <td>0</td>\n",
       "    </tr>\n",
       "    <tr>\n",
       "      <th>679</th>\n",
       "      <td>30000.0</td>\n",
       "      <td>2</td>\n",
       "      <td>1</td>\n",
       "      <td>2</td>\n",
       "      <td>56</td>\n",
       "      <td>0</td>\n",
       "      <td>0</td>\n",
       "      <td>0</td>\n",
       "      <td>0</td>\n",
       "      <td>0</td>\n",
       "      <td>...</td>\n",
       "      <td>5</td>\n",
       "      <td>4</td>\n",
       "      <td>0</td>\n",
       "      <td>0.765867</td>\n",
       "      <td>0.765867</td>\n",
       "      <td>0.765867</td>\n",
       "      <td>0.765867</td>\n",
       "      <td>0.432900</td>\n",
       "      <td>0.032233</td>\n",
       "      <td>0</td>\n",
       "    </tr>\n",
       "    <tr>\n",
       "      <th>29745</th>\n",
       "      <td>20000.0</td>\n",
       "      <td>1</td>\n",
       "      <td>2</td>\n",
       "      <td>3</td>\n",
       "      <td>40</td>\n",
       "      <td>0</td>\n",
       "      <td>0</td>\n",
       "      <td>0</td>\n",
       "      <td>0</td>\n",
       "      <td>0</td>\n",
       "      <td>...</td>\n",
       "      <td>3</td>\n",
       "      <td>3</td>\n",
       "      <td>8</td>\n",
       "      <td>0.961000</td>\n",
       "      <td>1.000000</td>\n",
       "      <td>0.000000</td>\n",
       "      <td>0.100000</td>\n",
       "      <td>0.131350</td>\n",
       "      <td>0.192550</td>\n",
       "      <td>0</td>\n",
       "    </tr>\n",
       "    <tr>\n",
       "      <th>20741</th>\n",
       "      <td>50000.0</td>\n",
       "      <td>1</td>\n",
       "      <td>2</td>\n",
       "      <td>1</td>\n",
       "      <td>44</td>\n",
       "      <td>2</td>\n",
       "      <td>0</td>\n",
       "      <td>2</td>\n",
       "      <td>0</td>\n",
       "      <td>0</td>\n",
       "      <td>...</td>\n",
       "      <td>1</td>\n",
       "      <td>3</td>\n",
       "      <td>8</td>\n",
       "      <td>0.984400</td>\n",
       "      <td>0.976600</td>\n",
       "      <td>0.968800</td>\n",
       "      <td>0.981000</td>\n",
       "      <td>0.951540</td>\n",
       "      <td>0.970540</td>\n",
       "      <td>1</td>\n",
       "    </tr>\n",
       "    <tr>\n",
       "      <th>10394</th>\n",
       "      <td>230000.0</td>\n",
       "      <td>1</td>\n",
       "      <td>1</td>\n",
       "      <td>2</td>\n",
       "      <td>28</td>\n",
       "      <td>0</td>\n",
       "      <td>0</td>\n",
       "      <td>0</td>\n",
       "      <td>0</td>\n",
       "      <td>0</td>\n",
       "      <td>...</td>\n",
       "      <td>2</td>\n",
       "      <td>1</td>\n",
       "      <td>6</td>\n",
       "      <td>0.998583</td>\n",
       "      <td>0.994887</td>\n",
       "      <td>0.998583</td>\n",
       "      <td>0.998583</td>\n",
       "      <td>0.998583</td>\n",
       "      <td>0.998583</td>\n",
       "      <td>0</td>\n",
       "    </tr>\n",
       "  </tbody>\n",
       "</table>\n",
       "<p>10 rows × 34 columns</p>\n",
       "</div>"
      ],
      "text/plain": [
       "       LIMIT_BAL  SEX  EDUCATION  MARRIAGE  AGE  PAY_1  PAY_2  PAY_3  PAY_4  \\\n",
       "28314   200000.0    2          2         1   48      0      0      2      0   \n",
       "2659     50000.0    1          3         1   41      2      2      2      0   \n",
       "2094     20000.0    1          1         2   23      2      2      0      0   \n",
       "12683   200000.0    2          2         2   33      0      0      0      0   \n",
       "24471   130000.0    1          2         1   44      1      2      2      2   \n",
       "20052    80000.0    2          1         1   37      0      0      0      0   \n",
       "679      30000.0    2          1         2   56      0      0      0      0   \n",
       "29745    20000.0    1          2         3   40      0      0      0      0   \n",
       "20741    50000.0    1          2         1   44      2      0      2      0   \n",
       "10394   230000.0    1          1         2   28      0      0      0      0   \n",
       "\n",
       "       PAY_5  ...  SE_MA_2  AgeBin  SE_AG  Proximity_6  Proximity_5  \\\n",
       "28314      0  ...        4       3      0     0.985110     0.975105   \n",
       "2659       0  ...        1       3      8     0.510400     0.446900   \n",
       "2094       0  ...        2       1      6     0.108100     0.126250   \n",
       "12683      0  ...        5       2      0     1.001935     1.001935   \n",
       "24471      2  ...        1       3      8     0.646992     0.642838   \n",
       "20052      0  ...        4       2      0     0.006225    -0.053387   \n",
       "679        0  ...        5       4      0     0.765867     0.765867   \n",
       "29745      0  ...        3       3      8     0.961000     1.000000   \n",
       "20741      0  ...        1       3      8     0.984400     0.976600   \n",
       "10394      0  ...        2       1      6     0.998583     0.994887   \n",
       "\n",
       "       Proximity_4  Proximity_3  Proximity_2  Proximity_1  def_pay  \n",
       "28314     0.968455     0.945490     0.835310     0.889445        1  \n",
       "2659      0.422440     0.431120     0.414780     0.476320        0  \n",
       "2094      0.136650     0.173000     0.223300     0.246150        0  \n",
       "12683     1.001935     0.932715     0.864105     0.764340        0  \n",
       "24471     0.945992     0.939246     0.961554     0.959769        1  \n",
       "20052    -0.117500    -0.180163    -0.251875    -0.312362        0  \n",
       "679       0.765867     0.765867     0.432900     0.032233        0  \n",
       "29745     0.000000     0.100000     0.131350     0.192550        0  \n",
       "20741     0.968800     0.981000     0.951540     0.970540        1  \n",
       "10394     0.998583     0.998583     0.998583     0.998583        0  \n",
       "\n",
       "[10 rows x 34 columns]"
      ]
     },
     "execution_count": 60,
     "metadata": {},
     "output_type": "execute_result"
    }
   ],
   "source": [
    "# creating a dataframe that has only training data to balance it \n",
    "\n",
    "df_train=x_train.join(y_train)\n",
    "df_train.sample(10)"
   ]
  },
  {
   "cell_type": "markdown",
   "id": "b7df019a",
   "metadata": {},
   "source": [
    "We do not need to use the standard scaled sets here as we are not going to try any distance based models.So while dealing with imbalance the normal train and test sets data are used."
   ]
  },
  {
   "cell_type": "markdown",
   "id": "0d8dc9bf",
   "metadata": {},
   "source": [
    "\n",
    "CLASS IMBALANCE USING RESAMPLING/UPSAMPLING"
   ]
  },
  {
   "cell_type": "code",
   "execution_count": 61,
   "id": "7f66debf",
   "metadata": {},
   "outputs": [
    {
     "name": "stdout",
     "output_type": "stream",
     "text": [
      "16355\n",
      "-------------\n",
      "4645\n",
      "-------------\n",
      "0    16355\n",
      "1     4645\n",
      "Name: def_pay, dtype: int64\n"
     ]
    }
   ],
   "source": [
    "from sklearn.utils import resample\n",
    "\n",
    "#separate majority and minority class\n",
    "\n",
    "df_majority=df_train[df_train.def_pay==0]\n",
    "df_minority=df_train[df_train.def_pay==1]\n",
    "\n",
    "print(df_majority.def_pay.count())\n",
    "print(\"-------------\")\n",
    "print(df_minority.def_pay.count())\n",
    "print(\"-------------\")\n",
    "print(df_train.def_pay.value_counts())"
   ]
  },
  {
   "cell_type": "code",
   "execution_count": 62,
   "id": "a0c3591c",
   "metadata": {},
   "outputs": [
    {
     "data": {
      "text/plain": [
       "0    16355\n",
       "1    16355\n",
       "Name: def_pay, dtype: int64"
      ]
     },
     "execution_count": 62,
     "metadata": {},
     "output_type": "execute_result"
    }
   ],
   "source": [
    "#Upsampling minority class\n",
    "\n",
    "df_minority_upsampled=resample(df_minority,\n",
    "                              replace=True,  #sample with replacement\n",
    "                              n_samples=16355,  # equal to majority class \n",
    "                              random_state=587 # reproducible results\n",
    "                              )\n",
    "# combining majority and upsampled minority class\n",
    "\n",
    "df_upsampled=pd.concat([df_majority,df_minority_upsampled])\n",
    "\n",
    "# checking the class counts\n",
    "\n",
    "df_upsampled.def_pay.value_counts()\n",
    "                               \n",
    "                               "
   ]
  },
  {
   "cell_type": "markdown",
   "id": "2a845c52",
   "metadata": {},
   "source": [
    "It can be seen that class 1 values are in cresed to the values of class 0"
   ]
  },
  {
   "cell_type": "markdown",
   "id": "e4e08965",
   "metadata": {},
   "source": [
    "\n",
    "\n",
    "CLASS IMBALANCE USING DOWNSAMPLING"
   ]
  },
  {
   "cell_type": "code",
   "execution_count": 63,
   "id": "b278ca2c",
   "metadata": {},
   "outputs": [
    {
     "data": {
      "text/plain": [
       "0    4645\n",
       "1    4645\n",
       "Name: def_pay, dtype: int64"
      ]
     },
     "execution_count": 63,
     "metadata": {},
     "output_type": "execute_result"
    }
   ],
   "source": [
    "#Downsampling minority class\n",
    "\n",
    "df_majority_downsampled=resample(df_majority,\n",
    "                              replace=False , #sample without replacement\n",
    "                              n_samples=4645,  # equal to minority class \n",
    "                              random_state=587 # reproducible results\n",
    "                              )\n",
    "# combining majority and upsampled minority class\n",
    "\n",
    "df_downsampled=pd.concat([df_majority_downsampled,df_minority])\n",
    "\n",
    "# checking the class counts\n",
    "\n",
    "df_downsampled.def_pay.value_counts()"
   ]
  },
  {
   "cell_type": "markdown",
   "id": "19ce28f4",
   "metadata": {},
   "source": [
    "Here the majority class is downsampled equal to number of data in the minority class"
   ]
  },
  {
   "cell_type": "markdown",
   "id": "b5638c51",
   "metadata": {},
   "source": [
    "CLASS IMBALANCE USING SMOTE"
   ]
  },
  {
   "cell_type": "code",
   "execution_count": 65,
   "id": "47a049b1",
   "metadata": {},
   "outputs": [],
   "source": [
    "from imblearn.over_sampling import SMOTE\n"
   ]
  },
  {
   "cell_type": "code",
   "execution_count": 66,
   "id": "b4b641e9",
   "metadata": {},
   "outputs": [
    {
     "name": "stdout",
     "output_type": "stream",
     "text": [
      "32710\n",
      "16355\n",
      "0    16355\n",
      "1    16355\n",
      "Name: def_pay, dtype: int64\n"
     ]
    }
   ],
   "source": [
    "sm = SMOTE(random_state=42)\n",
    "x_SMOTE,y_SMOTE= sm.fit_resample(x_train,y_train)\n",
    "print(len(y_SMOTE))\n",
    "print(y_SMOTE.sum())\n",
    "print(y_SMOTE.value_counts())"
   ]
  },
  {
   "cell_type": "code",
   "execution_count": 67,
   "id": "e4c291b8",
   "metadata": {},
   "outputs": [],
   "source": [
    "from sklearn.tree import DecisionTreeClassifier\n",
    "from sklearn.ensemble import RandomForestClassifier,GradientBoostingClassifier,AdaBoostClassifier\n",
    "from xgboost import XGBClassifier\n",
    "from sklearn.metrics import f1_score\n",
    "from sklearn.metrics import make_scorer\n",
    "from sklearn.model_selection import GridSearchCV"
   ]
  },
  {
   "cell_type": "code",
   "execution_count": 68,
   "id": "1c1c001f",
   "metadata": {},
   "outputs": [
    {
     "name": "stdout",
     "output_type": "stream",
     "text": [
      "Wall time: 4min 42s\n",
      "RandomForestClassifier(class_weight='balanced', criterion='entropy',\n",
      "                       n_estimators=200, n_jobs=-1)\n",
      "0.46827151978763243\n"
     ]
    }
   ],
   "source": [
    "#normal training set\n",
    "param_grid = {'n_estimators': [200, 400, 600, 1000], # It is going to be a long search\n",
    "             'criterion': ['entropy', 'gini'],\n",
    "              'class_weight': ['balanced'],'n_jobs': [-1]} #use all the computational power you have\n",
    "acc_scorer = make_scorer(f1_score)\n",
    "grid_forest = GridSearchCV(RandomForestClassifier(), param_grid, scoring = acc_scorer, cv=5)\n",
    "%time grid_forest = grid_forest.fit(x_train, y_train) \n",
    "print(grid_forest.best_estimator_) \n",
    "print(grid_forest.best_score_)\n",
    "forest_normal = grid_forest.best_estimator_"
   ]
  },
  {
   "cell_type": "markdown",
   "id": "47fd0832",
   "metadata": {},
   "source": [
    "# Implementing Random forest"
   ]
  },
  {
   "cell_type": "code",
   "execution_count": 69,
   "id": "7ca64bfd",
   "metadata": {},
   "outputs": [],
   "source": [
    "forest_normal = RandomForestClassifier(bootstrap=True, class_weight='balanced',\n",
    "                                       criterion='entropy', max_depth=None, max_features='auto', max_leaf_nodes=None,\n",
    "                                       min_impurity_decrease=0.0, \n",
    "                                       min_samples_leaf=1, min_samples_split=2, min_weight_fraction_leaf=0.0, \n",
    "                                       n_estimators=600, n_jobs=-1, oob_score=False, \n",
    "                                       random_state=None, verbose=0, warm_start = False)"
   ]
  },
  {
   "cell_type": "markdown",
   "id": "07831378",
   "metadata": {},
   "source": [
    "# RF on upsampled data"
   ]
  },
  {
   "cell_type": "code",
   "execution_count": 70,
   "id": "b9c0cb4b",
   "metadata": {},
   "outputs": [],
   "source": [
    "y_upsampled=df_upsampled.def_pay\n",
    "X_upsampled=df_upsampled.drop(['def_pay'], axis= 1)"
   ]
  },
  {
   "cell_type": "code",
   "execution_count": 79,
   "id": "b7e25acb",
   "metadata": {
    "scrolled": true
   },
   "outputs": [
    {
     "name": "stdout",
     "output_type": "stream",
     "text": [
      "Wall time: 6min 25s\n"
     ]
    }
   ],
   "source": [
    "# upsampled training set\n",
    "param_grid = {'n_estimators': [200, 400, 600, 1000],\n",
    "               'criterion': ['entropy', 'gini'],'n_jobs': [-1]}\n",
    "acc_scorer = make_scorer (f1_score)\n",
    "grid_forest = GridSearchCV(RandomForestClassifier(), param_grid, scoring = acc_scorer, cv=5)\n",
    "%time grid_forest = grid_forest.fit(X_upsampled, y_upsampled)"
   ]
  },
  {
   "cell_type": "code",
   "execution_count": 80,
   "id": "d1a0691d",
   "metadata": {},
   "outputs": [
    {
     "name": "stdout",
     "output_type": "stream",
     "text": [
      "RandomForestClassifier(n_estimators=400, n_jobs=-1)\n",
      "0.9395750474303977\n"
     ]
    }
   ],
   "source": [
    "print(grid_forest.best_estimator_) \n",
    "print(grid_forest.best_score_) \n",
    "forest_upsampled = grid_forest.best_estimator_"
   ]
  },
  {
   "cell_type": "code",
   "execution_count": 88,
   "id": "fb5ae285",
   "metadata": {},
   "outputs": [],
   "source": [
    "forest_upsampled = RandomForestClassifier(bootstrap=True, class_weight=None, criterion='gini',\n",
    "                   max_depth=None, max_features='auto',max_leaf_nodes=None, min_impurity_decrease=0.0, \n",
    "                   min_samples_leaf=1, min_samples_split=2,\n",
    "                   min_weight_fraction_leaf=0.0, n_estimators=600, n_jobs=-1, \n",
    "                   oob_score=False, random_state=None, verbose=0,warm_start=False)"
   ]
  },
  {
   "cell_type": "markdown",
   "id": "5672ce26",
   "metadata": {},
   "source": [
    "# RF on downsampled data"
   ]
  },
  {
   "cell_type": "code",
   "execution_count": 89,
   "id": "47d4abb2",
   "metadata": {},
   "outputs": [],
   "source": [
    "y_downsampled= df_downsampled.def_pay\n",
    "X_downsampled=df_downsampled.drop(['def_pay'], axis= 1)"
   ]
  },
  {
   "cell_type": "code",
   "execution_count": 94,
   "id": "adf5ef99",
   "metadata": {},
   "outputs": [
    {
     "name": "stdout",
     "output_type": "stream",
     "text": [
      "Wall time: 2min 36s\n"
     ]
    },
    {
     "data": {
      "text/plain": [
       "0    4645\n",
       "1    4645\n",
       "Name: def_pay, dtype: int64"
      ]
     },
     "execution_count": 94,
     "metadata": {},
     "output_type": "execute_result"
    }
   ],
   "source": [
    "# downsampled training set\n",
    "param_grid = {'n_estimators': [200, 400, 600, 1000],\n",
    "               'criterion': ['entropy', 'gini'],'n_jobs': [-1]}\n",
    "acc_scorer = make_scorer (f1_score)\n",
    "grid_forest = GridSearchCV(RandomForestClassifier(), param_grid, scoring = acc_scorer, cv=5)\n",
    "%time grid_forest = grid_forest.fit(X_downsampled, y_downsampled)\n"
   ]
  },
  {
   "cell_type": "code",
   "execution_count": 96,
   "id": "e2c1bfdf",
   "metadata": {},
   "outputs": [
    {
     "name": "stdout",
     "output_type": "stream",
     "text": [
      "RandomForestClassifier(n_estimators=400, n_jobs=-1)\n",
      "0.6880874520722647\n"
     ]
    }
   ],
   "source": [
    "print(grid_forest.best_estimator_) \n",
    "print(grid_forest.best_score_) \n",
    "forest_downsampled = grid_forest.best_estimator_"
   ]
  },
  {
   "cell_type": "code",
   "execution_count": 99,
   "id": "15993248",
   "metadata": {},
   "outputs": [],
   "source": [
    "forest_downsampled = RandomForestClassifier(bootstrap=True, class_weight=None, criterion='gini',\n",
    "                   max_depth=None, max_features='auto',max_leaf_nodes=None, min_impurity_decrease=0.0, \n",
    "                   min_samples_leaf=1, min_samples_split=2,\n",
    "                   min_weight_fraction_leaf=0.0, n_estimators=600, n_jobs=-1, \n",
    "                   oob_score=False, random_state=None, verbose=0,warm_start=False)"
   ]
  },
  {
   "cell_type": "markdown",
   "id": "706210f3",
   "metadata": {},
   "source": [
    "# RF on SMOTE data"
   ]
  },
  {
   "cell_type": "code",
   "execution_count": 100,
   "id": "099ecf0c",
   "metadata": {},
   "outputs": [
    {
     "name": "stdout",
     "output_type": "stream",
     "text": [
      "Wall time: 9min 7s\n",
      "RandomForestClassifier(n_estimators=200, n_jobs=-1)\n",
      "0.8477619925964358\n"
     ]
    }
   ],
   "source": [
    "#SMOTE training set\n",
    "param_grid = {'n_estimators': [200, 400, 600, 1000],\n",
    "               'criterion': ['entropy', 'gini'],'n_jobs': [-1]}\n",
    "acc_scorer = make_scorer (f1_score)\n",
    "grid_forest = GridSearchCV(RandomForestClassifier(), param_grid, scoring = acc_scorer, cv=5)\n",
    "%time grid_forest = grid_forest.fit(x_SMOTE, y_SMOTE)\n",
    "print(grid_forest.best_estimator_) \n",
    "print(grid_forest.best_score_) \n",
    "forest_SMOTE = grid_forest.best_estimator_"
   ]
  },
  {
   "cell_type": "code",
   "execution_count": 102,
   "id": "820340ad",
   "metadata": {},
   "outputs": [],
   "source": [
    "forest_SMOTE = RandomForestClassifier(bootstrap=True, class_weight=None, criterion='gini',\n",
    "                   max_depth=None, max_features='auto',max_leaf_nodes=None, min_impurity_decrease=0.0, \n",
    "                   min_samples_leaf=1, min_samples_split=2,\n",
    "                   min_weight_fraction_leaf=0.0, n_estimators=600, n_jobs=-1, \n",
    "                   oob_score=False, random_state=None, verbose=0,warm_start=False)"
   ]
  },
  {
   "cell_type": "markdown",
   "id": "f9adb04b",
   "metadata": {},
   "source": [
    "# Adaboost implementation"
   ]
  },
  {
   "cell_type": "code",
   "execution_count": 154,
   "id": "9b540196",
   "metadata": {},
   "outputs": [
    {
     "name": "stdout",
     "output_type": "stream",
     "text": [
      "Wall time: 8min 52s\n"
     ]
    }
   ],
   "source": [
    "# normal training set\n",
    "param_grid = {'n_estimators': [200,300],\n",
    "              'algorithm': ['SAMME', 'SAMME.R'],\n",
    "              'learning_rate' : [0.5, 0.75, 1.0]}\n",
    "acc_scorer = make_scorer(f1_score)\n",
    "grid_ada=GridSearchCV(AdaBoostClassifier(), param_grid, scoring=acc_scorer, cv=5)\n",
    "%time grid_ada= grid_ada.fit(x_train, y_train) \n"
   ]
  },
  {
   "cell_type": "code",
   "execution_count": 156,
   "id": "125aafc1",
   "metadata": {},
   "outputs": [
    {
     "name": "stdout",
     "output_type": "stream",
     "text": [
      "AdaBoostClassifier(algorithm='SAMME', learning_rate=0.5, n_estimators=200)\n",
      "0.467506786892244\n"
     ]
    }
   ],
   "source": [
    "print(grid_ada.best_estimator_)\n",
    "print(grid_ada.best_score_) \n",
    "ada_normal=grid_ada.best_estimator_"
   ]
  },
  {
   "cell_type": "code",
   "execution_count": 114,
   "id": "58f7a7de",
   "metadata": {},
   "outputs": [],
   "source": [
    "#ada_normal= AdaBoostClassifier (algorithm= 'SAMME',\n",
    "                                base_estimator=DecisionTreeClassifier(class_weight='balanced', criterion='gini',\n",
    "                                                                      max_depth=None, max_features=None, max_leaf_nodes=None, \n",
    "                                                                      min_impurity_decrease=0.0, \n",
    "                                                                      min_samples_leaf=1, min_samples_split=2,\n",
    "                                                                      min_weight_fraction_leaf=0.0, random_state=None, \n",
    "                                                                      splitter='best'),\n",
    "                                learning_rate=0.75,n_estimators=300, random_state=None)"
   ]
  },
  {
   "cell_type": "code",
   "execution_count": 157,
   "id": "f964105f",
   "metadata": {},
   "outputs": [],
   "source": [
    "ada_normal=AdaBoostClassifier(algorithm='SAMME', base_estimator=None, \n",
    "                                 learning_rate=1.0, n_estimators=200, random_state=None)"
   ]
  },
  {
   "cell_type": "markdown",
   "id": "cdfc2e01",
   "metadata": {},
   "source": [
    "# Adaboost on upsampled data"
   ]
  },
  {
   "cell_type": "code",
   "execution_count": 118,
   "id": "453b7a43",
   "metadata": {},
   "outputs": [
    {
     "name": "stdout",
     "output_type": "stream",
     "text": [
      "Wall time: 12min 46s\n"
     ]
    }
   ],
   "source": [
    "# upsampled training set\n",
    "param_grid = {'n_estimators': [200,300],\n",
    "              'algorithm': ['SAMME', 'SAMME.R'],\n",
    "              'learning_rate' : [0.5, 0.75, 1.0]}\n",
    "acc_scorer = make_scorer(f1_score)\n",
    "grid_ada=GridSearchCV(AdaBoostClassifier(), param_grid, scoring=acc_scorer, cv=5)\n",
    "%time grid_ada = grid_ada.fit(X_upsampled, y_upsampled)\n"
   ]
  },
  {
   "cell_type": "code",
   "execution_count": 119,
   "id": "0375e7d6",
   "metadata": {},
   "outputs": [
    {
     "name": "stdout",
     "output_type": "stream",
     "text": [
      "AdaBoostClassifier(n_estimators=300)\n",
      "0.6983284411847273\n"
     ]
    }
   ],
   "source": [
    "print (grid_ada.best_estimator_)\n",
    "print (grid_ada.best_score_)\n",
    "ada_upsampled=grid_ada.best_estimator_"
   ]
  },
  {
   "cell_type": "code",
   "execution_count": 120,
   "id": "dcdaf723",
   "metadata": {},
   "outputs": [],
   "source": [
    "ada_upsampled=AdaBoostClassifier(algorithm='SAMME.R', base_estimator=None, \n",
    "                                 learning_rate=1.0, n_estimators=300, random_state=None)"
   ]
  },
  {
   "cell_type": "markdown",
   "id": "988b248a",
   "metadata": {},
   "source": [
    "# Adaboost on downsampled data"
   ]
  },
  {
   "cell_type": "code",
   "execution_count": 158,
   "id": "02243904",
   "metadata": {},
   "outputs": [
    {
     "name": "stdout",
     "output_type": "stream",
     "text": [
      "Wall time: 3min 41s\n"
     ]
    }
   ],
   "source": [
    "# downsampled training set\n",
    "param_grid = {'n_estimators': [200,300],\n",
    "              'algorithm': ['SAMME', 'SAMME.R'],\n",
    "              'learning_rate' : [0.5, 0.75, 1.0]}\n",
    "acc_scorer = make_scorer(f1_score)\n",
    "grid_ada=GridSearchCV(AdaBoostClassifier(), param_grid, scoring=acc_scorer, cv=5)\n",
    "%time grid_ada = grid_ada.fit(X_downsampled, y_downsampled)\n"
   ]
  },
  {
   "cell_type": "code",
   "execution_count": 159,
   "id": "3041e17d",
   "metadata": {},
   "outputs": [
    {
     "name": "stdout",
     "output_type": "stream",
     "text": [
      "AdaBoostClassifier(n_estimators=300)\n",
      "0.6782269403414984\n"
     ]
    }
   ],
   "source": [
    "print (grid_ada.best_estimator_)\n",
    "print (grid_ada.best_score_)\n",
    "ada_downsampled=grid_ada.best_estimator_"
   ]
  },
  {
   "cell_type": "code",
   "execution_count": 160,
   "id": "f58dba80",
   "metadata": {},
   "outputs": [],
   "source": [
    "ada_downsampled=AdaBoostClassifier(algorithm='SAMME.R', base_estimator=None, \n",
    "                                 learning_rate=1.0, n_estimators=300, random_state=None)"
   ]
  },
  {
   "cell_type": "markdown",
   "id": "3844e674",
   "metadata": {},
   "source": [
    "# Adaboost on SMOTE data"
   ]
  },
  {
   "cell_type": "code",
   "execution_count": 162,
   "id": "5e22be2f",
   "metadata": {},
   "outputs": [
    {
     "name": "stderr",
     "output_type": "stream",
     "text": [
      "E:\\Softwares\\Annaconda\\lib\\site-packages\\sklearn\\model_selection\\_validation.py:372: FitFailedWarning: \n",
      "30 fits failed out of a total of 60.\n",
      "The score on these train-test partitions for these parameters will be set to nan.\n",
      "If these failures are not expected, you can try to debug them by setting error_score='raise'.\n",
      "\n",
      "Below are more details about the failures:\n",
      "--------------------------------------------------------------------------------\n",
      "30 fits failed with the following error:\n",
      "Traceback (most recent call last):\n",
      "  File \"E:\\Softwares\\Annaconda\\lib\\site-packages\\sklearn\\model_selection\\_validation.py\", line 680, in _fit_and_score\n",
      "    estimator.fit(X_train, y_train, **fit_params)\n",
      "  File \"E:\\Softwares\\Annaconda\\lib\\site-packages\\sklearn\\ensemble\\_weight_boosting.py\", line 483, in fit\n",
      "    raise ValueError(\"algorithm %s is not supported\" % self.algorithm)\n",
      "ValueError: algorithm  SAMME is not supported\n",
      "\n",
      "  warnings.warn(some_fits_failed_message, FitFailedWarning)\n",
      "E:\\Softwares\\Annaconda\\lib\\site-packages\\sklearn\\model_selection\\_search.py:969: UserWarning: One or more of the test scores are non-finite: [       nan        nan        nan        nan        nan        nan\n",
      " 0.76680388 0.76747752 0.76958759 0.77169133 0.77247181 0.77209214]\n",
      "  warnings.warn(\n"
     ]
    },
    {
     "name": "stdout",
     "output_type": "stream",
     "text": [
      "Wall time: 7min 54s\n",
      "AdaBoostClassifier(n_estimators=200)\n",
      "0.7724718134581321\n"
     ]
    }
   ],
   "source": [
    "# SMOTE training set\n",
    "param_grid = {'n_estimators': [200,300],\n",
    "              'algorithm': [' SAMME', 'SAMME.R'],\n",
    "              'learning_rate' : [0.5, 0.75, 1.0]}\n",
    "acc_scorer = make_scorer(f1_score)\n",
    "grid_ada=GridSearchCV(AdaBoostClassifier(), param_grid, scoring=acc_scorer, cv=5)\n",
    "%time grid_ada = grid_ada.fit(x_SMOTE,y_SMOTE)\n",
    "print (grid_ada.best_estimator_)\n",
    "print (grid_ada.best_score_)\n",
    "ada_SMOTE=grid_ada.best_estimator_"
   ]
  },
  {
   "cell_type": "code",
   "execution_count": 163,
   "id": "f6c06c1c",
   "metadata": {},
   "outputs": [],
   "source": [
    "ada_SMOTE=AdaBoostClassifier(algorithm='SAMME.R', base_estimator=None, \n",
    "                            learning_rate=1.0, n_estimators=300, random_state=None)"
   ]
  },
  {
   "cell_type": "markdown",
   "id": "073896e0",
   "metadata": {},
   "source": [
    "# Gradient Boosting"
   ]
  },
  {
   "cell_type": "code",
   "execution_count": 135,
   "id": "26bc0c05",
   "metadata": {},
   "outputs": [
    {
     "name": "stdout",
     "output_type": "stream",
     "text": [
      "Wall time: 8min 55s\n",
      "GradientBoostingClassifier(learning_rate=0.5, n_estimators=300)\n",
      "0.45409455880364347\n"
     ]
    }
   ],
   "source": [
    "#normal training set\n",
    "from sklearn.ensemble import GradientBoostingClassifier\n",
    "param_grid ={'n_estimators':[200,300],\n",
    "            'learning_rate':[0.5,0.75,1.0]}\n",
    "acc_scorer=make_scorer(f1_score)\n",
    "grid_gbc=GridSearchCV (GradientBoostingClassifier(), param_grid, scoring=acc_scorer,cv=5)\n",
    "%time grid_gbc=grid_gbc.fit (x_train, y_train)\n",
    "print(grid_gbc.best_estimator_)\n",
    "print(grid_gbc.best_score_)\n",
    "gbc_normal=grid_gbc.best_estimator_"
   ]
  },
  {
   "cell_type": "code",
   "execution_count": 139,
   "id": "169899b1",
   "metadata": {},
   "outputs": [],
   "source": [
    "gbc_normal=GradientBoostingClassifier(criterion='friedman_mse',init=None,\n",
    "                                      learning_rate=0.5, loss='deviance', max_depth=3, \n",
    "                                      max_features=None, max_leaf_nodes=None, \n",
    "                                      min_impurity_decrease=0.0,  \n",
    "                                      min_samples_leaf=1, min_samples_split=2,\n",
    "                                      min_weight_fraction_leaf=0.0, n_estimators=200,\n",
    "                                      random_state=None,subsample=1.0,\n",
    "                                      verbose=0,warm_start=False)\n"
   ]
  },
  {
   "cell_type": "markdown",
   "id": "4b085e96",
   "metadata": {},
   "source": [
    "# Gradient Boosting on Upsampled data"
   ]
  },
  {
   "cell_type": "code",
   "execution_count": 143,
   "id": "9a033d21",
   "metadata": {},
   "outputs": [
    {
     "name": "stdout",
     "output_type": "stream",
     "text": [
      "Wall time: 13min 54s\n",
      "GradientBoostingClassifier(learning_rate=1.0, n_estimators=300)\n",
      "0.8418807947881886\n"
     ]
    }
   ],
   "source": [
    "# Upsampled training set\n",
    "param_grid ={'n_estimators':[200,300],\n",
    "            'learning_rate':[0.5,0.75,1.0]}\n",
    "acc_scorer=make_scorer(f1_score)\n",
    "grid_gbc=GridSearchCV (GradientBoostingClassifier(), param_grid, scoring=acc_scorer,cv=5)\n",
    "%time grid_gbc=grid_gbc.fit (X_upsampled, y_upsampled)\n",
    "print(grid_gbc.best_estimator_)\n",
    "print(grid_gbc.best_score_)\n",
    "gbc_upsampled=grid_gbc.best_estimator_"
   ]
  },
  {
   "cell_type": "code",
   "execution_count": 145,
   "id": "5a385703",
   "metadata": {},
   "outputs": [],
   "source": [
    "gbc_upsampled=GradientBoostingClassifier(criterion='friedman_mse',init=None,\n",
    "                                      learning_rate=0.5, loss='deviance', max_depth=3, \n",
    "                                      max_features=None, max_leaf_nodes=None, \n",
    "                                      min_impurity_decrease=0.0, \n",
    "                                      min_samples_leaf=1, min_samples_split=2,\n",
    "                                      min_weight_fraction_leaf=0.0, n_estimators=200,\n",
    "                                      random_state=None,subsample=1.0,\n",
    "                                      verbose=0,warm_start=False)\n"
   ]
  },
  {
   "cell_type": "code",
   "execution_count": null,
   "id": "99a78d7d",
   "metadata": {},
   "outputs": [],
   "source": []
  },
  {
   "cell_type": "markdown",
   "id": "befa78f0",
   "metadata": {},
   "source": [
    "# Gradient Boosting on downsampled data"
   ]
  },
  {
   "cell_type": "code",
   "execution_count": 147,
   "id": "ef69f2fc",
   "metadata": {},
   "outputs": [
    {
     "name": "stdout",
     "output_type": "stream",
     "text": [
      "Wall time: 3min 56s\n",
      "GradientBoostingClassifier(learning_rate=0.5, n_estimators=300)\n",
      "0.678131749737593\n"
     ]
    }
   ],
   "source": [
    "#downsampled training set\n",
    "param_grid ={'n_estimators':[200,300],\n",
    "            'learning_rate':[0.5,0.75,1.0]}\n",
    "acc_scorer=make_scorer(f1_score)\n",
    "grid_gbc=GridSearchCV (GradientBoostingClassifier(), param_grid, scoring=acc_scorer,cv=5)\n",
    "%time grid_gbc=grid_gbc.fit (X_downsampled, y_downsampled)\n",
    "print(grid_gbc.best_estimator_)\n",
    "print(grid_gbc.best_score_)\n",
    "gbc_downsampled=grid_gbc.best_estimator_"
   ]
  },
  {
   "cell_type": "code",
   "execution_count": 148,
   "id": "efedce7e",
   "metadata": {},
   "outputs": [],
   "source": [
    "gbc_downsampled=GradientBoostingClassifier(criterion='friedman_mse',init=None,\n",
    "                                      learning_rate=0.5, loss='deviance', max_depth=3, \n",
    "                                      max_features=None, max_leaf_nodes=None, \n",
    "                                      min_impurity_decrease=0.0,  \n",
    "                                      min_samples_leaf=1, min_samples_split=2,\n",
    "                                      min_weight_fraction_leaf=0.0, n_estimators=200,\n",
    "                                      random_state=None,subsample=1.0,\n",
    "                                      verbose=0,warm_start=False)\n"
   ]
  },
  {
   "cell_type": "code",
   "execution_count": null,
   "id": "0452157e",
   "metadata": {},
   "outputs": [],
   "source": []
  },
  {
   "cell_type": "markdown",
   "id": "170c8362",
   "metadata": {},
   "source": [
    "# Gradient Boosting on SMOTE data"
   ]
  },
  {
   "cell_type": "code",
   "execution_count": 151,
   "id": "8bda8a6d",
   "metadata": {},
   "outputs": [
    {
     "name": "stdout",
     "output_type": "stream",
     "text": [
      "Wall time: 16min 23s\n",
      "GradientBoostingClassifier(learning_rate=0.5, n_estimators=200)\n",
      "0.7883784367502803\n"
     ]
    }
   ],
   "source": [
    "#normal training set\n",
    "param_grid ={'n_estimators':[200,300],\n",
    "            'learning_rate':[0.5,0.75,1.0]}\n",
    "acc_scorer=make_scorer(f1_score)\n",
    "grid_gbc=GridSearchCV (GradientBoostingClassifier(), param_grid, scoring=acc_scorer,cv=5)\n",
    "%time grid_gbc=grid_gbc.fit (x_SMOTE, y_SMOTE)\n",
    "print(grid_gbc.best_estimator_)\n",
    "print(grid_gbc.best_score_)\n",
    "gbc_SMOTE=grid_gbc.best_estimator_"
   ]
  },
  {
   "cell_type": "code",
   "execution_count": 152,
   "id": "d4246e6b",
   "metadata": {},
   "outputs": [],
   "source": [
    "gbc_SMOTE=GradientBoostingClassifier(criterion='friedman_mse',init=None,\n",
    "                                      learning_rate=0.5, loss='deviance', max_depth=3, \n",
    "                                      max_features=None, max_leaf_nodes=None, \n",
    "                                      min_impurity_decrease=0.0, \n",
    "                                      min_samples_leaf=1, min_samples_split=2,\n",
    "                                      min_weight_fraction_leaf=0.0, n_estimators=200,\n",
    "                                      random_state=None,subsample=1.0,\n",
    "                                      verbose=0,warm_start=False)\n"
   ]
  },
  {
   "cell_type": "code",
   "execution_count": null,
   "id": "4e9989d7",
   "metadata": {},
   "outputs": [],
   "source": []
  },
  {
   "cell_type": "markdown",
   "id": "23cda32e",
   "metadata": {},
   "source": [
    "True positives and the false negatives are the models that we need to concentrate on the most considering the problem.\n",
    "true positives= defaulters who were predicted correctly\n",
    "false negatives =defaulters who could not be detected.\n",
    "So in this case the true positives to false negatives ratio must be as high as possible to detect as much defaulters correctly as possible."
   ]
  },
  {
   "cell_type": "markdown",
   "id": "86e6e0d6",
   "metadata": {},
   "source": [
    "# Final predictions"
   ]
  },
  {
   "cell_type": "code",
   "execution_count": 173,
   "id": "6f876b14",
   "metadata": {},
   "outputs": [
    {
     "name": "stdout",
     "output_type": "stream",
     "text": [
      "Wall time: 10.4 s\n",
      "________\n",
      "fl score:0.452\n",
      "Accuracy:0.813\n",
      "_________\n",
      "True Positives: 696\n",
      "False Positives: 391\n",
      "True Negative: 6618\n",
      "False Negative:1295\n",
      "precision: 0.64\n",
      "Recall: 0.413\n"
     ]
    }
   ],
   "source": [
    "#Normal sample training\n",
    "%time forest_normal.fit(x_train, y_train) \n",
    "predictions=forest_normal.predict(x_test) \n",
    "print(\"________\")\n",
    "print (\"fl score:{}\". format (round (f1_score (y_true=y_test, y_pred=predictions),3)))\n",
    "print (\"Accuracy:{}\". format (round (accuracy_score (y_true=y_test, y_pred=predictions),3))) \n",
    "print(\"_________\")\n",
    "\n",
    "TP=np.sum(np.logical_and(predictions == 1, y_test==1))\n",
    "TN=np.sum(np.logical_and(predictions == 0, y_test==0))\n",
    "FP=np.sum(np.logical_and(predictions == 1, y_test==0))\n",
    "FN=np.sum(np.logical_and(predictions == 0, y_test==1))\n",
    "pred = len(predictions)\n",
    "\n",
    "print ('True Positives: {}'.format (TP))\n",
    "print( 'False Positives: {}'. format (FP))\n",
    "print ('True Negative: {}'. format (TN))\n",
    "print( 'False Negative:{}'. format (FN))\n",
    "print('precision: {}'.format (round (TP/ (TP+FP), 2)) )\n",
    "print('Recall: {}'.format (round (TP / (FP+FN) ,3)))"
   ]
  },
  {
   "cell_type": "code",
   "execution_count": 174,
   "id": "cf3600cb",
   "metadata": {},
   "outputs": [
    {
     "name": "stdout",
     "output_type": "stream",
     "text": [
      "Wall time: 15.1 s\n",
      "________\n",
      "fl score:0.485\n",
      "Accuracy:0.806\n",
      "_________\n",
      "True Positives: 821\n",
      "False Positives: 574\n",
      "True Negative: 6435\n",
      "False Negative:1170\n",
      "precision: 0.59\n",
      "Recall: 0.471\n"
     ]
    }
   ],
   "source": [
    "# Upsample training set\n",
    "\n",
    "%time forest_upsampled.fit(X_upsampled, y_upsampled) \n",
    "predictions=forest_upsampled.predict(x_test) \n",
    "print(\"________\")\n",
    "print (\"fl score:{}\". format (round (f1_score (y_true=y_test, y_pred=predictions),3)))\n",
    "print (\"Accuracy:{}\". format (round (accuracy_score (y_true=y_test, y_pred=predictions),3))) \n",
    "print(\"_________\")\n",
    "\n",
    "TP=np.sum(np.logical_and(predictions == 1, y_test==1))\n",
    "TN=np.sum(np.logical_and(predictions == 0, y_test==0))\n",
    "FP=np.sum(np.logical_and(predictions == 1, y_test==0))\n",
    "FN=np.sum(np.logical_and(predictions == 0, y_test==1))\n",
    "pred = len(predictions)\n",
    "\n",
    "print ('True Positives: {}'.format (TP))\n",
    "print( 'False Positives: {}'. format (FP))\n",
    "print ('True Negative: {}'. format (TN))\n",
    "print( 'False Negative:{}'. format (FN))\n",
    "print('precision: {}'.format (round (TP/ (TP+FP), 2)) )\n",
    "print('Recall: {}'.format (round (TP / (FP+FN) ,3)))"
   ]
  },
  {
   "cell_type": "code",
   "execution_count": 175,
   "id": "ceda350a",
   "metadata": {},
   "outputs": [
    {
     "name": "stdout",
     "output_type": "stream",
     "text": [
      "Wall time: 5.41 s\n",
      "________\n",
      "fl score:0.52\n",
      "Accuracy:0.736\n",
      "_________\n",
      "True Positives: 1287\n",
      "False Positives: 1670\n",
      "True Negative: 5339\n",
      "False Negative:704\n",
      "precision: 0.44\n",
      "Recall: 0.542\n"
     ]
    }
   ],
   "source": [
    "# Downsample training set\n",
    "\n",
    "%time forest_downsampled.fit(X_downsampled, y_downsampled) \n",
    "predictions=forest_downsampled.predict(x_test) \n",
    "print(\"________\")\n",
    "print (\"fl score:{}\". format (round (f1_score (y_true=y_test, y_pred=predictions),3)))\n",
    "print (\"Accuracy:{}\". format (round (accuracy_score (y_true=y_test, y_pred=predictions),3))) \n",
    "print(\"_________\")\n",
    "\n",
    "TP=np.sum(np.logical_and(predictions == 1, y_test==1))\n",
    "TN=np.sum(np.logical_and(predictions == 0, y_test==0))\n",
    "FP=np.sum(np.logical_and(predictions == 1, y_test==0))\n",
    "FN=np.sum(np.logical_and(predictions == 0, y_test==1))\n",
    "pred = len(predictions)\n",
    "\n",
    "print ('True Positives: {}'.format (TP))\n",
    "print( 'False Positives: {}'. format (FP))\n",
    "print ('True Negative: {}'. format (TN))\n",
    "print( 'False Negative:{}'. format (FN))\n",
    "print('precision: {}'.format (round (TP/ (TP+FP), 2)) )\n",
    "print('Recall: {}'.format (round (TP / (FP+FN) ,3)))"
   ]
  },
  {
   "cell_type": "code",
   "execution_count": 176,
   "id": "3ebce454",
   "metadata": {},
   "outputs": [
    {
     "name": "stdout",
     "output_type": "stream",
     "text": [
      "Wall time: 15.4 s\n",
      "________\n",
      "fl score:0.503\n",
      "Accuracy:0.8\n",
      "_________\n",
      "True Positives: 913\n",
      "False Positives: 724\n",
      "True Negative: 6285\n",
      "False Negative:1078\n",
      "precision: 0.56\n",
      "Recall: 0.507\n"
     ]
    }
   ],
   "source": [
    "# SMOTE training set\n",
    "\n",
    "%time forest_SMOTE.fit(x_SMOTE, y_SMOTE) \n",
    "predictions=forest_SMOTE.predict(x_test) \n",
    "print(\"________\")\n",
    "print (\"fl score:{}\". format (round (f1_score (y_true=y_test, y_pred=predictions),3)))\n",
    "print (\"Accuracy:{}\". format (round (accuracy_score (y_true=y_test, y_pred=predictions),3))) \n",
    "print(\"_________\")\n",
    "\n",
    "TP=np.sum(np.logical_and(predictions == 1, y_test==1))\n",
    "TN=np.sum(np.logical_and(predictions == 0, y_test==0))\n",
    "FP=np.sum(np.logical_and(predictions == 1, y_test==0))\n",
    "FN=np.sum(np.logical_and(predictions == 0, y_test==1))\n",
    "pred = len(predictions)\n",
    "\n",
    "print ('True Positives: {}'.format (TP))\n",
    "print( 'False Positives: {}'. format (FP))\n",
    "print ('True Negative: {}'. format (TN))\n",
    "print( 'False Negative:{}'. format (FN))\n",
    "print('precision: {}'.format (round (TP/ (TP+FP), 2)) )\n",
    "print('Recall: {}'.format (round (TP / (FP+FN) ,3)))"
   ]
  },
  {
   "cell_type": "markdown",
   "id": "37fd380e",
   "metadata": {},
   "source": [
    "If you check the support column of the test data when you see the classification report it will tell you how many class 1's are there in your test data and you are interested in those as you have to predict the defaulters correctly.\n",
    "\n",
    "In these we are corncerned with true positives andfalse negatives which is basically recall.\n",
    "Usually recall is more important than precision because we want a specific class to be better and recall is the measure that concentrates on a particular class but on the other hand precision is the measure that is a more generalized way of prediction.For eg: to detect whether a person has cancer or not it is extremely important to be able to detect all the persons who have cancer and that class is more important and thus in such places recall plays a vital role than precision and the decision of the model is then more dependent on the values of recall.\n",
    "\n",
    "In this case from a recall point of view SMOTE is giving better results than compared to others. TP/FN ratio is best for downsampling.Accuracy we get is misclassification acc so its  not really much important for us. High recall for class 1 is important for us.\n",
    "Downsampling is showing good here so sometimes the theory does not match that is why you should balance with all the 3 methods and then see which performs good in every model.\n",
    "Do not ever 1st resample the data first split it into train test split and then only do these on training data else validation doesn't make sense\n",
    "Check the cross validation accuracy to see if the model is robust and that is already done in gridsearch cv"
   ]
  },
  {
   "cell_type": "markdown",
   "id": "ad38e720",
   "metadata": {},
   "source": [
    "# Conclusion"
   ]
  },
  {
   "cell_type": "markdown",
   "id": "e3e71a67",
   "metadata": {},
   "source": [
    "The credit card default prediction analysis on the dataset of 30,000 customers from a Taiwanese bank using various techniques to handle class imbalance was conducted. \n",
    "\n",
    "Additionally, downsampling was found to be effective in addressing class imbalance in the credit card default prediction analysis. By reducing the number of instances in the majority class, downsampling helped to improve the performance of the machine learning algorithms, resulting in better results in terms of recall, true positive rate, and overall accuracy. This finding suggests that downsampling can be a valuable technique in handling class imbalance in similar credit card default prediction projects.\n",
    "\n",
    "Among the machine learning algorithms applied, Random Forest achieved the best performance with the highest recall and true positive rate and the lowest false positives, resulting in an accuracy of 73.6%. Data visualization and insights gathering were performed using Tableau."
   ]
  },
  {
   "cell_type": "code",
   "execution_count": null,
   "id": "48a78c9d",
   "metadata": {},
   "outputs": [],
   "source": []
  }
 ],
 "metadata": {
  "kernelspec": {
   "display_name": "Python 3 (ipykernel)",
   "language": "python",
   "name": "python3"
  },
  "language_info": {
   "codemirror_mode": {
    "name": "ipython",
    "version": 3
   },
   "file_extension": ".py",
   "mimetype": "text/x-python",
   "name": "python",
   "nbconvert_exporter": "python",
   "pygments_lexer": "ipython3",
   "version": "3.9.7"
  }
 },
 "nbformat": 4,
 "nbformat_minor": 5
}
